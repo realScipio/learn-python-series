{
 "cells": [
  {
   "cell_type": "markdown",
   "metadata": {},
   "source": [
    "# Learn Python Series (#32) - Data Science Part 3 - Pandas"
   ]
  },
  {
   "cell_type": "markdown",
   "metadata": {},
   "source": [
    "### Repository\n",
    "- https://github.com/pandas-dev/pandas\n",
    "- https://github.com/python/cpython\n",
    "\n",
    "### What will I learn?\n",
    "- You will learn what \"time series resampling\" means;\n",
    "- how and why resampling provides essential insights looking at different time series windows / resolutions;\n",
    "- how to aggregate multiple columns of data and use column-specific resampling rules;\n",
    "- how to compute rolling (moving) window values.\n",
    "\n",
    "### Requirements\n",
    "- A working modern computer running macOS, Windows or Ubuntu;\n",
    "- An installed Python 3(.7) distribution, such as (for example) the Anaconda Distribution;\n",
    "- The ambition to learn Python programming.\n",
    "\n",
    "### Difficulty\n",
    "- Beginner, intermediate"
   ]
  },
  {
   "cell_type": "markdown",
   "metadata": {},
   "source": [
    "### Additional sample code files\n",
    "The full - and working! - iPython tutorial sample code file is included for you to download and run for yourself right here:\n",
    "\n",
    "\n",
    "The example CSV file that was used in the #31 episodes is copied to the lps-032 folder as well:\n",
    "\n",
    "https://github.com/realScipio/learn-python-series/blob/master/lps-032/btcusdt_20190602_20190604_1min_hloc.csv\n",
    "\n",
    "### GitHub Account\n",
    "https://github.com/realScipio"
   ]
  },
  {
   "cell_type": "markdown",
   "metadata": {},
   "source": [
    "# Learn Python Series (#32) - Data Science Part 3 - Pandas"
   ]
  },
  {
   "cell_type": "markdown",
   "metadata": {},
   "source": [
    "### Re-loading the actual BTCUSDT financial data using `pandas`\n",
    "First, let's again read and open the file `btcusdt_20190602_20190604_1min_hloc.csv` [found here](https://github.com/realScipio/learn-python-series/blob/master/lps-032/btcusdt_20190602_20190604_1min_hloc.csv) on my GitHub account, (after having saved the file to your current working directory, from which you're also opening it using `.read_csv()`):"
   ]
  },
  {
   "cell_type": "code",
   "execution_count": 2,
   "metadata": {},
   "outputs": [
    {
     "data": {
      "text/html": [
       "<div>\n",
       "<style scoped>\n",
       "    .dataframe tbody tr th:only-of-type {\n",
       "        vertical-align: middle;\n",
       "    }\n",
       "\n",
       "    .dataframe tbody tr th {\n",
       "        vertical-align: top;\n",
       "    }\n",
       "\n",
       "    .dataframe thead th {\n",
       "        text-align: right;\n",
       "    }\n",
       "</style>\n",
       "<table border=\"1\" class=\"dataframe\">\n",
       "  <thead>\n",
       "    <tr style=\"text-align: right;\">\n",
       "      <th></th>\n",
       "      <th>open</th>\n",
       "      <th>high</th>\n",
       "      <th>low</th>\n",
       "      <th>close</th>\n",
       "      <th>volume</th>\n",
       "    </tr>\n",
       "    <tr>\n",
       "      <th>datetime</th>\n",
       "      <th></th>\n",
       "      <th></th>\n",
       "      <th></th>\n",
       "      <th></th>\n",
       "      <th></th>\n",
       "    </tr>\n",
       "  </thead>\n",
       "  <tbody>\n",
       "    <tr>\n",
       "      <th>2019-06-02 00:00:00+00:00</th>\n",
       "      <td>8545.10</td>\n",
       "      <td>8548.55</td>\n",
       "      <td>8535.98</td>\n",
       "      <td>8537.67</td>\n",
       "      <td>17.349543</td>\n",
       "    </tr>\n",
       "    <tr>\n",
       "      <th>2019-06-02 00:01:00+00:00</th>\n",
       "      <td>8537.53</td>\n",
       "      <td>8543.49</td>\n",
       "      <td>8524.00</td>\n",
       "      <td>8534.66</td>\n",
       "      <td>31.599922</td>\n",
       "    </tr>\n",
       "    <tr>\n",
       "      <th>2019-06-02 00:02:00+00:00</th>\n",
       "      <td>8533.64</td>\n",
       "      <td>8540.13</td>\n",
       "      <td>8529.98</td>\n",
       "      <td>8534.97</td>\n",
       "      <td>7.011458</td>\n",
       "    </tr>\n",
       "    <tr>\n",
       "      <th>2019-06-02 00:03:00+00:00</th>\n",
       "      <td>8534.97</td>\n",
       "      <td>8551.76</td>\n",
       "      <td>8534.00</td>\n",
       "      <td>8551.76</td>\n",
       "      <td>5.992965</td>\n",
       "    </tr>\n",
       "    <tr>\n",
       "      <th>2019-06-02 00:04:00+00:00</th>\n",
       "      <td>8551.76</td>\n",
       "      <td>8554.76</td>\n",
       "      <td>8544.62</td>\n",
       "      <td>8549.30</td>\n",
       "      <td>15.771411</td>\n",
       "    </tr>\n",
       "  </tbody>\n",
       "</table>\n",
       "</div>"
      ],
      "text/plain": [
       "                              open     high      low    close     volume\n",
       "datetime                                                                \n",
       "2019-06-02 00:00:00+00:00  8545.10  8548.55  8535.98  8537.67  17.349543\n",
       "2019-06-02 00:01:00+00:00  8537.53  8543.49  8524.00  8534.66  31.599922\n",
       "2019-06-02 00:02:00+00:00  8533.64  8540.13  8529.98  8534.97   7.011458\n",
       "2019-06-02 00:03:00+00:00  8534.97  8551.76  8534.00  8551.76   5.992965\n",
       "2019-06-02 00:04:00+00:00  8551.76  8554.76  8544.62  8549.30  15.771411"
      ]
     },
     "execution_count": 2,
     "metadata": {},
     "output_type": "execute_result"
    }
   ],
   "source": [
    "import pandas as pd\n",
    "df = pd.read_csv('btcusdt_20190602_20190604_1min_hloc.csv', \n",
    "                 parse_dates=['datetime'], index_col='datetime')\n",
    "df.head()"
   ]
  },
  {
   "cell_type": "markdown",
   "metadata": {},
   "source": [
    "Let's again plot the opening prices of Bitcoin per minute, for a visual reference (to be compared shortly hereafter in the remainder of this tutorial episode):"
   ]
  },
  {
   "cell_type": "code",
   "execution_count": 5,
   "metadata": {},
   "outputs": [
    {
     "name": "stderr",
     "output_type": "stream",
     "text": [
      "/anaconda3/lib/python3.7/site-packages/pandas/core/arrays/datetimes.py:1172: UserWarning: Converting to PeriodArray/Index representation will drop timezone information.\n",
      "  \"will drop timezone information.\", UserWarning)\n"
     ]
    },
    {
     "data": {
      "text/plain": [
       "<matplotlib.axes._subplots.AxesSubplot at 0x1182a3860>"
      ]
     },
     "execution_count": 5,
     "metadata": {},
     "output_type": "execute_result"
    },
    {
     "data": {
      "image/png": "[encoded data removed]",
      "text/plain": [
       "<Figure size 432x288 with 1 Axes>"
      ]
     },
     "metadata": {
      "needs_background": "light"
     },
     "output_type": "display_data"
    }
   ],
   "source": [
    "%matplotlib inline\n",
    "df['open'].plot()"
   ]
  },
  {
   "cell_type": "markdown",
   "metadata": {},
   "source": [
    "# Resampling time series using `.resample()`\n",
    "A very interesting features the `pandas` library provides, is **time series resampling**. In essence this means **grouping** a number of small time span data rows into a larger time span.\n",
    "\n",
    "For example, if you \"resample\" the current DataFrame consisting of 1-minute Binance ticks on the BTC_USDT trading pair into hourly intervals, that means you are grouping 60 1-minute ticks into 1 hourly tick.\n",
    "\n",
    "To do this, you can use the `.resample()` method and pass in a so-called time span **\"offset alias\"** (= frequency) as the method argument.\n",
    "\n",
    "For example, to resample the \"open\" column values (the BTCUSDT opening price data), using the mean values, and to assign those values to a new `df_hourly` DataFrame:"
   ]
  },
  {
   "cell_type": "code",
   "execution_count": 11,
   "metadata": {},
   "outputs": [
    {
     "data": {
      "text/plain": [
       "datetime\n",
       "2019-06-02 00:00:00+00:00    8562.740500\n",
       "2019-06-02 01:00:00+00:00    8570.234667\n",
       "2019-06-02 02:00:00+00:00    8565.278167\n",
       "2019-06-02 03:00:00+00:00    8551.818333\n",
       "2019-06-02 04:00:00+00:00    8553.886333\n",
       "Freq: H, Name: open, dtype: float64"
      ]
     },
     "execution_count": 11,
     "metadata": {},
     "output_type": "execute_result"
    }
   ],
   "source": [
    "df_hourly = df['open'].resample('H').mean()\n",
    "df_hourly.head()"
   ]
  },
  {
   "cell_type": "markdown",
   "metadata": {},
   "source": [
    "As you can see in the above `.head()` output, indeed the 1 minute ticks are precisely grouped into hourly values now.\n",
    "\n",
    "It is also possible to achieve the same DataFrame output, by grouping by 60 minutes. This might seem trivial / just another way to achieve the same effect, but please note that it is also possible to prepend an integer value as a multiplier to the time span offset aliases (e.g. \"5min\", \"15min\", \"60min\", \"4H\", et cetera):"
   ]
  },
  {
   "cell_type": "code",
   "execution_count": 12,
   "metadata": {},
   "outputs": [
    {
     "data": {
      "text/plain": [
       "datetime\n",
       "2019-06-02 00:00:00+00:00    8562.740500\n",
       "2019-06-02 01:00:00+00:00    8570.234667\n",
       "2019-06-02 02:00:00+00:00    8565.278167\n",
       "2019-06-02 03:00:00+00:00    8551.818333\n",
       "2019-06-02 04:00:00+00:00    8553.886333\n",
       "Freq: 60T, Name: open, dtype: float64"
      ]
     },
     "execution_count": 12,
     "metadata": {},
     "output_type": "execute_result"
    }
   ],
   "source": [
    "df_60min = df['open'].resample('60min').mean()\n",
    "df_60min.head()"
   ]
  },
  {
   "cell_type": "markdown",
   "metadata": {},
   "source": [
    "# Resampling time series data by aggregating (using `.agg()`) multiple columns each with a different operation\n",
    "In the previous examples it was explained how to resample **one column** of data values (the 1-minute opening prices of BTCUSDT) into larger time spans. However, our current data set contains multiple columns of data (\"open\", \"low\", \"high\", \"close\", \"volume\") and ideally you want to resample each column differently.\n",
    "\n",
    "For example:\n",
    "\n",
    "- the \"opening prices\" of 1-hour ticks should stay the first value of the first minute of data. Each hour of data still began with the first tick of data;\n",
    "- the \"low prices\" within 1 hour of data should be the minimum value recorded within that entire hour;\n",
    "- the \"high prices\" within 1 hour of data should be the maximum value recorded within that entire hour;\n",
    "- the \"closing prices\" should remain the last recorded value;\n",
    "- the \"volume\" data should be summed as a cumulative value within each hour.\n",
    "\n",
    "To do this, you can resample by chaining the `.resample()` method with an `agg()` (short for \"aggregate\") method, and then pass in a dictionary containing key-value pairs reflected by \"column\": \"how\"). Like so:"
   ]
  },
  {
   "cell_type": "code",
   "execution_count": 13,
   "metadata": {},
   "outputs": [
    {
     "data": {
      "text/html": [
       "<div>\n",
       "<style scoped>\n",
       "    .dataframe tbody tr th:only-of-type {\n",
       "        vertical-align: middle;\n",
       "    }\n",
       "\n",
       "    .dataframe tbody tr th {\n",
       "        vertical-align: top;\n",
       "    }\n",
       "\n",
       "    .dataframe thead th {\n",
       "        text-align: right;\n",
       "    }\n",
       "</style>\n",
       "<table border=\"1\" class=\"dataframe\">\n",
       "  <thead>\n",
       "    <tr style=\"text-align: right;\">\n",
       "      <th></th>\n",
       "      <th>open</th>\n",
       "      <th>high</th>\n",
       "      <th>low</th>\n",
       "      <th>close</th>\n",
       "      <th>volume</th>\n",
       "    </tr>\n",
       "    <tr>\n",
       "      <th>datetime</th>\n",
       "      <th></th>\n",
       "      <th></th>\n",
       "      <th></th>\n",
       "      <th></th>\n",
       "      <th></th>\n",
       "    </tr>\n",
       "  </thead>\n",
       "  <tbody>\n",
       "    <tr>\n",
       "      <th>2019-06-02 00:00:00+00:00</th>\n",
       "      <td>8545.10</td>\n",
       "      <td>8588.33</td>\n",
       "      <td>8524.00</td>\n",
       "      <td>8585.88</td>\n",
       "      <td>593.133892</td>\n",
       "    </tr>\n",
       "    <tr>\n",
       "      <th>2019-06-02 01:00:00+00:00</th>\n",
       "      <td>8564.97</td>\n",
       "      <td>8598.00</td>\n",
       "      <td>8550.89</td>\n",
       "      <td>8595.58</td>\n",
       "      <td>787.293606</td>\n",
       "    </tr>\n",
       "    <tr>\n",
       "      <th>2019-06-02 02:00:00+00:00</th>\n",
       "      <td>8570.35</td>\n",
       "      <td>8582.64</td>\n",
       "      <td>8540.00</td>\n",
       "      <td>8582.15</td>\n",
       "      <td>660.086969</td>\n",
       "    </tr>\n",
       "    <tr>\n",
       "      <th>2019-06-02 03:00:00+00:00</th>\n",
       "      <td>8549.23</td>\n",
       "      <td>8569.23</td>\n",
       "      <td>8525.97</td>\n",
       "      <td>8565.81</td>\n",
       "      <td>664.017888</td>\n",
       "    </tr>\n",
       "    <tr>\n",
       "      <th>2019-06-02 04:00:00+00:00</th>\n",
       "      <td>8545.93</td>\n",
       "      <td>8573.18</td>\n",
       "      <td>8540.40</td>\n",
       "      <td>8570.53</td>\n",
       "      <td>498.116310</td>\n",
       "    </tr>\n",
       "  </tbody>\n",
       "</table>\n",
       "</div>"
      ],
      "text/plain": [
       "                              open     high      low    close      volume\n",
       "datetime                                                                 \n",
       "2019-06-02 00:00:00+00:00  8545.10  8588.33  8524.00  8585.88  593.133892\n",
       "2019-06-02 01:00:00+00:00  8564.97  8598.00  8550.89  8595.58  787.293606\n",
       "2019-06-02 02:00:00+00:00  8570.35  8582.64  8540.00  8582.15  660.086969\n",
       "2019-06-02 03:00:00+00:00  8549.23  8569.23  8525.97  8565.81  664.017888\n",
       "2019-06-02 04:00:00+00:00  8545.93  8573.18  8540.40  8570.53  498.116310"
      ]
     },
     "execution_count": 13,
     "metadata": {},
     "output_type": "execute_result"
    }
   ],
   "source": [
    "df_complete_1h = df.resample('H').agg({\n",
    "    'open': 'first',\n",
    "    'high': 'max',\n",
    "    'low': 'min',\n",
    "    'close': 'max',\n",
    "    'volume': 'sum'\n",
    "})\n",
    "df_complete_1h.head()"
   ]
  },
  {
   "cell_type": "markdown",
   "metadata": {},
   "source": [
    "**Why multi-dimensional data-specific resampling and aggregation is very powerful and useful:**\n",
    "\n",
    "The techniques discussed just now are very powerful and useful, because - in case you (for example) want to perform technical analysis on OHLC&Volume data ticks on multiple time span resolutions / intervals -, when taking a close look at trading data (for example on an exchange such as Binance, or using visual charts provided via TradingView charting widgets), and \"zooming in\" on the 1-minute candles, price might appear to be in a short-term downtrend, but when zooming out to (for example) the 4H time span resolution then you suddenly notice price is still in an uptrend.\n",
    "\n",
    "Visually inspecting time series (e.g. trading) data using just one specific time span resolution can therefore be deceiving and could lead you to forming the wrong conclusions (which can be very costly); when in a major (large time span) uptrend but focusing only on 1-minute (small time span) data, merely correcting in a short-term downtrend, you might be inclined to sell, only very shortly afterwards finding out the major (large time span) uptrend to continue. And vice versa, of course. Deriving insights by looking at \"multiple time series zoom levels\", is very important to be able to properly estimate the \"intensity\" of \"change\" and \"direction\".\n",
    "\n",
    "Using the combined `resample()` and `agg()` data grouping methods, as explained above, the only data you need to fetch from source is **the smallest time span resolution you are interested in**. On Binance for example you can view the time span resolutions \"1min\", \"3min\", \"5min\", \"15min\", \"30min\", \"1H\", \"2H\", \"4H\", \"6H\", \"12H\", \"1D\", \"1W\" and \"1M\".\n",
    "By fetching **only** the 1-min k-line tick data, you can resample and aggregate **all** time span resolution data, which can bring you better insights to come to better decision making: exactly the core objective of Data Science."
   ]
  },
  {
   "cell_type": "markdown",
   "metadata": {},
   "source": [
    "# Rolling window calculations using `.rolling()`\n",
    "Both in Data Science (in general) and financial technical analysis (specifically), keeping track of rolling / moving averages may yield powerful new insights. When you're active with crypto currencies, at some point (rather sooner than later, probably) you will come accross exchanges for trading tokens, which come with a multitude of \"technical indicators\". Again looking at the Binance exchange, in this example case at the BTCUSDT trading pair (Bitcoin against the USD-pegged Tether token), by default (viewing any time span resolution) in the same charts where the Open-Low-High-Close candles are plotted you'll also see two colored lines dubbed as _\"MA(25)\"_ and _\"MA(99)\"_.\n",
    "\n",
    "In more financially versed circles, those two \"technical indicators\" are referred to as **\"Simple** Moving Averages\" (as opposed to for example \"Exponential Moving Averages\").\n",
    "A Simple Moving Average is computed by looking (at any given tick) at N interval ticks backward in time, then computing the mean (average) value of those N ticks, and adding that SMA value to the current tick.\n",
    "\n",
    "For example \"(S)MA(25)\" on Binance means: \"_let's use the previous 25 minute values, compute the mean value from those, and use that as a new value; the next minute we will shift upward 1 tick and re-compute the mean values for the next interval_\". In this case (at \"MA(25)\") `N=25` and the \"MA(99)\" indicators uses N=99.\n",
    "\n",
    "The mean values are \"moving\" or \"rolling\" as time goes by, and by storing those rolling averages as a new column in our DataFrame we get a much \"smoother\" representation of how price has been developing over time.\n",
    "\n",
    "`pandas` provides a `.rolling()` method to compute the same data you see on a trading exchange such as Binance. In order to produce similar results, let's again use the original DataFrame (the non-resampled 1-minute ticks found in the provided CSV file), but this time only the 'open' price column data."
   ]
  },
  {
   "cell_type": "code",
   "execution_count": 33,
   "metadata": {},
   "outputs": [
    {
     "data": {
      "text/html": [
       "<div>\n",
       "<style scoped>\n",
       "    .dataframe tbody tr th:only-of-type {\n",
       "        vertical-align: middle;\n",
       "    }\n",
       "\n",
       "    .dataframe tbody tr th {\n",
       "        vertical-align: top;\n",
       "    }\n",
       "\n",
       "    .dataframe thead th {\n",
       "        text-align: right;\n",
       "    }\n",
       "</style>\n",
       "<table border=\"1\" class=\"dataframe\">\n",
       "  <thead>\n",
       "    <tr style=\"text-align: right;\">\n",
       "      <th></th>\n",
       "      <th>open</th>\n",
       "      <th>sma25</th>\n",
       "      <th>sma99</th>\n",
       "    </tr>\n",
       "    <tr>\n",
       "      <th>datetime</th>\n",
       "      <th></th>\n",
       "      <th></th>\n",
       "      <th></th>\n",
       "    </tr>\n",
       "  </thead>\n",
       "  <tbody>\n",
       "    <tr>\n",
       "      <th>2019-06-04 23:55:00+00:00</th>\n",
       "      <td>7676.54</td>\n",
       "      <td>7659.2484</td>\n",
       "      <td>7645.560404</td>\n",
       "    </tr>\n",
       "    <tr>\n",
       "      <th>2019-06-04 23:56:00+00:00</th>\n",
       "      <td>7689.76</td>\n",
       "      <td>7660.5348</td>\n",
       "      <td>7646.478081</td>\n",
       "    </tr>\n",
       "    <tr>\n",
       "      <th>2019-06-04 23:57:00+00:00</th>\n",
       "      <td>7696.69</td>\n",
       "      <td>7662.3408</td>\n",
       "      <td>7647.454747</td>\n",
       "    </tr>\n",
       "    <tr>\n",
       "      <th>2019-06-04 23:58:00+00:00</th>\n",
       "      <td>7697.66</td>\n",
       "      <td>7664.1404</td>\n",
       "      <td>7648.441212</td>\n",
       "    </tr>\n",
       "    <tr>\n",
       "      <th>2019-06-04 23:59:00+00:00</th>\n",
       "      <td>7690.97</td>\n",
       "      <td>7665.6016</td>\n",
       "      <td>7649.447677</td>\n",
       "    </tr>\n",
       "  </tbody>\n",
       "</table>\n",
       "</div>"
      ],
      "text/plain": [
       "                              open      sma25        sma99\n",
       "datetime                                                  \n",
       "2019-06-04 23:55:00+00:00  7676.54  7659.2484  7645.560404\n",
       "2019-06-04 23:56:00+00:00  7689.76  7660.5348  7646.478081\n",
       "2019-06-04 23:57:00+00:00  7696.69  7662.3408  7647.454747\n",
       "2019-06-04 23:58:00+00:00  7697.66  7664.1404  7648.441212\n",
       "2019-06-04 23:59:00+00:00  7690.97  7665.6016  7649.447677"
      ]
     },
     "execution_count": 33,
     "metadata": {},
     "output_type": "execute_result"
    }
   ],
   "source": [
    "import pandas as pd\n",
    "df = pd.read_csv('btcusdt_20190602_20190604_1min_hloc.csv', \n",
    "                 parse_dates=['datetime'], index_col='datetime')\n",
    "\n",
    "df['sma25'] = df['open'].rolling(window=25).mean()\n",
    "df['sma99'] = df['open'].rolling(window=99).mean()\n",
    "df[['open','sma25','sma99']].tail()"
   ]
  },
  {
   "cell_type": "markdown",
   "metadata": {},
   "source": [
    "The code line ...\n",
    "\n",
    "`df['sma25'] = df['open'].rolling(window=25).mean()`\n",
    "\n",
    "... means:\n",
    "\n",
    "- let's create a new DataFrame column named \"sma25\";\n",
    "- use a vectorised / column-based operation method on every row (cell) within that DataFrame column;\n",
    "- by using the data found in the \"open\" column;\n",
    "- use N=25 as the rolling window;\n",
    "- and compute & store its mean (average) value in the \"sma25\" column.\n",
    "\n",
    "If we now plot the 1-minute data ticks found in columns 'open','sma25' and 'sma99', and for visualisation matters let's only plot the 1-minute ticks of June, 2, 2019 - otherwise the lines would be too close to visually distinguish -, we get the following visual overview:"
   ]
  },
  {
   "cell_type": "code",
   "execution_count": 24,
   "metadata": {},
   "outputs": [
    {
     "name": "stderr",
     "output_type": "stream",
     "text": [
      "/anaconda3/lib/python3.7/site-packages/pandas/core/arrays/datetimes.py:1172: UserWarning: Converting to PeriodArray/Index representation will drop timezone information.\n",
      "  \"will drop timezone information.\", UserWarning)\n"
     ]
    },
    {
     "data": {
      "text/plain": [
       "<matplotlib.axes._subplots.AxesSubplot at 0x1193bc3c8>"
      ]
     },
     "execution_count": 24,
     "metadata": {},
     "output_type": "execute_result"
    },
    {
     "data": {
      "image/png": "[encoded data removed]",
      "text/plain": [
       "<Figure size 432x288 with 1 Axes>"
      ]
     },
     "metadata": {
      "needs_background": "light"
     },
     "output_type": "display_data"
    }
   ],
   "source": [
    "%matplotlib inline\n",
    "df[['open','sma25','sma99']]['2019-06-02'].plot()"
   ]
  },
  {
   "cell_type": "markdown",
   "metadata": {},
   "source": [
    "**Nota bene:** on the \"sma99\" data, since we need 99 ticks of data before we're able to begin plotting, if you take a close look at the above plot, bottom-left, on the green sma99 line, you see that there's a \"gap\".\n",
    "\n",
    "The same can be found when printing the first 5 values using `.head()` (instead of `.tail()`):"
   ]
  },
  {
   "cell_type": "code",
   "execution_count": 27,
   "metadata": {},
   "outputs": [
    {
     "data": {
      "text/html": [
       "<div>\n",
       "<style scoped>\n",
       "    .dataframe tbody tr th:only-of-type {\n",
       "        vertical-align: middle;\n",
       "    }\n",
       "\n",
       "    .dataframe tbody tr th {\n",
       "        vertical-align: top;\n",
       "    }\n",
       "\n",
       "    .dataframe thead th {\n",
       "        text-align: right;\n",
       "    }\n",
       "</style>\n",
       "<table border=\"1\" class=\"dataframe\">\n",
       "  <thead>\n",
       "    <tr style=\"text-align: right;\">\n",
       "      <th></th>\n",
       "      <th>open</th>\n",
       "      <th>sma25</th>\n",
       "      <th>sma99</th>\n",
       "    </tr>\n",
       "    <tr>\n",
       "      <th>datetime</th>\n",
       "      <th></th>\n",
       "      <th></th>\n",
       "      <th></th>\n",
       "    </tr>\n",
       "  </thead>\n",
       "  <tbody>\n",
       "    <tr>\n",
       "      <th>2019-06-02 00:00:00+00:00</th>\n",
       "      <td>8545.10</td>\n",
       "      <td>NaN</td>\n",
       "      <td>NaN</td>\n",
       "    </tr>\n",
       "    <tr>\n",
       "      <th>2019-06-02 00:01:00+00:00</th>\n",
       "      <td>8537.53</td>\n",
       "      <td>NaN</td>\n",
       "      <td>NaN</td>\n",
       "    </tr>\n",
       "    <tr>\n",
       "      <th>2019-06-02 00:02:00+00:00</th>\n",
       "      <td>8533.64</td>\n",
       "      <td>NaN</td>\n",
       "      <td>NaN</td>\n",
       "    </tr>\n",
       "    <tr>\n",
       "      <th>2019-06-02 00:03:00+00:00</th>\n",
       "      <td>8534.97</td>\n",
       "      <td>NaN</td>\n",
       "      <td>NaN</td>\n",
       "    </tr>\n",
       "    <tr>\n",
       "      <th>2019-06-02 00:04:00+00:00</th>\n",
       "      <td>8551.76</td>\n",
       "      <td>NaN</td>\n",
       "      <td>NaN</td>\n",
       "    </tr>\n",
       "  </tbody>\n",
       "</table>\n",
       "</div>"
      ],
      "text/plain": [
       "                              open  sma25  sma99\n",
       "datetime                                        \n",
       "2019-06-02 00:00:00+00:00  8545.10    NaN    NaN\n",
       "2019-06-02 00:01:00+00:00  8537.53    NaN    NaN\n",
       "2019-06-02 00:02:00+00:00  8533.64    NaN    NaN\n",
       "2019-06-02 00:03:00+00:00  8534.97    NaN    NaN\n",
       "2019-06-02 00:04:00+00:00  8551.76    NaN    NaN"
      ]
     },
     "execution_count": 27,
     "metadata": {},
     "output_type": "execute_result"
    }
   ],
   "source": [
    "df[['open','sma25','sma99']].head()"
   ]
  },
  {
   "cell_type": "markdown",
   "metadata": {},
   "source": [
    "The `NaN` values mean **\"Not a Number\"** (PS: in a forthcoming Data Science episode using `pandas` you'll learn about multiple ways on dealing with missing data, and dealing with \"malformed\" or even \"incorrect\" data points, and how to deal with those in a process called \"Data Munging\").\n",
    "\n",
    "The `.rolling()` method comes with a parameter called `min_periods=`, which is by default set to the same number `N` as the `window=` parameter, in this case 25 and 99, respectively.\n",
    "\n",
    "However, if we explicitly pass `min_periods=0`, then immeditely a \"best-guess\" value is computed based on < N values (meaning, at the first tick, the \"sma25\" value is identical to the \"open\" value, on the second tick \"sma25\" is the mean value of current and the previous ticks, until equal to or more than N ticks are present).\n",
    "\n",
    "In code:"
   ]
  },
  {
   "cell_type": "code",
   "execution_count": 28,
   "metadata": {},
   "outputs": [
    {
     "data": {
      "text/html": [
       "<div>\n",
       "<style scoped>\n",
       "    .dataframe tbody tr th:only-of-type {\n",
       "        vertical-align: middle;\n",
       "    }\n",
       "\n",
       "    .dataframe tbody tr th {\n",
       "        vertical-align: top;\n",
       "    }\n",
       "\n",
       "    .dataframe thead th {\n",
       "        text-align: right;\n",
       "    }\n",
       "</style>\n",
       "<table border=\"1\" class=\"dataframe\">\n",
       "  <thead>\n",
       "    <tr style=\"text-align: right;\">\n",
       "      <th></th>\n",
       "      <th>open</th>\n",
       "      <th>sma25</th>\n",
       "      <th>sma99</th>\n",
       "    </tr>\n",
       "    <tr>\n",
       "      <th>datetime</th>\n",
       "      <th></th>\n",
       "      <th></th>\n",
       "      <th></th>\n",
       "    </tr>\n",
       "  </thead>\n",
       "  <tbody>\n",
       "    <tr>\n",
       "      <th>2019-06-02 00:00:00+00:00</th>\n",
       "      <td>8545.10</td>\n",
       "      <td>8545.100000</td>\n",
       "      <td>8545.100000</td>\n",
       "    </tr>\n",
       "    <tr>\n",
       "      <th>2019-06-02 00:01:00+00:00</th>\n",
       "      <td>8537.53</td>\n",
       "      <td>8541.315000</td>\n",
       "      <td>8541.315000</td>\n",
       "    </tr>\n",
       "    <tr>\n",
       "      <th>2019-06-02 00:02:00+00:00</th>\n",
       "      <td>8533.64</td>\n",
       "      <td>8538.756667</td>\n",
       "      <td>8538.756667</td>\n",
       "    </tr>\n",
       "    <tr>\n",
       "      <th>2019-06-02 00:03:00+00:00</th>\n",
       "      <td>8534.97</td>\n",
       "      <td>8537.810000</td>\n",
       "      <td>8537.810000</td>\n",
       "    </tr>\n",
       "    <tr>\n",
       "      <th>2019-06-02 00:04:00+00:00</th>\n",
       "      <td>8551.76</td>\n",
       "      <td>8540.600000</td>\n",
       "      <td>8540.600000</td>\n",
       "    </tr>\n",
       "  </tbody>\n",
       "</table>\n",
       "</div>"
      ],
      "text/plain": [
       "                              open        sma25        sma99\n",
       "datetime                                                    \n",
       "2019-06-02 00:00:00+00:00  8545.10  8545.100000  8545.100000\n",
       "2019-06-02 00:01:00+00:00  8537.53  8541.315000  8541.315000\n",
       "2019-06-02 00:02:00+00:00  8533.64  8538.756667  8538.756667\n",
       "2019-06-02 00:03:00+00:00  8534.97  8537.810000  8537.810000\n",
       "2019-06-02 00:04:00+00:00  8551.76  8540.600000  8540.600000"
      ]
     },
     "execution_count": 28,
     "metadata": {},
     "output_type": "execute_result"
    }
   ],
   "source": [
    "df['sma25'] = df['open'].rolling(window=25, min_periods=0).mean()\n",
    "df['sma99'] = df['open'].rolling(window=99, min_periods=0).mean()\n",
    "df[['open','sma25','sma99']].head()"
   ]
  },
  {
   "cell_type": "markdown",
   "metadata": {},
   "source": [
    "Visually plotted:"
   ]
  },
  {
   "cell_type": "code",
   "execution_count": 31,
   "metadata": {},
   "outputs": [
    {
     "name": "stderr",
     "output_type": "stream",
     "text": [
      "/anaconda3/lib/python3.7/site-packages/pandas/core/arrays/datetimes.py:1172: UserWarning: Converting to PeriodArray/Index representation will drop timezone information.\n",
      "  \"will drop timezone information.\", UserWarning)\n"
     ]
    },
    {
     "data": {
      "text/plain": [
       "<matplotlib.axes._subplots.AxesSubplot at 0x106218a20>"
      ]
     },
     "execution_count": 31,
     "metadata": {},
     "output_type": "execute_result"
    },
    {
     "data": {
      "image/png": "[encoded data removed]",
      "text/plain": [
       "<Figure size 432x288 with 1 Axes>"
      ]
     },
     "metadata": {
      "needs_background": "light"
     },
     "output_type": "display_data"
    }
   ],
   "source": [
    "%matplotlib inline\n",
    "df[['open','sma25','sma99']]['2019-06-02'].plot()"
   ]
  },
  {
   "cell_type": "markdown",
   "metadata": {},
   "source": [
    "And indeed, as you can see (while looking closely at the plot data bottom-left) now there's no missing gap, as there are no `NaN` values in the \"sma25\" and \"sma99\" columns."
   ]
  },
  {
   "cell_type": "markdown",
   "metadata": {},
   "source": [
    "# What did we learn, hopefully?\n",
    "Apart from how to (technically) use the `pandas` methods `.resample()`, `.agg()` and `.rolling()`, hopefully you've also learned _why_ using those techniques provide essential insights while analysing time series data, such as crypto currency trading data.\n",
    "\n",
    "### Thank you for your time!"
   ]
  },
  {
   "cell_type": "markdown",
   "metadata": {},
   "source": [
    "### Curriculum (of the `Learn Python Series`):\n",
    "\n",
    "- [Learn Python Series - Intro](https://steemit.com/utopian-io/@scipio/learn-python-series-intro)\n",
    "- [Learn Python Series (#2) - Handling Strings Part 1](https://steemit.com/utopian-io/@scipio/learn-python-series-2-handling-strings-part-1)\n",
    "- [Learn Python Series (#3) - Handling Strings Part 2](https://steemit.com/utopian-io/@scipio/learn-python-series-3-handling-strings-part-2)\n",
    "- [Learn Python Series (#4) - Round-Up #1](https://steemit.com/utopian-io/@scipio/learn-python-series-4-round-up-1)\n",
    "- [Learn Python Series (#5) - Handling Lists Part 1](https://steemit.com/utopian-io/@scipio/learn-python-series-5-handling-lists-part-1)\n",
    "- [Learn Python Series (#6) - Handling Lists Part 2](https://steemit.com/utopian-io/@scipio/learn-python-series-6-handling-lists-part-2)\n",
    "- [Learn Python Series (#7) - Handling Dictionaries](https://steemit.com/utopian-io/@scipio/learn-python-series-7-handling-dictionaries)\n",
    "- [Learn Python Series (#8) - Handling Tuples](https://steemit.com/utopian-io/@scipio/learn-python-series-8-handling-tuples)\n",
    "- [Learn Python Series (#9) - Using Import](https://steemit.com/utopian-io/@scipio/learn-python-series-9-using-import)\n",
    "- [Learn Python Series (#10) - Matplotlib Part 1](https://steemit.com/utopian-io/@scipio/learn-python-series-10-matplotlib-part-1)\n",
    "- [Learn Python Series (#11) - NumPy Part 1](https://steemit.com/utopian-io/@scipio/learn-python-series-11-numpy-part-1)\n",
    "- [Learn Python Series (#12) - Handling Files](https://steemit.com/utopian-io/@scipio/learn-python-series-12-handling-files)\n",
    "- [Learn Python Series (#13) - Mini Project - Developing a Web Crawler Part 1](https://steemit.com/utopian-io/@scipio/learn-python-series-13-mini-project-developing-a-web-crawler-part-1)\n",
    "- [Learn Python Series (#14) - Mini Project - Developing a Web Crawler Part 2](https://steemit.com/utopian-io/@scipio/learn-python-series-14-mini-project-developing-a-web-crawler-part-2)\n",
    "- [Learn Python Series (#15) - Handling JSON](https://steemit.com/utopian-io/@scipio/learn-python-series-15-handling-json)\n",
    "- [Learn Python Series (#16) - Mini Project - Developing a Web Crawler Part 3](https://steemit.com/utopian-io/@scipio/learn-python-series-16-mini-project-developing-a-web-crawler-part-3)\n",
    "- [Learn Python Series (#17) - Roundup #2 - Combining and analyzing any-to-any multi-currency historical data](https://steemit.com/utopian-io/@scipio/learn-python-series-17-roundup-2-combining-and-analyzing-any-to-any-multi-currency-historical-data)\n",
    "- [Learn Python Series (#18) - PyMongo Part 1](https://steemit.com/utopian-io/@scipio/learn-python-series-18-pymongo-part-1)\n",
    "- [Learn Python Series (#19) - PyMongo Part 2](https://steemit.com/utopian-io/@scipio/learn-python-series-19-pymongo-part-2)\n",
    "- [Learn Python Series (#20) - PyMongo Part 3](https://steemit.com/utopian-io/@scipio/learn-python-series-20-pymongo-part-3)\n",
    "- [Learn Python Series (#21) - Handling Dates and Time Part 1](https://steemit.com/utopian-io/@scipio/learn-python-series-21-handling-dates-and-time-part-1)\n",
    "- [Learn Python Series (#22) - Handling Dates and Time Part 2](https://steemit.com/utopian-io/@scipio/learn-python-series-22-handling-dates-and-time-part-2)\n",
    "- [Learn Python Series (#23) - Handling Regular Expressions Part 1](https://steemit.com/utopian-io/@scipio/learn-python-series-23-handling-regular-expressions-part-1)\n",
    "- [Learn Python Series (#24) - Handling Regular Expressions Part 2](https://steemit.com/utopian-io/@scipio/learn-python-series-24-handling-regular-expressions-part-2)\n",
    "- [Learn Python Series (#25) - Handling Regular Expressions Part 3](https://steemit.com/utopian-io/@scipio/learn-python-series-25-handling-regular-expressions-part-3)\n",
    "- [Learn Python Series (#26) - pipenv & Visual Studio Code](https://steemit.com/utopian-io/@scipio/learn-python-series-26-pipenv-and-visual-studio-code)\n",
    "- [Learn Python Series (#27) - Handling Strings Part 3 (F-Strings)](https://steemit.com/utopian-io/@scipio/learn-python-series-27-handling-strings-part-3-f-strings)\n",
    "- [Learn Python Series (#28) - Using Pickle and Shelve](https://steemit.com/utopian-io/@scipio/learn-python-series-28-using-pickle-and-shelve)\n",
    "- [Learn Python Series (#29) - Handling CSV](https://steemit.com/utopian-io/@scipio/learn-python-series-29-handling-csv)\n",
    "- [Learn Python Series (#30) - Data Science Part 1 - Pandas](https://steemit.com/utopian-io/@scipio/learn-python-series-30-data-science-part-1-pandas)\n",
    "- [Learn Python Series (#31) - Data Science Part 2 - Pandas](https://steemit.com/utopian-io/@scipio/learn-python-series-31-data-science-part-2-pandas) "
   ]
  }
 ],
 "metadata": {
  "kernelspec": {
   "display_name": "Python 3",
   "language": "python",
   "name": "python3"
  },
  "language_info": {
   "codemirror_mode": {
    "name": "ipython",
    "version": 3
   },
   "file_extension": ".py",
   "mimetype": "text/x-python",
   "name": "python",
   "nbconvert_exporter": "python",
   "pygments_lexer": "ipython3",
   "version": "3.7.3"
  }
 },
 "nbformat": 4,
 "nbformat_minor": 2
}
