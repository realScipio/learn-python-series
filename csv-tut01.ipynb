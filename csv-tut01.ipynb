{
 "cells": [
  {
   "cell_type": "markdown",
   "metadata": {},
   "source": [
    "# Learn Python Series (#29) - Handling CSV"
   ]
  },
  {
   "cell_type": "markdown",
   "metadata": {},
   "source": [
    "### Repository\n",
    "https://github.com/python/cpython"
   ]
  },
  {
   "cell_type": "markdown",
   "metadata": {},
   "source": [
    "### What will I learn?\n",
    "\n",
    "- You will learn what a CSV file containing tabular data looks like, both in a spreadsheet program, inside a CSV file using a code editor, and using a Python interpreter.\n",
    "- how to use the `csv` module for reading, parsing and writing CSV files,\n",
    "- how to handle both CSV list and dictionary elements,\n",
    "- how to change the standard CSV field delimiter"
   ]
  },
  {
   "cell_type": "markdown",
   "metadata": {},
   "source": [
    "### Requirements\n",
    "\n",
    "- A working modern computer running macOS, Windows or Ubuntu;\n",
    "- An installed Python 3(.6) distribution, such as (for example) the Anaconda Distribution;\n",
    "- The ambition to learn Python programming."
   ]
  },
  {
   "cell_type": "markdown",
   "metadata": {},
   "source": [
    "### Difficulty\n",
    "- Beginner"
   ]
  },
  {
   "cell_type": "markdown",
   "metadata": {},
   "source": [
    "### Curriculum (of the `Learn Python Series`):\n",
    "\n",
    "- [Learn Python Series - Intro](https://steemit.com/utopian-io/@scipio/learn-python-series-intro)\n",
    "- [Learn Python Series (#2) - Handling Strings Part 1](https://steemit.com/utopian-io/@scipio/learn-python-series-2-handling-strings-part-1)\n",
    "- [Learn Python Series (#3) - Handling Strings Part 2](https://steemit.com/utopian-io/@scipio/learn-python-series-3-handling-strings-part-2)\n",
    "- [Learn Python Series (#4) - Round-Up #1](https://steemit.com/utopian-io/@scipio/learn-python-series-4-round-up-1)\n",
    "- [Learn Python Series (#5) - Handling Lists Part 1](https://steemit.com/utopian-io/@scipio/learn-python-series-5-handling-lists-part-1)\n",
    "- [Learn Python Series (#6) - Handling Lists Part 2](https://steemit.com/utopian-io/@scipio/learn-python-series-6-handling-lists-part-2)\n",
    "- [Learn Python Series (#7) - Handling Dictionaries](https://steemit.com/utopian-io/@scipio/learn-python-series-7-handling-dictionaries)\n",
    "- [Learn Python Series (#8) - Handling Tuples](https://steemit.com/utopian-io/@scipio/learn-python-series-8-handling-tuples)\n",
    "- [Learn Python Series (#9) - Using Import](https://steemit.com/utopian-io/@scipio/learn-python-series-9-using-import)\n",
    "- [Learn Python Series (#10) - Matplotlib Part 1](https://steemit.com/utopian-io/@scipio/learn-python-series-10-matplotlib-part-1)\n",
    "- [Learn Python Series (#11) - NumPy Part 1](https://steemit.com/utopian-io/@scipio/learn-python-series-11-numpy-part-1)\n",
    "- [Learn Python Series (#12) - Handling Files](https://steemit.com/utopian-io/@scipio/learn-python-series-12-handling-files)\n",
    "- [Learn Python Series (#13) - Mini Project - Developing a Web Crawler Part 1](https://steemit.com/utopian-io/@scipio/learn-python-series-13-mini-project-developing-a-web-crawler-part-1)\n",
    "- [Learn Python Series (#14) - Mini Project - Developing a Web Crawler Part 2](https://steemit.com/utopian-io/@scipio/learn-python-series-14-mini-project-developing-a-web-crawler-part-2)\n",
    "- [Learn Python Series (#15) - Handling JSON](https://steemit.com/utopian-io/@scipio/learn-python-series-15-handling-json)\n",
    "- [Learn Python Series (#16) - Mini Project - Developing a Web Crawler Part 3](https://steemit.com/utopian-io/@scipio/learn-python-series-16-mini-project-developing-a-web-crawler-part-3)\n",
    "- [Learn Python Series (#17) - Roundup #2 - Combining and analyzing any-to-any multi-currency historical data](https://steemit.com/utopian-io/@scipio/learn-python-series-17-roundup-2-combining-and-analyzing-any-to-any-multi-currency-historical-data)\n",
    "- [Learn Python Series (#18) - PyMongo Part 1](https://steemit.com/utopian-io/@scipio/learn-python-series-18-pymongo-part-1)\n",
    "- [Learn Python Series (#19) - PyMongo Part 2](https://steemit.com/utopian-io/@scipio/learn-python-series-19-pymongo-part-2)\n",
    "- [Learn Python Series (#20) - PyMongo Part 3](https://steemit.com/utopian-io/@scipio/learn-python-series-20-pymongo-part-3)\n",
    "- [Learn Python Series (#21) - Handling Dates and Time Part 1](https://steemit.com/utopian-io/@scipio/learn-python-series-21-handling-dates-and-time-part-1)\n",
    "- [Learn Python Series (#22) - Handling Dates and Time Part 2](https://steemit.com/utopian-io/@scipio/learn-python-series-22-handling-dates-and-time-part-2)\n",
    "- [Learn Python Series (#23) - Handling Regular Expressions Part 1](https://steemit.com/utopian-io/@scipio/learn-python-series-23-handling-regular-expressions-part-1)\n",
    "- [Learn Python Series (#24) - Handling Regular Expressions Part 2](https://steemit.com/utopian-io/@scipio/learn-python-series-24-handling-regular-expressions-part-2)\n",
    "- [Learn Python Series (#25) - Handling Regular Expressions Part 3](https://steemit.com/utopian-io/@scipio/learn-python-series-25-handling-regular-expressions-part-3)\n",
    "- [Learn Python Series (#26) - pipenv & Visual Studio Code](https://steemit.com/utopian-io/@scipio/learn-python-series-26-pipenv-and-visual-studio-code)\n",
    "- [Learn Python Series (#27) - Handling Strings Part 3 (F-Strings)](https://steemit.com/utopian-io/@scipio/learn-python-series-27-handling-strings-part-3-f-strings)\n",
    "- [Learn Python Series (#28) - Using Pickle and Shelve](https://steemit.com/utopian-io/@scipio/learn-python-series-28-using-pickle-and-shelve)"
   ]
  },
  {
   "cell_type": "markdown",
   "metadata": {},
   "source": [
    "### Additional sample code files\n",
    "\n",
    "The full - and working! - iPython tutorial sample code file is included for you to download and run for yourself right here:\n",
    "https://github.com/realScipio/learn-python-series/blob/master/csv-tut01.ipynb"
   ]
  },
  {
   "cell_type": "markdown",
   "metadata": {},
   "source": [
    "### GitHub Account\n",
    "https://github.com/realScipio"
   ]
  },
  {
   "cell_type": "markdown",
   "metadata": {},
   "source": [
    "# Learn Python Series (#29) - Handling CSV\n",
    "Welcome to already episode #29 of the `Learn Python Series`! We've already discussed handling files in general, handling JSON, in the previous epispde we talked about pickling, so we must also briefly touch upon a well-known and widely used data format: `CSV`. \n",
    "When working with data, then CSV (Comma Separated Values) is a very commonly used format to import and export tabular data to and from spreadsheets and also databases.\n",
    "\n",
    "However, because a well-defined CSV standard is missing, a uniform way to implement field delimiters (such as commas) is absent. These subtle differences in CSV formats make self-parsing of CSV files a bit cumbersome. Luckily most Python distributions (such as Anaconda) come with a bundled `csv` module help a lot with reading and writing \"out of the box\".\n",
    "\n",
    "Let's find out how the `csv` module works!"
   ]
  },
  {
   "cell_type": "markdown",
   "metadata": {},
   "source": [
    "# What does a CSV file look like?\n",
    "When importing / opening a CSV-file in a spreadsheet program (such as MS Excel, OpenOffice Calc), the data contained in the CSV is displayed in a tabular (table) format, like this:"
   ]
  },
  {
   "cell_type": "markdown",
   "metadata": {},
   "source": [
    "| ID | Name   | City |\n",
    "|------|------|------|\n",
    "|   1  | Jack| New York |\n",
    "|   2  | Paula| Dublin |\n",
    "|   3  | Marly| Melbourne |\n",
    "|   4  | Tony| London |\n",
    "|   5  | Andrea| Rome |\n",
    "|   6  | Julie| Paris |\n",
    "|   7  | Bernhard| Berlin |\n",
    "|   8  | Frank| San Francisco |\n",
    "|   9  | Johan| Amsterdam |\n",
    "|   10  | Maria| Barcelona |"
   ]
  },
  {
   "cell_type": "markdown",
   "metadata": {},
   "source": [
    "The underlying data structure of the above displayed CSV file, is structured in a human-readable form. It's actually just like a regular text file (you could open a CSV file with your favorite code editor as well), and each field is simply separated by a comma (hence the name CSV), like so:\n",
    "\n",
    "```\n",
    "ID,Name,City\n",
    "1,Jack,New York\n",
    "2,Paula,Dublin\n",
    "3,Marly,Melbourne\n",
    "4,Tony,London\n",
    "5,Andrea,Rome\n",
    "6,Julie,Paris\n",
    "7,Bernhard,Berlin\n",
    "8,Frank,San Francisco\n",
    "9,Johan,Amsterdam\n",
    "10,Maria,Barcelona\n",
    "```"
   ]
  },
  {
   "cell_type": "markdown",
   "metadata": {},
   "source": [
    "# Reading CSV files\n",
    "Let's suppose we have a file named `names.csv` containing the exact data as displayed above. Using Python's `csv` module, and the `with` keyword we've been using in the previous episode(s), reading a `.csv` file is done like so:\n",
    "\n",
    "First import the `csv` module:"
   ]
  },
  {
   "cell_type": "code",
   "execution_count": 1,
   "metadata": {},
   "outputs": [],
   "source": [
    "import csv"
   ]
  },
  {
   "cell_type": "markdown",
   "metadata": {},
   "source": [
    "Then we'll open our file `names.csv` in read-mode, using flag `r`, and we'll assign it to file object f. Then we need to use the `csv.reader()` method and pass in our file object. Let's assign it as `data`:"
   ]
  },
  {
   "cell_type": "code",
   "execution_count": 4,
   "metadata": {},
   "outputs": [
    {
     "name": "stdout",
     "output_type": "stream",
     "text": [
      "<class '_csv.reader'>\n"
     ]
    }
   ],
   "source": [
    "with open('names.csv', 'r') as f:\n",
    "    data = csv.reader(f)\n",
    "    print(type(data))"
   ]
  },
  {
   "cell_type": "markdown",
   "metadata": {},
   "source": [
    "As you can see, the CSV file data is now extracted into variable `data` which is a `reader` object, which is an iterable. So let's now first create an empty list `content`, then iterate over the `reader` object, append each data row as a list to the `content` list and then print it:"
   ]
  },
  {
   "cell_type": "code",
   "execution_count": 23,
   "metadata": {},
   "outputs": [
    {
     "name": "stdout",
     "output_type": "stream",
     "text": [
      "[['ID', 'Name', 'City'],\n",
      " ['1', 'Jack', 'New York'],\n",
      " ['2', 'Paula', 'Dublin'],\n",
      " ['3', 'Marly', 'Melbourne'],\n",
      " ['4', 'Tony', 'London'],\n",
      " ['5', 'Andrea', 'Rome'],\n",
      " ['6', 'Julie', 'Paris'],\n",
      " ['7', 'Bernhard', 'Berlin'],\n",
      " ['8', 'Frank', 'San Francisco'],\n",
      " ['9', 'Johan', 'Amsterdam'],\n",
      " ['10', 'Maria', 'Barcelona']]\n"
     ]
    }
   ],
   "source": [
    "import pprint\n",
    "\n",
    "with open('names.csv', 'r') as f:\n",
    "    data = csv.reader(f)\n",
    "    content = []\n",
    "    for data_row in data:\n",
    "        content.append(data_row)\n",
    "    pprint.pprint(content)"
   ]
  },
  {
   "cell_type": "markdown",
   "metadata": {},
   "source": [
    "As you can see, each returned `data_row` is a list of 3 items."
   ]
  },
  {
   "cell_type": "markdown",
   "metadata": {},
   "source": [
    "# Writing CSV files\n",
    "We can apply the same technique to write data to a persistent `.csv` file on disk, this time using the `csv.writer()` method.\n",
    "\n",
    "Let's create a list of lists containing some data, again use the `with` keyword and this time open a new file in write-mode (using the `w`, for write, flag), againi assign `f` as a file object, and the apply the `csv.writer()` method to create a `writer` object.\n",
    "\n",
    "Then we'll use that `writer` object's method `writerows()` to actually write each item in the `cryptos` list to file, by passing in `cryptos` as `writerows()`'s argument, like so:"
   ]
  },
  {
   "cell_type": "code",
   "execution_count": 11,
   "metadata": {},
   "outputs": [
    {
     "name": "stdout",
     "output_type": "stream",
     "text": [
      "<class '_csv.writer'>\n"
     ]
    }
   ],
   "source": [
    "cryptos = [\n",
    "    ['ID', 'Name', 'Abbreviation'],\n",
    "    ['1', 'Bitcoin','BTC'],\n",
    "    ['2', 'Litecoin','LTC'],\n",
    "    ['3', 'Steem','STEEM'],\n",
    "    ['4', 'Steem Backed Dollar','SBD'],\n",
    "    ['5', 'IoTeX','IOTX'],\n",
    "    ['6', 'Stellar','XLM'],\n",
    "    ['7', 'EOS','EOS'],\n",
    "    ['8', 'Ethereum','ETH'],\n",
    "    ['9', 'Cardano','ADA'],\n",
    "    ['10', 'Dash','DASH']\n",
    "]\n",
    "\n",
    "with open('cryptos.csv', 'w') as f:\n",
    "    writer = csv.writer(f)\n",
    "    print(type(writer))\n",
    "    writer.writerows(cryptos)"
   ]
  },
  {
   "cell_type": "markdown",
   "metadata": {},
   "source": [
    "At this point, a valid CSV file named `cryptos.csv` is written to disk, and to check if it's contents are valid, we can read it back in like we did before:"
   ]
  },
  {
   "cell_type": "code",
   "execution_count": 24,
   "metadata": {},
   "outputs": [
    {
     "name": "stdout",
     "output_type": "stream",
     "text": [
      "[['ID', 'Name', 'Abbreviation'],\n",
      " ['1', 'Bitcoin', 'BTC'],\n",
      " ['2', 'Litecoin', 'LTC'],\n",
      " ['3', 'Steem', 'STEEM'],\n",
      " ['4', 'Steem Backed Dollar', 'SBD'],\n",
      " ['5', 'IoTeX', 'IOTX'],\n",
      " ['6', 'Stellar', 'XLM'],\n",
      " ['7', 'EOS', 'EOS'],\n",
      " ['8', 'Ethereum', 'ETH'],\n",
      " ['9', 'Cardano', 'ADA'],\n",
      " ['10', 'Dash', 'DASH']]\n"
     ]
    }
   ],
   "source": [
    "import pprint\n",
    "\n",
    "with open('cryptos.csv', 'r') as f:\n",
    "    data = csv.reader(f)\n",
    "    content = []\n",
    "    for data_row in data:\n",
    "        content.append(data_row)\n",
    "    pprint.pprint(content)"
   ]
  },
  {
   "cell_type": "markdown",
   "metadata": {},
   "source": [
    "Works like a charm!"
   ]
  },
  {
   "cell_type": "markdown",
   "metadata": {},
   "source": [
    "# `csv`'s classes DictReader and DictWriter\n",
    "Thus far we've been reading and writing lists with strings inside them to and from CSV files. But the `csv` module also contains the DictReader and DictWriter classes using Python dictionaries instead of lists containing string items."
   ]
  },
  {
   "cell_type": "markdown",
   "metadata": {},
   "source": [
    "### Reading with `DictReader`\n",
    "`DictReader` creates an object and maps it to a dictionary. The dictionary keys are either set using the optional `fieldnames` parameter, or - when not passed-in as an argument - read from the first line of the CSV file (and now you know why I have been consistently adding fieldnames in the first row of each CSV file ;-) ).\n",
    "\n",
    "Let's now use the `DictReader` class to read in the `names.csv` file again, print a simple multiline F-String (see [episode #27 on F-Strings](https://steemit.com/utopian-io/@scipio/learn-python-series-27-handling-strings-part-3-f-strings)) and please observe that I now use the same dictionary keys as contained in the first line of the `names.csv` file for reference."
   ]
  },
  {
   "cell_type": "code",
   "execution_count": 34,
   "metadata": {},
   "outputs": [
    {
     "name": "stdout",
     "output_type": "stream",
     "text": [
      "Person #1, Jack, lives in New York\n",
      "Person #2, Paula, lives in Dublin\n",
      "Person #3, Marly, lives in Melbourne\n",
      "Person #4, Tony, lives in London\n",
      "Person #5, Andrea, lives in Rome\n",
      "Person #6, Julie, lives in Paris\n",
      "Person #7, Bernhard, lives in Berlin\n",
      "Person #8, Frank, lives in San Francisco\n",
      "Person #9, Johan, lives in Amsterdam\n",
      "Person #10, Maria, lives in Barcelona\n"
     ]
    }
   ],
   "source": [
    "import csv\n",
    "\n",
    "content = []\n",
    "with open('names.csv') as f:\n",
    "    data = csv.DictReader(f)\n",
    "    for data_row in data:\n",
    "        content.append(data_row)\n",
    "        print(\n",
    "            f\"Person #{data_row['ID']}, \"\n",
    "            f\"{data_row['Name']}, \"\n",
    "            f\"lives in {data_row['City']}\"\n",
    "        )"
   ]
  },
  {
   "cell_type": "markdown",
   "metadata": {},
   "source": [
    "### Writing with `DictWriter`\n",
    "Let's now try to write a CSV file using the `DictWriter` class, where we begin with creating a list of objects `utopian_contributors` (instead of a list of lists, or a list of strings). Because we're dealing with tabular data, every object inside the list has the same data structure.\n",
    "\n",
    "We also create a list containing the fieldnames:\n",
    "`fieldnames = ['name', 'category']`\n",
    "\n",
    "When writing the CSV file, we first call the method `writeheader()`, in order to write the first row containing the fieldnames; as you may have noticed, this time I did **not** include the fieldnames as the first list item in the `utopian_contributors` data list.\n",
    "\n",
    "And finally, we'll call the method `writerows()` and pass in the `utopian_contributors` data list.\n",
    "\n",
    "**Nota bene:** it's also possible to use the method `writerow()`, for example in a `for` loop, to write each data row individually."
   ]
  },
  {
   "cell_type": "code",
   "execution_count": 33,
   "metadata": {},
   "outputs": [],
   "source": [
    "import csv\n",
    "\n",
    "utopian_contributors = [\n",
    "    {'name': 'scipio', 'category': 'tutorials'},\n",
    "    {'name': 'rosatravels', 'category': 'tutorials'},\n",
    "    {'name': 'holger80', 'category': 'development'},\n",
    "    {'name': 'fabiyamada', 'category': 'graphics'}\n",
    "]\n",
    "\n",
    "with open('contributors.csv', 'w') as f:\n",
    "    fieldnames = ['name', 'category']\n",
    "    data = csv.DictWriter(f, fieldnames=fieldnames)    \n",
    "    data.writeheader()\n",
    "    data.writerows(utopian_contributors)"
   ]
  },
  {
   "cell_type": "markdown",
   "metadata": {},
   "source": [
    "### Changing delimiters (other than the default comma `,`)\n",
    "It's also possible to set an alternative field `delimiter` prior to executing a reader or writer method. For example you don't want to use the standard comma field delimiter, but a semi-colon, or a space.\n",
    "\n",
    "This works as follows:"
   ]
  },
  {
   "cell_type": "code",
   "execution_count": 37,
   "metadata": {},
   "outputs": [],
   "source": [
    "with open('contributors_semicolon.csv', 'w') as f:\n",
    "    fieldnames = ['name', 'category']\n",
    "    data = csv.DictWriter(f, fieldnames=fieldnames, delimiter=';')    \n",
    "    data.writeheader()\n",
    "    data.writerows(utopian_contributors)"
   ]
  },
  {
   "cell_type": "markdown",
   "metadata": {},
   "source": [
    "This technique applies to both reading and writing CSV data."
   ]
  },
  {
   "cell_type": "markdown",
   "metadata": {},
   "source": [
    "# Thank you for your time!"
   ]
  }
 ],
 "metadata": {
  "kernelspec": {
   "display_name": "Python 3",
   "language": "python",
   "name": "python3"
  },
  "language_info": {
   "codemirror_mode": {
    "name": "ipython",
    "version": 3
   },
   "file_extension": ".py",
   "mimetype": "text/x-python",
   "name": "python",
   "nbconvert_exporter": "python",
   "pygments_lexer": "ipython3",
   "version": "3.6.5"
  }
 },
 "nbformat": 4,
 "nbformat_minor": 2
}
