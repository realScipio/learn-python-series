{
 "cells": [
  {
   "cell_type": "markdown",
   "metadata": {},
   "source": [
    "# Learn Python Series (#21) - Handling Dates and Time\n",
    "I think **it's about time** ;-) to discuss with you some fundamentals regarding the handling of different date & time formats and functionality. There are a lot of programming situations in which dates and times play an important role; in some of the previous `Learn Python Series`  episodes, where we discussed the historical currency daily openings for example, dates were involved. We only created a (JSON-based) list from old to new from it, and plotted the daily price values, but what if we wanted to know _\"what was the price 34 days before March 18 2018?\"_ For situations like that, some knowledge regarding how to handle dates and times is needed.\n",
    "\n",
    "Python does not include default / native data types for dates and times (as it does for a string and a list for example), but we can make use of the functionality provided in the `time`, `datetime` and `calendar` modules.\n",
    "\n",
    "- The `datetime` module includes functionality for handling dates, times, and combinations, and you can perform some arithmetic and comparison with it. It can also do some basic conversion between datetime objects and formatted strings.\n",
    "- The `time` module focuses on time-related functions, but handles dates as well to a certain extent, and it includes some formatting functionality for switching between time_structs / 9-tuples and strings.\n",
    "- The `calendar` module can be used to format representations of days, weeks, months and years, and you can for example compute the day of the week on any date.\n",
    "\n",
    "And then there's also for example the excellent external `Maya` package available to work with...\n",
    "\n",
    "Lots to learn! So let's begin!"
   ]
  },
  {
   "cell_type": "markdown",
   "metadata": {},
   "source": [
    "# The `time` module"
   ]
  },
  {
   "cell_type": "markdown",
   "metadata": {},
   "source": [
    "### `time.time()`\n",
    "Probably the most used `time` method is `time.time()`: it returns the number of seconds passed between \"now\" (the exact moment you're calling `time.time()`) and the **epoch**, being **Thursday, January 1st, 1970, 00:00:00 UTC, on UNIX-like systems**."
   ]
  },
  {
   "cell_type": "code",
   "execution_count": 56,
   "metadata": {},
   "outputs": [
    {
     "name": "stdout",
     "output_type": "stream",
     "text": [
      "<class 'float'> 1525031396.1437771\n"
     ]
    }
   ],
   "source": [
    "import time\n",
    "localtime = time.time()\n",
    "print(type(localtime), localtime)"
   ]
  },
  {
   "cell_type": "markdown",
   "metadata": {},
   "source": [
    "**Nota bene:** oftentimes, when calling `time.time()` you don't want the decimal digits but rounded seconds since the epoch. In order to do so, just convert the default float `time.time()` returns to an integer, like so:"
   ]
  },
  {
   "cell_type": "code",
   "execution_count": 57,
   "metadata": {},
   "outputs": [
    {
     "name": "stdout",
     "output_type": "stream",
     "text": [
      "<class 'int'> 1525031430\n"
     ]
    }
   ],
   "source": [
    "localtime = int(time.time())\n",
    "print(type(localtime), localtime)"
   ]
  },
  {
   "cell_type": "markdown",
   "metadata": {},
   "source": [
    "### `time.sleep()`\n",
    "This pauses (suspends) the thread running for the number of seconds passed to it as its argument."
   ]
  },
  {
   "cell_type": "code",
   "execution_count": 67,
   "metadata": {},
   "outputs": [
    {
     "name": "stdout",
     "output_type": "stream",
     "text": [
      "5.0028228759765625\n"
     ]
    }
   ],
   "source": [
    "start = time.time()\n",
    "time.sleep(5)\n",
    "end = time.time()\n",
    "print(end-start)"
   ]
  },
  {
   "cell_type": "markdown",
   "metadata": {},
   "source": [
    "**PS:** the time passed in between `start` and `end` is oftentimes called the \"wall time\"."
   ]
  },
  {
   "cell_type": "markdown",
   "metadata": {},
   "source": [
    "### `time.localtime()`\n",
    "In case you're interested in returning a `time-tuple` or a `time.struct_time` object returned, which both are like a wrapper holding the information about some point in time, use `time.localtime()` and pass in the amount of ticks (seconds) passed since the epoch, or don't use an argument to get the current time."
   ]
  },
  {
   "cell_type": "code",
   "execution_count": 82,
   "metadata": {},
   "outputs": [
    {
     "name": "stdout",
     "output_type": "stream",
     "text": [
      "time.struct_time(tm_year=1970, tm_mon=1, tm_mday=1, tm_hour=1, tm_min=2, tm_sec=3, tm_wday=3, tm_yday=1, tm_isdst=0)\n",
      "time.struct_time(tm_year=2018, tm_mon=5, tm_mday=1, tm_hour=19, tm_min=11, tm_sec=47, tm_wday=1, tm_yday=121, tm_isdst=1)\n"
     ]
    }
   ],
   "source": [
    "some_other_time = time.localtime(123)\n",
    "print(some_other_time)\n",
    "\n",
    "current_time = time.localtime()\n",
    "print(current_time)"
   ]
  },
  {
   "cell_type": "markdown",
   "metadata": {},
   "source": [
    "If you're wondering how to use such a `time.struct_time` object: you're able to format it to your liking into a string via `time.strftime()` (see below)."
   ]
  },
  {
   "cell_type": "markdown",
   "metadata": {},
   "source": [
    "### `time.mktime()`\n",
    "The `time.mktime()` is the inverse of what `time.localtime()` does. As an argument, just pass in the `time.struct_time` object (or full 9-tuple). \n",
    "\n",
    "`time.mktime()` will then return a floating point number, indicating the seconds since the epoch (as is the case with `time.time()`).\n",
    "\n",
    "\n",
    "**Full 9-time-tuple:**\n",
    "\n",
    "Index number: Meaning\n",
    "\n",
    "- 0: 4-digit year notation (e.g. 2018)\n",
    "- 1: Month (e.g. 2 for February)\n",
    "- 2: Day (e.g. 31 for the last day of December)\n",
    "- 3: Hour (e.g. 23 for 11 PM)\n",
    "- 4: Minute (e.g. 59 for the last minute of the hour)\n",
    "- 5: Second (can even be 60 or 61 for leap seconds!)\n",
    "- 6: Day of the Week (e.g. 0 for a Monday, 6 for a Sunday)\n",
    "- 7: Day of the Year (e.g. 1 for Jan., 1st)\n",
    "- 8: Daylight savings (-1, 0, 1, where `-1` means the system library decides)\n",
    "\n",
    "**Struct_time:**\n",
    "\n",
    "Works exactly the same! :-)\n",
    "\n",
    "**PS:** when passing in a 9-tuple as the argument to `time.mktime()` to get the epoch equivalent, you don't need to worry about which day of the week or which day of the year that specific date is, you can pass in `0` for indexes 6 and 7 without a problem. However, for the last (8th) index, just pass in `-1` to let the system decide whether or not to compensate for daylight savings."
   ]
  },
  {
   "cell_type": "code",
   "execution_count": 112,
   "metadata": {},
   "outputs": [
    {
     "name": "stdout",
     "output_type": "stream",
     "text": [
      "1525202400.0\n",
      "Tue May  1 21:20:00 2018\n"
     ]
    }
   ],
   "source": [
    "some_moment = (2018, 5, 1, 21, 20, 0, 0, 0, -1)\n",
    "epoch = time.mktime(some_moment)\n",
    "print(epoch)\n",
    "\n",
    "some_moment_string = time.ctime(epoch)\n",
    "print(some_moment_string)"
   ]
  },
  {
   "cell_type": "markdown",
   "metadata": {},
   "source": [
    "### `time.strftime()`\n",
    "`time.strftime()` returns a string, you can format precisely using a format string with directives and helper string components (if you want to), and by passing in a time-tuple (a `time.struct_time` object) as a second argument (being either the current time / no argument, or any time in the past or future)."
   ]
  },
  {
   "cell_type": "code",
   "execution_count": 84,
   "metadata": {
    "scrolled": true
   },
   "outputs": [
    {
     "name": "stdout",
     "output_type": "stream",
     "text": [
      "Today (2018-05-01) it's a Tuesday\n",
      "Right now: Tuesday, 01 May 2018 (20:25:04)\n"
     ]
    }
   ],
   "source": [
    "localtime = time.localtime()\n",
    "\n",
    "# Two examples regarding time string formatting\n",
    "print(time.strftime('Today (%Y-%m-%d) it\\'s a %A', localtime))\n",
    "print(time.strftime('Right now: %A, %d %b %Y (%H:%M:%S)', localtime))"
   ]
  },
  {
   "cell_type": "markdown",
   "metadata": {},
   "source": [
    "**PS:** \n",
    "The following (common) directives, and their meaning, are used a lot with time string formatting:\n",
    "\n",
    "- `%a`: abbreviated weekday name\n",
    "- `%A`: full weekday name\n",
    "- `%b`: abbreviated month name\n",
    "- `%B`: full month name\n",
    "- `%c`: date/time representation of the current locale (e.g. `Sun Apr 29 22:15:37 2018`)\n",
    "- `%d`: day of the month (01 .. 31)\n",
    "- `%H`: 24-hour clock hour (00 ..23)\n",
    "- `%j`: day of the year (001 .. 366)\n",
    "- `%m`: month (01 ..12)\n",
    "- `%M`: minute (00 ..59)\n",
    "- `%S`: seconds\n",
    "- `%w`: weekday (0 .. 6)\n",
    "- `%W`: week number (00 .. 53)\n",
    "- `%Y`: 4-digit year\n",
    "- `%Z`: Timezone name"
   ]
  },
  {
   "cell_type": "markdown",
   "metadata": {},
   "source": [
    "### `time.strptime()`\n",
    "Works the other way around as `time.strftime()` does: `time.strptime()` parses a time-string (as first argument) which represents a certain date/time, and a format string following a specific format as a parser helper. It returns a `time.struct_time` object, and works with the same directives as mentioned right above regarding `time.strftime()`."
   ]
  },
  {
   "cell_type": "code",
   "execution_count": 83,
   "metadata": {},
   "outputs": [
    {
     "name": "stdout",
     "output_type": "stream",
     "text": [
      "time.struct_time(tm_year=2015, tm_mon=2, tm_mday=14, tm_hour=0, tm_min=0, tm_sec=0, tm_wday=5, tm_yday=45, tm_isdst=-1)\n"
     ]
    }
   ],
   "source": [
    "localtime = time.strptime(\"14 Feb 2015\", \"%d %b %Y\")\n",
    "print(localtime)"
   ]
  },
  {
   "cell_type": "markdown",
   "metadata": {},
   "source": [
    "### `time.asctime()`\n",
    "Returns a (current locale-based) date/time string representation of the time-tuple (or blank) passed to it as its argument."
   ]
  },
  {
   "cell_type": "code",
   "execution_count": 90,
   "metadata": {},
   "outputs": [
    {
     "name": "stdout",
     "output_type": "stream",
     "text": [
      "Tue May  1 20:28:04 2018\n"
     ]
    }
   ],
   "source": [
    "localtime = time.asctime()\n",
    "print(localtime)"
   ]
  },
  {
   "cell_type": "markdown",
   "metadata": {},
   "source": [
    "### `time.ctime()`\n",
    "About the same as `time.asctime()` but possible to pass in nothing as an argument (\"now\"), or seconds since the UNIX epoch:"
   ]
  },
  {
   "cell_type": "code",
   "execution_count": 91,
   "metadata": {},
   "outputs": [
    {
     "name": "stdout",
     "output_type": "stream",
     "text": [
      "Tue May  1 20:28:15 2018\n"
     ]
    }
   ],
   "source": [
    "localtime = time.ctime()\n",
    "print(localtime)"
   ]
  },
  {
   "cell_type": "code",
   "execution_count": 73,
   "metadata": {
    "scrolled": true
   },
   "outputs": [
    {
     "name": "stdout",
     "output_type": "stream",
     "text": [
      "Thu Jan  1 01:02:03 1970\n"
     ]
    }
   ],
   "source": [
    "localtime = time.ctime(123)\n",
    "print(localtime)"
   ]
  },
  {
   "cell_type": "markdown",
   "metadata": {},
   "source": [
    "# Let's wrap things up with a nice back-and-forth conversion example combining it all!\n",
    "\n",
    "Say, you are working with some date/time string in a specific format. And you just want to use the `time` module, add some time to it, and present the new time string in the same format.\n",
    "\n",
    "Then this is how to go about that:"
   ]
  },
  {
   "cell_type": "code",
   "execution_count": 128,
   "metadata": {},
   "outputs": [
    {
     "name": "stdout",
     "output_type": "stream",
     "text": [
      "14 Feb 2015 09:15:00\n",
      "14 Feb 2015 09:30:00\n"
     ]
    }
   ],
   "source": [
    "# Some moment in time\n",
    "x_date_string = \"14 Feb 2015 09:15:00\"\n",
    "x_time_struct = time.strptime(x_date_string, \"%d %b %Y %H:%M:%S\")\n",
    "x_epoch = time.mktime(x_time_struct)\n",
    "\n",
    "# 15 minutes later\n",
    "y_epoch = x_epoch + 900\n",
    "y_time_struct = time.localtime(y_epoch)\n",
    "y_date_string = time.strftime(\"%d %b %Y %H:%M:%S\", y_time_struct)\n",
    "\n",
    "print(x_date_string)\n",
    "print(y_date_string)"
   ]
  },
  {
   "cell_type": "markdown",
   "metadata": {},
   "source": [
    "# The `calendar` module\n",
    "Although I don't use the `calendar` module too much, personally, I still wanted to (briefly) discuss some basic features it provides. I deliberately picked a few methods that add some additional value on top of what we've discussed above regarding functionality of the `time` module."
   ]
  },
  {
   "cell_type": "markdown",
   "metadata": {},
   "source": [
    "### `calendar.calendar()`\n",
    "With this method, you're able to conveniently print an entire year's calendar."
   ]
  },
  {
   "cell_type": "code",
   "execution_count": 130,
   "metadata": {},
   "outputs": [
    {
     "name": "stdout",
     "output_type": "stream",
     "text": [
      "                                  2018\n",
      "\n",
      "      January                   February                   March\n",
      "Fr Sa Su Mo Tu We Th      Fr Sa Su Mo Tu We Th      Fr Sa Su Mo Tu We Th\n",
      "          1  2  3  4                         1                         1\n",
      " 5  6  7  8  9 10 11       2  3  4  5  6  7  8       2  3  4  5  6  7  8\n",
      "12 13 14 15 16 17 18       9 10 11 12 13 14 15       9 10 11 12 13 14 15\n",
      "19 20 21 22 23 24 25      16 17 18 19 20 21 22      16 17 18 19 20 21 22\n",
      "26 27 28 29 30 31         23 24 25 26 27 28         23 24 25 26 27 28 29\n",
      "                                                    30 31\n",
      "\n",
      "       April                      May                       June\n",
      "Fr Sa Su Mo Tu We Th      Fr Sa Su Mo Tu We Th      Fr Sa Su Mo Tu We Th\n",
      "       1  2  3  4  5                   1  2  3       1  2  3  4  5  6  7\n",
      " 6  7  8  9 10 11 12       4  5  6  7  8  9 10       8  9 10 11 12 13 14\n",
      "13 14 15 16 17 18 19      11 12 13 14 15 16 17      15 16 17 18 19 20 21\n",
      "20 21 22 23 24 25 26      18 19 20 21 22 23 24      22 23 24 25 26 27 28\n",
      "27 28 29 30               25 26 27 28 29 30 31      29 30\n",
      "\n",
      "        July                     August                  September\n",
      "Fr Sa Su Mo Tu We Th      Fr Sa Su Mo Tu We Th      Fr Sa Su Mo Tu We Th\n",
      "       1  2  3  4  5                      1  2          1  2  3  4  5  6\n",
      " 6  7  8  9 10 11 12       3  4  5  6  7  8  9       7  8  9 10 11 12 13\n",
      "13 14 15 16 17 18 19      10 11 12 13 14 15 16      14 15 16 17 18 19 20\n",
      "20 21 22 23 24 25 26      17 18 19 20 21 22 23      21 22 23 24 25 26 27\n",
      "27 28 29 30 31            24 25 26 27 28 29 30      28 29 30\n",
      "                          31\n",
      "\n",
      "      October                   November                  December\n",
      "Fr Sa Su Mo Tu We Th      Fr Sa Su Mo Tu We Th      Fr Sa Su Mo Tu We Th\n",
      "          1  2  3  4                         1          1  2  3  4  5  6\n",
      " 5  6  7  8  9 10 11       2  3  4  5  6  7  8       7  8  9 10 11 12 13\n",
      "12 13 14 15 16 17 18       9 10 11 12 13 14 15      14 15 16 17 18 19 20\n",
      "19 20 21 22 23 24 25      16 17 18 19 20 21 22      21 22 23 24 25 26 27\n",
      "26 27 28 29 30 31         23 24 25 26 27 28 29      28 29 30 31\n",
      "                          30\n",
      "\n"
     ]
    }
   ],
   "source": [
    "import calendar\n",
    "my_cal = calendar.calendar(2018)\n",
    "print(my_cal)"
   ]
  },
  {
   "cell_type": "markdown",
   "metadata": {},
   "source": [
    "### `calendar.month()`\n",
    "With `calendar.month()` you can pass in both a year and month number as arguments, and print just that single month calender, like so:"
   ]
  },
  {
   "cell_type": "code",
   "execution_count": 34,
   "metadata": {},
   "outputs": [
    {
     "name": "stdout",
     "output_type": "stream",
     "text": [
      "     April 2018\n",
      "Mo Tu We Th Fr Sa Su\n",
      "                   1\n",
      " 2  3  4  5  6  7  8\n",
      " 9 10 11 12 13 14 15\n",
      "16 17 18 19 20 21 22\n",
      "23 24 25 26 27 28 29\n",
      "30\n",
      "\n"
     ]
    }
   ],
   "source": [
    "import calendar\n",
    "\n",
    "apr_2018 = calendar.month(2018, 4)\n",
    "print(apr_2018)"
   ]
  },
  {
   "cell_type": "markdown",
   "metadata": {},
   "source": [
    "### `calendar.monthrange()`\n",
    "The `calendar.monthrange()` method returns a tuple of two integers, where the first represents the \"weekday code\" for the first day of that month (monday: 0, sunday: 6), and the second returns the amount of days in that month. This can be convenient to serve as input for other functions in your code."
   ]
  },
  {
   "cell_type": "code",
   "execution_count": 41,
   "metadata": {},
   "outputs": [
    {
     "data": {
      "text/plain": [
       "(6, 30)"
      ]
     },
     "execution_count": 41,
     "metadata": {},
     "output_type": "execute_result"
    }
   ],
   "source": [
    "calendar.monthrange(2018, 4)"
   ]
  },
  {
   "cell_type": "markdown",
   "metadata": {},
   "source": [
    "### `calendar.weekday()`\n",
    "The `calendar.weekday()` method simply returns the weekday number for a given date."
   ]
  },
  {
   "cell_type": "code",
   "execution_count": 43,
   "metadata": {},
   "outputs": [
    {
     "data": {
      "text/plain": [
       "5"
      ]
     },
     "execution_count": 43,
     "metadata": {},
     "output_type": "execute_result"
    }
   ],
   "source": [
    "calendar.weekday(2018,4,28)"
   ]
  },
  {
   "cell_type": "markdown",
   "metadata": {},
   "source": [
    "### `calendar.isleap()`\n",
    "The `calendar.isleap()` method returns `True` or `False` whether the year as its argument is a leap year or not."
   ]
  },
  {
   "cell_type": "code",
   "execution_count": 38,
   "metadata": {},
   "outputs": [
    {
     "data": {
      "text/plain": [
       "False"
      ]
     },
     "execution_count": 38,
     "metadata": {},
     "output_type": "execute_result"
    }
   ],
   "source": [
    "calendar.isleap(2018)"
   ]
  },
  {
   "cell_type": "markdown",
   "metadata": {},
   "source": [
    "### `calendar.leapdays()`\n",
    "And as a final method (for this tutorial episode) the `calendar.leapdays()` method returns the number of leapdays occurring within in interval of two years."
   ]
  },
  {
   "cell_type": "code",
   "execution_count": 42,
   "metadata": {},
   "outputs": [
    {
     "data": {
      "text/plain": [
       "10"
      ]
     },
     "execution_count": 42,
     "metadata": {},
     "output_type": "execute_result"
    }
   ],
   "source": [
    "calendar.leapdays(1978,2018)"
   ]
  },
  {
   "cell_type": "markdown",
   "metadata": {},
   "source": [
    "# What did we learn, hopefully?\n",
    "\n",
    "In this episode, we first discussed the existance of several date/time modules within Python (`time`, `datetime`, and `calendar`) and we then focused on the `time` module specifically, going over the various built-in methods in the `time` module and about how to use them, providing small code examples for each method discussed.\n",
    "\n",
    "We also discussed and listed time string formatting directives, and the index numbers and meanings of full-9-time tuples and time_struct objects, which are all needed of course to convert between time objects and strings, while in the mean time being able to do some calculations with them (using seconds as the default unit because of the UNIX timestamps nature, which are seconds as well). We then wrapped things up, considering the `time` module with a real-life back-and-forth conversion example; tinkering around with the format strings will probably give you all the tools you need to work with, and so some time-offsetting coding on, any kind of date/time format string.\n",
    "\n",
    "In the next `Learn Python Series` episodes, we'll continue with the `datetime` module, and the external `Maya` package!\n",
    "\n",
    "### Thank you for your time!"
   ]
  }
 ],
 "metadata": {
  "kernelspec": {
   "display_name": "Python 3",
   "language": "python",
   "name": "python3"
  },
  "language_info": {
   "codemirror_mode": {
    "name": "ipython",
    "version": 3
   },
   "file_extension": ".py",
   "mimetype": "text/x-python",
   "name": "python",
   "nbconvert_exporter": "python",
   "pygments_lexer": "ipython3",
   "version": "3.6.4"
  }
 },
 "nbformat": 4,
 "nbformat_minor": 2
}
