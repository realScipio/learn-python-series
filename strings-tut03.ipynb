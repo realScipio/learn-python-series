{
 "cells": [
  {
   "cell_type": "markdown",
   "metadata": {},
   "source": [
    "# Learn Python Series (#27) - Handling Strings Part 3 (F-Strings)\n",
    "Right at the beginning of the `Learn Python Series` we already covered a lot regarding the handling of strings in [Learn Python Series (#2) - Handling Strings Part 1](https://steemit.com/utopian-io/@scipio/learn-python-series-2-handling-strings-part-1) and [Learn Python Series (#3) - Handling Strings Part 2](https://steemit.com/utopian-io/@scipio/learn-python-series-3-handling-strings-part-2).\n",
    "\n",
    "What we did not discuss yet in those two earlier episodes, is that **beginning with Python 3.6** a new way to perform string substitution has been introduced: the **\"Formatted String Literals\"**, also dubbed **\"F-Strings\"** for short. Let's dive right in!"
   ]
  },
  {
   "cell_type": "markdown",
   "metadata": {},
   "source": [
    "### Repository\n",
    "https://github.com/python/cpython"
   ]
  },
  {
   "cell_type": "markdown",
   "metadata": {},
   "source": [
    "### What will I learn?\n",
    "\n",
    "- In this episode of the `Learn Python Series` we will introduce F-Strings, also called \"Formatted String Literals\", as a new way (introduced in Python 3.6) to format strings,\n",
    "- a small re-cap is given, in which we'll quickly go over the handling of strings that was covered in in [Learn Python Series (#2) - Handling Strings Part 1](https://steemit.com/utopian-io/@scipio/learn-python-series-2-handling-strings-part-1) and [Learn Python Series (#3) - Handling Strings Part 2](https://steemit.com/utopian-io/@scipio/learn-python-series-3-handling-strings-part-2),\n",
    "- that re-cap is needed to explain how F-Strings are both easier to read and write, less verbose, more powerful than operator overloaded %-formatting and the str.format() mechanisms,\n",
    "- regarding F-Strings you will learn about (basic) string-only substitutions, mixed datatype substitutions, substituting dictionary elements, how to evaluate expressions, functions and methods right inside an F-String's placeholder, about formatting dates and times, multiline formatting, and about some neat format specifiers."
   ]
  },
  {
   "cell_type": "markdown",
   "metadata": {},
   "source": [
    "### Requirements\n",
    "\n",
    "- A working modern computer running macOS, Windows or Ubuntu;\n",
    "- An installed Python 3(.6) distribution, such as (for example) the Anaconda Distribution;\n",
    "- The ambition to learn Python programming."
   ]
  },
  {
   "cell_type": "markdown",
   "metadata": {},
   "source": [
    "### Difficulty\n",
    "\n",
    "- Beginner"
   ]
  },
  {
   "cell_type": "markdown",
   "metadata": {},
   "source": [
    "### Curriculum (of the `Learn Python Series`):\n",
    "\n",
    "- [Learn Python Series - Intro](https://steemit.com/utopian-io/@scipio/learn-python-series-intro)\n",
    "- [Learn Python Series (#2) - Handling Strings Part 1](https://steemit.com/utopian-io/@scipio/learn-python-series-2-handling-strings-part-1)\n",
    "- [Learn Python Series (#3) - Handling Strings Part 2](https://steemit.com/utopian-io/@scipio/learn-python-series-3-handling-strings-part-2)\n",
    "- [Learn Python Series (#4) - Round-Up #1](https://steemit.com/utopian-io/@scipio/learn-python-series-4-round-up-1)\n",
    "- [Learn Python Series (#5) - Handling Lists Part 1](https://steemit.com/utopian-io/@scipio/learn-python-series-5-handling-lists-part-1)\n",
    "- [Learn Python Series (#6) - Handling Lists Part 2](https://steemit.com/utopian-io/@scipio/learn-python-series-6-handling-lists-part-2)\n",
    "- [Learn Python Series (#7) - Handling Dictionaries](https://steemit.com/utopian-io/@scipio/learn-python-series-7-handling-dictionaries)\n",
    "- [Learn Python Series (#8) - Handling Tuples](https://steemit.com/utopian-io/@scipio/learn-python-series-8-handling-tuples)\n",
    "- [Learn Python Series (#9) - Using Import](https://steemit.com/utopian-io/@scipio/learn-python-series-9-using-import)\n",
    "- [Learn Python Series (#10) - Matplotlib Part 1](https://steemit.com/utopian-io/@scipio/learn-python-series-10-matplotlib-part-1)\n",
    "- [Learn Python Series (#11) - NumPy Part 1](https://steemit.com/utopian-io/@scipio/learn-python-series-11-numpy-part-1)\n",
    "- [Learn Python Series (#12) - Handling Files](https://steemit.com/utopian-io/@scipio/learn-python-series-12-handling-files)\n",
    "- [Learn Python Series (#13) - Mini Project - Developing a Web Crawler Part 1](https://steemit.com/utopian-io/@scipio/learn-python-series-13-mini-project-developing-a-web-crawler-part-1)\n",
    "- [Learn Python Series (#14) - Mini Project - Developing a Web Crawler Part 2](https://steemit.com/utopian-io/@scipio/learn-python-series-14-mini-project-developing-a-web-crawler-part-2)\n",
    "- [Learn Python Series (#15) - Handling JSON](https://steemit.com/utopian-io/@scipio/learn-python-series-15-handling-json)\n",
    "- [Learn Python Series (#16) - Mini Project - Developing a Web Crawler Part 3](https://steemit.com/utopian-io/@scipio/learn-python-series-16-mini-project-developing-a-web-crawler-part-3)\n",
    "- [Learn Python Series (#17) - Roundup #2 - Combining and analyzing any-to-any multi-currency historical data](https://steemit.com/utopian-io/@scipio/learn-python-series-17-roundup-2-combining-and-analyzing-any-to-any-multi-currency-historical-data)\n",
    "- [Learn Python Series (#18) - PyMongo Part 1](https://steemit.com/utopian-io/@scipio/learn-python-series-18-pymongo-part-1)\n",
    "- [Learn Python Series (#19) - PyMongo Part 2](https://steemit.com/utopian-io/@scipio/learn-python-series-19-pymongo-part-2)\n",
    "- [Learn Python Series (#20) - PyMongo Part 3](https://steemit.com/utopian-io/@scipio/learn-python-series-20-pymongo-part-3)\n",
    "- [Learn Python Series (#21) - Handling Dates and Time Part 1](https://steemit.com/utopian-io/@scipio/learn-python-series-21-handling-dates-and-time-part-1)\n",
    "- [Learn Python Series (#22) - Handling Dates and Time Part 2](https://steemit.com/utopian-io/@scipio/learn-python-series-22-handling-dates-and-time-part-2)\n",
    "- [Learn Python Series (#23) - Handling Regular Expressions Part 1](https://steemit.com/utopian-io/@scipio/learn-python-series-23-handling-regular-expressions-part-1)\n",
    "- [Learn Python Series (#24) - Handling Regular Expressions Part 2](https://steemit.com/utopian-io/@scipio/learn-python-series-24-handling-regular-expressions-part-2)\n",
    "- [Learn Python Series (#25) - Handling Regular Expressions Part 3](https://steemit.com/utopian-io/@scipio/learn-python-series-25-handling-regular-expressions-part-3)\n",
    "- [Learn Python Series (#26) - pipenv & Visual Studio Code](https://steemit.com/utopian-io/@scipio/learn-python-series-26-pipenv-and-visual-studio-code)"
   ]
  },
  {
   "cell_type": "markdown",
   "metadata": {},
   "source": [
    "### GitHub Account\n",
    "https://github.com/realScipio"
   ]
  },
  {
   "cell_type": "markdown",
   "metadata": {},
   "source": [
    "# A small re-cap on Output Formatting\n",
    "\n",
    "### Basic printing\n",
    "Say we have one string variable and we'd like to print it, then of course we can do so like this:"
   ]
  },
  {
   "cell_type": "code",
   "execution_count": 1,
   "metadata": {},
   "outputs": [
    {
     "name": "stdout",
     "output_type": "stream",
     "text": [
      "This is a sentence\n"
     ]
    }
   ],
   "source": [
    "str1 = 'This is a sentence'\n",
    "print(str1)"
   ]
  },
  {
   "cell_type": "markdown",
   "metadata": {},
   "source": [
    "### String concatenation\n",
    "If we want to \"glue together\" multiple strings to form a larger string, then string concatenation using the `+` operator also works straightforward:"
   ]
  },
  {
   "cell_type": "code",
   "execution_count": 2,
   "metadata": {},
   "outputs": [
    {
     "name": "stdout",
     "output_type": "stream",
     "text": [
      "How do you like your eggs in the morning?\n"
     ]
    }
   ],
   "source": [
    "str2 = 'How do you like '\n",
    "str3 = 'your eggs in '\n",
    "str4 = 'the morning?'\n",
    "sentence = str2 + str3 + str4\n",
    "print(sentence)"
   ]
  },
  {
   "cell_type": "markdown",
   "metadata": {},
   "source": [
    "### Explicit type conversion when concatenating mixed data types\n",
    "Basic string concatenation doesn't work when you try to concatenate one or more string variables to other data types, for example an integer. Prior to concatenating those non-string variables, you'd first need to explicitly convert their data type to a string:"
   ]
  },
  {
   "cell_type": "code",
   "execution_count": 3,
   "metadata": {},
   "outputs": [
    {
     "name": "stdout",
     "output_type": "stream",
     "text": [
      "3 is the magic number\n"
     ]
    }
   ],
   "source": [
    "magic_number = 3\n",
    "str5 = \" is the magic number\"\n",
    "sentence = str(magic_number) + str5\n",
    "print(sentence)"
   ]
  },
  {
   "cell_type": "markdown",
   "metadata": {},
   "source": [
    "### Operator overloaded %-formatting\n",
    "Borrowed from C/C++, you can use the % operator together with placeholders to format strings. To substitute multiple variables, use a tuple. For example: "
   ]
  },
  {
   "cell_type": "code",
   "execution_count": 5,
   "metadata": {},
   "outputs": [
    {
     "name": "stdout",
     "output_type": "stream",
     "text": [
      "A dog is a man's best friend\n"
     ]
    }
   ],
   "source": [
    "animal = 'dog'\n",
    "human = 'man'\n",
    "sentence = \"A %s is a %s's best friend\" % (animal, human)\n",
    "print(sentence)"
   ]
  },
  {
   "cell_type": "markdown",
   "metadata": {},
   "source": [
    "I personally think this is not so easily readable, it gets a bit \"messy\", don't you agree?"
   ]
  },
  {
   "cell_type": "markdown",
   "metadata": {},
   "source": [
    "### The `format()` string method\n",
    "Introduced in Python 2.6, `str.format()` can be considered an improvement to %-formatting, and uses normal function call syntax in conjunction with a format string / template. Like so:\n",
    "\n",
    "**Empty placeholders:**"
   ]
  },
  {
   "cell_type": "code",
   "execution_count": 6,
   "metadata": {},
   "outputs": [
    {
     "name": "stdout",
     "output_type": "stream",
     "text": [
      "My name is scipio and my current Steem reputation is 63\n"
     ]
    }
   ],
   "source": [
    "name = 'scipio'\n",
    "rep = 63\n",
    "sentence = \"My name is {} and my current Steem reputation is {}\".format(name, rep)\n",
    "print(sentence)"
   ]
  },
  {
   "cell_type": "markdown",
   "metadata": {},
   "source": [
    "**Indexed placeholders:**"
   ]
  },
  {
   "cell_type": "code",
   "execution_count": 7,
   "metadata": {},
   "outputs": [
    {
     "name": "stdout",
     "output_type": "stream",
     "text": [
      "I like SBD better than Steem\n",
      "I like Steem better than SBD\n"
     ]
    }
   ],
   "source": [
    "cur1 = 'SBD'\n",
    "cur2 = 'Steem'\n",
    "sentence1 = \"I like {0} better than {1}\".format(cur1, cur2)\n",
    "sentence2 = \"I like {1} better than {0}\".format(cur1, cur2)\n",
    "print(sentence1)\n",
    "print(sentence2)"
   ]
  },
  {
   "cell_type": "markdown",
   "metadata": {},
   "source": [
    "**Dictionary keys:**"
   ]
  },
  {
   "cell_type": "code",
   "execution_count": 10,
   "metadata": {},
   "outputs": [
    {
     "name": "stdout",
     "output_type": "stream",
     "text": [
      "a, b, c\n"
     ]
    }
   ],
   "source": [
    "dict = {'ch1': 'a', 'ch2': 'b', 'ch3': 'c'}\n",
    "sentence = \"{ch1}, {ch2}, {ch3}\".format(**dict)\n",
    "print(sentence)"
   ]
  },
  {
   "cell_type": "markdown",
   "metadata": {},
   "source": [
    "**Keyword arguments:**"
   ]
  },
  {
   "cell_type": "code",
   "execution_count": 9,
   "metadata": {
    "scrolled": true
   },
   "outputs": [
    {
     "name": "stdout",
     "output_type": "stream",
     "text": [
      "a, b, c\n"
     ]
    }
   ],
   "source": [
    "ch1 = 'a'\n",
    "ch2 = 'b'\n",
    "ch3 = 'c'\n",
    "sentence = \"{ch1}, {ch2}, {ch3}\".format(ch1=ch1, ch2=ch2, ch3=ch3)\n",
    "print(sentence)"
   ]
  },
  {
   "cell_type": "markdown",
   "metadata": {},
   "source": [
    "The `str.format()` format is, in my opinion, easier to read than %-formatting, but can still get pretty verbose and lengthy if you're handling lots of parameters and / or long format strings."
   ]
  },
  {
   "cell_type": "markdown",
   "metadata": {},
   "source": [
    "# Formatted String Literals, \"F-Strings\""
   ]
  },
  {
   "cell_type": "markdown",
   "metadata": {},
   "source": [
    "Enter **F-strings**, introduced in Python 3.6. F-strings begin with an `f` and, like the str.format() method use `{}` curly braces containing variable names / expressions that will be substituted with the resulting values, at runtime. The F-strings syntax looks a lot like str.format() but is much less verbose and therefore much easier on the eyes! Let's have a look:"
   ]
  },
  {
   "cell_type": "markdown",
   "metadata": {},
   "source": [
    "### String-only substitutions:\n",
    "In its most basic form, this is how you use F-Strings:\n",
    "\n",
    "- the string variable named `sentence` is prepended with the letter `f`\n",
    "- and to \"inject\" the two other strings named `animal` and `human` inside it, simply place the placeholders surrounded by curly braces `{}` and inside it contain the variable names."
   ]
  },
  {
   "cell_type": "code",
   "execution_count": 60,
   "metadata": {},
   "outputs": [
    {
     "name": "stdout",
     "output_type": "stream",
     "text": [
      "A dog is a man's best friend\n"
     ]
    }
   ],
   "source": [
    "animal = 'dog'\n",
    "human = 'man'\n",
    "sentence = f\"A {animal} is a {human}'s best friend\"\n",
    "print(sentence)"
   ]
  },
  {
   "cell_type": "markdown",
   "metadata": {},
   "source": [
    "As you can tell right away, F-Strings are very easy to read/write and understand!"
   ]
  },
  {
   "cell_type": "markdown",
   "metadata": {},
   "source": [
    "### Mixed datatype substitutions:\n",
    "As opposed to basic string concatenation, F-Strings allow for substituting various and mixed data types, such as, in this example, a string `steem` and a float `steem_price`:"
   ]
  },
  {
   "cell_type": "code",
   "execution_count": 13,
   "metadata": {},
   "outputs": [
    {
     "name": "stdout",
     "output_type": "stream",
     "text": [
      "The price of Steem is $1.52\n"
     ]
    }
   ],
   "source": [
    "steem = 'Steem'\n",
    "steem_price = 1.52\n",
    "\n",
    "sentence = f\"The price of {steem} is ${steem_price}\"\n",
    "print(sentence)"
   ]
  },
  {
   "cell_type": "markdown",
   "metadata": {},
   "source": [
    "### Dictionary keys:\n",
    "In case you want to use a dictionary, the F-String format becomes slightly more verbose, where you reference the dictionary object together with its key, which will be substituted with the corresponding value, like so:"
   ]
  },
  {
   "cell_type": "code",
   "execution_count": 15,
   "metadata": {},
   "outputs": [
    {
     "name": "stdout",
     "output_type": "stream",
     "text": [
      "The woman began smiling when she felt joy\n"
     ]
    }
   ],
   "source": [
    "dict = {\n",
    "    \"emotion\": \"joy\",\n",
    "    \"response\": \"smiling\"\n",
    "}\n",
    "sentence = f\"The woman began {dict['response']} when she felt {dict['emotion']}\"\n",
    "print(sentence)"
   ]
  },
  {
   "cell_type": "markdown",
   "metadata": {},
   "source": [
    "### Expression evaluation:\n",
    "A very cool feature of F-Strings is that you are allowed to directly insert expressions, that will be evaluated (to its corresponding value) at runtime. The following example, calculating and printing the ratio of Steem and SBD prices, shows this perfectly:"
   ]
  },
  {
   "cell_type": "code",
   "execution_count": 14,
   "metadata": {},
   "outputs": [
    {
     "name": "stdout",
     "output_type": "stream",
     "text": [
      "You can now buy 0.9210526315789473 Steem for 1 SBD\n"
     ]
    }
   ],
   "source": [
    "steem = 'Steem'\n",
    "steem_price = 1.52\n",
    "sbd = 'SBD'\n",
    "sbd_price = 1.40\n",
    "\n",
    "sentence = f\"You can now buy {sbd_price / steem_price} {steem} for 1 {sbd}\"\n",
    "print(sentence)"
   ]
  },
  {
   "cell_type": "markdown",
   "metadata": {},
   "source": [
    "### Function calling:\n",
    "What's even cooler is that you can even call (self-defined) functions with passed-in arguments, like so:"
   ]
  },
  {
   "cell_type": "code",
   "execution_count": 20,
   "metadata": {},
   "outputs": [
    {
     "name": "stdout",
     "output_type": "stream",
     "text": [
      "The area of a circle with radius 3 is 28.274333882308138\n"
     ]
    }
   ],
   "source": [
    "from math import pi\n",
    "\n",
    "def circle_area(radius):\n",
    "    return pi * radius ** 2\n",
    "\n",
    "radius = 3\n",
    "sentence = f\"The area of a circle with radius {radius} is {circle_area(radius)}\"\n",
    "print(sentence)"
   ]
  },
  {
   "cell_type": "markdown",
   "metadata": {},
   "source": [
    "### Method calling:\n",
    "And the same goes for built-in methods: in the following example, since `name` is a string, you can use the `str.upper()` method (for example) to print capitals:"
   ]
  },
  {
   "cell_type": "code",
   "execution_count": 21,
   "metadata": {},
   "outputs": [
    {
     "name": "stdout",
     "output_type": "stream",
     "text": [
      "My name is SCIPIO\n"
     ]
    }
   ],
   "source": [
    "name = 'scipio'\n",
    "sentence = f\"My name is {name.upper()}\"\n",
    "print(sentence)"
   ]
  },
  {
   "cell_type": "markdown",
   "metadata": {},
   "source": [
    "### Multiline F-Strings:\n",
    "Longer F-Strings can be broken down into smaller chunks in a multiline-style. Make sure to surround the total F-String with parentheses `()` and to prepend each substring with the `f` on each line, like so:"
   ]
  },
  {
   "cell_type": "code",
   "execution_count": 27,
   "metadata": {},
   "outputs": [
    {
     "name": "stdout",
     "output_type": "stream",
     "text": [
      "My name is scipio, and as a hobby I like programming in Python\n"
     ]
    }
   ],
   "source": [
    "name = 'scipio'\n",
    "hobby = 'programming'\n",
    "language = 'Python'\n",
    "\n",
    "sentence = (\n",
    "    f\"My name is {name}, \"\n",
    "    f\"and as a hobby I like \"\n",
    "    f\"{hobby} in {language}\"\n",
    ")\n",
    "print(sentence)"
   ]
  },
  {
   "cell_type": "markdown",
   "metadata": {},
   "source": [
    "### Format specifiers:\n",
    "\n",
    "If you don't specify the precision, a float such as PI will get printed with a lot (15) of digits, like so:"
   ]
  },
  {
   "cell_type": "code",
   "execution_count": 28,
   "metadata": {},
   "outputs": [
    {
     "name": "stdout",
     "output_type": "stream",
     "text": [
      "PI is equal to 3.141592653589793\n"
     ]
    }
   ],
   "source": [
    "from math import pi\n",
    "\n",
    "sentence = f\"PI is equal to {pi}\"\n",
    "print(sentence)"
   ]
  },
  {
   "cell_type": "markdown",
   "metadata": {},
   "source": [
    "However, F-Strings allow for \"format specifiers\" that enable you to precisely define the precision you want printed.\n",
    "\n",
    "In order to do so, use the format\n",
    "\n",
    "```\n",
    "f\"{value:{width}.{precision}type_specifier}\"\n",
    "```\n",
    "\n",
    "E.g.:"
   ]
  },
  {
   "cell_type": "code",
   "execution_count": 36,
   "metadata": {},
   "outputs": [
    {
     "name": "stdout",
     "output_type": "stream",
     "text": [
      "PI is equal to               3.1416\n"
     ]
    }
   ],
   "source": [
    "from math import pi\n",
    "\n",
    "sentence = f\"PI is equal to {pi:20.4f}\"\n",
    "print(sentence)"
   ]
  },
  {
   "cell_type": "markdown",
   "metadata": {},
   "source": [
    "or"
   ]
  },
  {
   "cell_type": "code",
   "execution_count": 37,
   "metadata": {},
   "outputs": [
    {
     "name": "stdout",
     "output_type": "stream",
     "text": [
      "PI is equal to               3.1416\n"
     ]
    }
   ],
   "source": [
    "from math import pi\n",
    "\n",
    "width = 20\n",
    "precision = 4\n",
    "\n",
    "sentence = f\"PI is equal to {pi:{width}.{precision}f}\"\n",
    "print(sentence)"
   ]
  },
  {
   "cell_type": "markdown",
   "metadata": {},
   "source": [
    "**Nota bene:** The precision argument doesn't just truncate but correctly round PI.\n",
    "\n",
    "In case you want to zero pad all numbers ranging from 1 to 10, then `width=4`, \"aligned right\" is done like so:"
   ]
  },
  {
   "cell_type": "code",
   "execution_count": 52,
   "metadata": {},
   "outputs": [
    {
     "name": "stdout",
     "output_type": "stream",
     "text": [
      "0001\n",
      "0002\n",
      "0003\n",
      "0004\n",
      "0005\n",
      "0006\n",
      "0007\n",
      "0008\n",
      "0009\n",
      "0010\n"
     ]
    }
   ],
   "source": [
    "for i in range(1,11):\n",
    "    print(f\"{i:0>4}\")"
   ]
  },
  {
   "cell_type": "markdown",
   "metadata": {},
   "source": [
    "You could for example also use another padding character, such as `*` and align the numbers left, like this:"
   ]
  },
  {
   "cell_type": "code",
   "execution_count": 58,
   "metadata": {},
   "outputs": [
    {
     "name": "stdout",
     "output_type": "stream",
     "text": [
      "1***\n",
      "2***\n",
      "3***\n",
      "4***\n",
      "5***\n",
      "6***\n",
      "7***\n",
      "8***\n",
      "9***\n",
      "10**\n"
     ]
    }
   ],
   "source": [
    "for i in range(1,11):\n",
    "    print(f\"{i:*<4}\")"
   ]
  },
  {
   "cell_type": "markdown",
   "metadata": {},
   "source": [
    "### Date formatting\n",
    "In the `Learn Python Series` episodes [22](https://steemit.com/utopian-io/@scipio/learn-python-series-21-handling-dates-and-time-part-1) and [23](https://steemit.com/utopian-io/@scipio/learn-python-series-22-handling-dates-and-time-part-2) we already discussed (among other things of course) how to format dates and times. Almost the exact same techniques can be used on F-Strings as well.\n",
    "\n",
    "Without any formatting, F-String printing of a date looks like this:"
   ]
  },
  {
   "cell_type": "code",
   "execution_count": 59,
   "metadata": {},
   "outputs": [
    {
     "name": "stdout",
     "output_type": "stream",
     "text": [
      "1988-06-25 00:00:00\n"
     ]
    }
   ],
   "source": [
    "from datetime import datetime\n",
    "\n",
    "birthday = datetime(1988,6,25)\n",
    "print(f\"{birthday}\")"
   ]
  },
  {
   "cell_type": "markdown",
   "metadata": {},
   "source": [
    "The same common directives as discussed in episodes [22](https://steemit.com/utopian-io/@scipio/learn-python-series-21-handling-dates-and-time-part-1) and [23](https://steemit.com/utopian-io/@scipio/learn-python-series-22-handling-dates-and-time-part-2), also work with F-Strings:\n",
    "\n",
    "- `%a`: abbreviated weekday name\n",
    "- `%A`: full weekday name\n",
    "- `%b`: abbreviated month name\n",
    "- `%B`: full month name\n",
    "- `%c`: date/time representation of the current locale (e.g. Sun Apr 29 22:15:37 2018)\n",
    "- `%d`: day of the month (01 .. 31)\n",
    "- `%H`: 24-hour clock hour (00 ..23)\n",
    "- `%j`: day of the year (001 .. 366)\n",
    "- `%m`: month (01 ..12)\n",
    "- `%M`: minute (00 ..59)\n",
    "- `%S`: seconds\n",
    "- `%w`: weekday (0 .. 6)\n",
    "- `%W`: week number (00 .. 53)\n",
    "- `%Y`: 4-digit year\n",
    "- `%Z`: Timezone name\n",
    "\n",
    "So, in order to print `Saturday, June 25, 1988` we simply place the format directives we want to use inside the placeholder, after the variable name and the colon `:`"
   ]
  },
  {
   "cell_type": "code",
   "execution_count": 62,
   "metadata": {},
   "outputs": [
    {
     "name": "stdout",
     "output_type": "stream",
     "text": [
      "Saturday, June 25, 1988\n"
     ]
    }
   ],
   "source": [
    "from datetime import datetime\n",
    "\n",
    "birthday = datetime(1988,6,25)\n",
    "print(f\"{birthday:%A, %B %d, %Y}\")"
   ]
  },
  {
   "cell_type": "markdown",
   "metadata": {},
   "source": [
    "# What did we learn, hopefully?\n",
    "\n",
    "This `Part 3` episode of my \"Handling Strings\" subseries shortly re-capped on what was discussed about string formatting in parts 1 and 2, and then introduced how to use F-Strings. We learned that not only are F-Strings \"easy on the eyes\", but that they're also pretty powerful to use, as you can directly insert expressions, call functions, apply methods, which all evaluate at runtime.\n",
    "\n",
    "I hope you will enjoy using F-Strings over other string formatting techniques as much as I do!\n",
    "See you in the next episode!\n",
    "\n",
    "### Thank you for your time!"
   ]
  }
 ],
 "metadata": {
  "kernelspec": {
   "display_name": "Python 3",
   "language": "python",
   "name": "python3"
  },
  "language_info": {
   "codemirror_mode": {
    "name": "ipython",
    "version": 3
   },
   "file_extension": ".py",
   "mimetype": "text/x-python",
   "name": "python",
   "nbconvert_exporter": "python",
   "pygments_lexer": "ipython3",
   "version": "3.6.4"
  }
 },
 "nbformat": 4,
 "nbformat_minor": 2
}
