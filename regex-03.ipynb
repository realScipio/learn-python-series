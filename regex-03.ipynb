{
 "cells": [
  {
   "cell_type": "markdown",
   "metadata": {},
   "source": [
    "# Learn Python Series (#25) - Handling Regular Expressions Part 3\n",
    "Welcome to, already, part 3 of the Regular Expression subseries of my `Learn Python Series`! In `Part 1` we learned how to use a number of functions of the `re` module, using fixed strings, for starters. And in `Part 2` we began exploring the regex language itself, by constructing (relatively simple) expressions, slowly discussing concepts such as Character Classes, ranges, Control Characters and repetition.\n",
    "\n",
    "In this episode - `Part 3` - we will further expand our regex knowledge.\n",
    "Let's begin!"
   ]
  },
  {
   "cell_type": "code",
   "execution_count": 1,
   "metadata": {},
   "outputs": [],
   "source": [
    "import re"
   ]
  },
  {
   "cell_type": "markdown",
   "metadata": {},
   "source": [
    "# More about Control Characters"
   ]
  },
  {
   "cell_type": "markdown",
   "metadata": {},
   "source": [
    "### The `^` (caret) character, for the beginning of a string or line\n",
    "As we've seen, when the `^` character is used inside a character set `[ ]`, it serves the purpose of excluding the characters placed inside the character set, or in other words, to match anything but those character.\n",
    "\n",
    "However, when `^` is used outside of a character set, it means something different: match the pattern if it occurs at the beginning of the input string.\n",
    "You could also state \"`^` means the start of the string, and the match we're looking for occurs right after it\".\n",
    "\n",
    "For example:"
   ]
  },
  {
   "cell_type": "code",
   "execution_count": 9,
   "metadata": {},
   "outputs": [
    {
     "name": "stdout",
     "output_type": "stream",
     "text": [
      "<_sre.SRE_Match object; span=(11, 14), match='dog'>\n"
     ]
    }
   ],
   "source": [
    "pattern = \"dog\"\n",
    "string = \"This is my dog\"\n",
    "\n",
    "match = re.search(pattern, string)\n",
    "print(match)"
   ]
  },
  {
   "cell_type": "markdown",
   "metadata": {},
   "source": [
    "In the code example above, the pattern `dog` is found inside the string.\n",
    "\n",
    "Yet if we begin the pattern with the `^` character, and match it against the same input string, we get:"
   ]
  },
  {
   "cell_type": "code",
   "execution_count": 10,
   "metadata": {},
   "outputs": [
    {
     "name": "stdout",
     "output_type": "stream",
     "text": [
      "None\n"
     ]
    }
   ],
   "source": [
    "pattern = \"^dog\"\n",
    "string = \"This is my dog\"\n",
    "\n",
    "match = re.search(pattern, string)\n",
    "print(match)"
   ]
  },
  {
   "cell_type": "markdown",
   "metadata": {},
   "source": [
    "**Explanation:** the substring `dog` is not placed at the start of the input string, and therefore the pattern matches nothing, and the `search()` function returns `None`."
   ]
  },
  {
   "cell_type": "markdown",
   "metadata": {},
   "source": [
    "### The `$` character, for the end of a string or line\n",
    "The `$` character does the opposite of `^`. Being, `$` matches a pattern located at the end of a string.\n",
    "You could also state \"`$` means the end of the string, and the match we're looking for occurs right before it\"."
   ]
  },
  {
   "cell_type": "code",
   "execution_count": 13,
   "metadata": {},
   "outputs": [
    {
     "name": "stdout",
     "output_type": "stream",
     "text": [
      "<_sre.SRE_Match object; span=(11, 14), match='dog'>\n"
     ]
    }
   ],
   "source": [
    "pattern = \"dog$\"\n",
    "string = \"This is my dog\"\n",
    "\n",
    "match = re.search(pattern, string)\n",
    "print(match)"
   ]
  },
  {
   "cell_type": "markdown",
   "metadata": {},
   "source": [
    "If we would for example add a `.` after the word `dog` in the input string, the pattern doesn't match, because at the end of the input string a `.` is placed now, not the word `dog`."
   ]
  },
  {
   "cell_type": "code",
   "execution_count": 14,
   "metadata": {},
   "outputs": [
    {
     "name": "stdout",
     "output_type": "stream",
     "text": [
      "None\n"
     ]
    }
   ],
   "source": [
    "pattern = \"dog$\"\n",
    "string = \"This is my dog.\"\n",
    "\n",
    "match = re.search(pattern, string)\n",
    "print(match)"
   ]
  },
  {
   "cell_type": "markdown",
   "metadata": {},
   "source": [
    "### The `.` character, matching anything except a newline\n",
    "Using the `.` character (a period sign) means match any character except for a newline. **One** `.` of course only counts for matching **one** character."
   ]
  },
  {
   "cell_type": "code",
   "execution_count": 16,
   "metadata": {},
   "outputs": [
    {
     "name": "stdout",
     "output_type": "stream",
     "text": [
      "['coke', 'cake']\n"
     ]
    }
   ],
   "source": [
    "pattern = \"c.ke\"\n",
    "string = \"Would you like to drink a coke next to eating your cake?\"\n",
    "\n",
    "matches = re.findall(pattern, string)\n",
    "print(matches)"
   ]
  },
  {
   "cell_type": "markdown",
   "metadata": {},
   "source": [
    "# \"Special\" Character Classes using Escape Codes\n",
    "There are some \"special\" characters that have a different meaning when **escaped** with a backslash `\\` placed directly before it. I will hereby briefly discuss them."
   ]
  },
  {
   "cell_type": "markdown",
   "metadata": {},
   "source": [
    "**Nota bene:** If you want to match a backslash, you must escape it with another backslash. That can quickly lead to hard-to-read regex patterns. In order to avoid that, you can use **raw strings**: just prefix your regex pattern with the letter `r`."
   ]
  },
  {
   "cell_type": "markdown",
   "metadata": {},
   "source": [
    "### Using `\\d` for matching a digit\n",
    "The escaped code `\\d` means the same as `[0-9]`: it matches a digit.\n",
    "\n",
    "In the following example we're searching for the pattern `\\d+` which means \"match all instances of digit-characters (`\\d`) that occur right after eachother at least once or more times (`+`)\"."
   ]
  },
  {
   "cell_type": "code",
   "execution_count": 42,
   "metadata": {},
   "outputs": [
    {
     "name": "stdout",
     "output_type": "stream",
     "text": [
      "['1', '31785', '45']\n"
     ]
    }
   ],
   "source": [
    "pattern = \"\\d+\"\n",
    "string = \"Let's see if we can match the numbers 1, 31785 and 45 from this input string.\"\n",
    "\n",
    "matches = re.findall(pattern, string)\n",
    "print(matches)"
   ]
  },
  {
   "cell_type": "markdown",
   "metadata": {},
   "source": [
    "### Using `\\D` for matching a non-digit\n",
    "The escaped code `\\D` does the opposite as `\\d` does: it matches anything but digits (\"non-digits\")."
   ]
  },
  {
   "cell_type": "code",
   "execution_count": 30,
   "metadata": {},
   "outputs": [
    {
     "name": "stdout",
     "output_type": "stream",
     "text": [
      "[\"Let's see if we can exclude the numbers \", ', ', ' and ', ' from this input string.']\n"
     ]
    }
   ],
   "source": [
    "pattern = \"\\D+\"\n",
    "string = \"Let's see if we can exclude the numbers 1, 31785 and 45 from this input string.\"\n",
    "\n",
    "matches = re.findall(pattern, string)\n",
    "print(matches)"
   ]
  },
  {
   "cell_type": "markdown",
   "metadata": {},
   "source": [
    "The regex pattern `\\D+` shown above matches the same thing as `[^\\d]+` does.\n",
    "The latter means \"there's a character set (`[]`) in which we're excluding (`^`) all digits (`\\d`), ocurring one or more times (`+`).\""
   ]
  },
  {
   "cell_type": "code",
   "execution_count": 32,
   "metadata": {},
   "outputs": [
    {
     "name": "stdout",
     "output_type": "stream",
     "text": [
      "[\"Let's see if we can exclude the numbers \", ', ', ' and ', ' from this input string.']\n"
     ]
    }
   ],
   "source": [
    "pattern = \"[^\\d]+\"\n",
    "string = \"Let's see if we can exclude the numbers 1, 31785 and 45 from this input string.\"\n",
    "\n",
    "matches = re.findall(pattern, string)\n",
    "print(matches)"
   ]
  },
  {
   "cell_type": "markdown",
   "metadata": {},
   "source": [
    "### Using `\\w` for matching alphanumerics (and underscores `_` )\n",
    "In short, an alphanumeric is either an alphabetical or numeric character. So if we for example inspect a \"password-like\" input string and try to match all alphanumerics directly following eachother via the regular expression `\\w`, we get the following result:"
   ]
  },
  {
   "cell_type": "code",
   "execution_count": 40,
   "metadata": {},
   "outputs": [
    {
     "name": "stdout",
     "output_type": "stream",
     "text": [
      "['ghj', '5', '378', 'anjUjfe278']\n"
     ]
    }
   ],
   "source": [
    "pattern = \"\\w+\"\n",
    "string = \"ghj#$5&378$anjUjfe278\"\n",
    "\n",
    "matches = re.findall(pattern, string)\n",
    "print(matches)"
   ]
  },
  {
   "cell_type": "markdown",
   "metadata": {},
   "source": [
    "### Using `\\W` for matching non-alphanumerics (no underscores `_` )\n",
    "The escape code `\\W` does the opposite of `\\w`: it matchs everything but alphanumerics."
   ]
  },
  {
   "cell_type": "code",
   "execution_count": 44,
   "metadata": {},
   "outputs": [
    {
     "name": "stdout",
     "output_type": "stream",
     "text": [
      "['#$', '&', '$']\n"
     ]
    }
   ],
   "source": [
    "pattern = \"\\W+\"\n",
    "string = \"ghj#$5&378$anjUjfe278\"\n",
    "\n",
    "matches = re.findall(pattern, string)\n",
    "print(matches)"
   ]
  },
  {
   "cell_type": "markdown",
   "metadata": {},
   "source": [
    "And also here using the pattern `\\W` returns the same result as using `[^\\w]+` (which means: \"exclude all alphanumerics (`[^\\w]`) that occur at least once (`+`)\")."
   ]
  },
  {
   "cell_type": "code",
   "execution_count": 38,
   "metadata": {},
   "outputs": [
    {
     "name": "stdout",
     "output_type": "stream",
     "text": [
      "['#$', '&', '$']\n"
     ]
    }
   ],
   "source": [
    "pattern = \"[^\\w]+\"\n",
    "string = \"ghj#$5&378$anjUjfe278\"\n",
    "\n",
    "matches = re.findall(pattern, string)\n",
    "print(matches)"
   ]
  },
  {
   "cell_type": "markdown",
   "metadata": {},
   "source": [
    "### Using `\\s` for matching whitespaces (= spaces, tabs, newlines, returns)\n",
    "A \"whitespace\" is something \"blank\", which could be a space or a tab, a newline or return.\n",
    "\n",
    "A possible usecase, out of many, is matching \"one or more\" whitespaces in an input string and have all of those replaced by one space, like so:"
   ]
  },
  {
   "cell_type": "code",
   "execution_count": 51,
   "metadata": {},
   "outputs": [
    {
     "name": "stdout",
     "output_type": "stream",
     "text": [
      "This is a line that is quite messy and we want to fix its formatting. \n"
     ]
    }
   ],
   "source": [
    "pattern = \"\\s+\"\n",
    "replacement = \" \"\n",
    "string = \"\"\"This     is a line that is    quite    \n",
    "\n",
    "messy \n",
    "\n",
    "and   \n",
    "    we     want    to  \n",
    "  fix   its   formatting.\n",
    "\"\"\"\n",
    "new_string = re.sub(pattern, replacement, string)\n",
    "print(new_string)"
   ]
  },
  {
   "cell_type": "markdown",
   "metadata": {},
   "source": [
    "### Using `\\S` to match all non-whitespaces\n",
    "`\\S` matches the opposite as `\\s` does. A possible usecase is returning all individual words in an input string, and for example return the word count. Like so:"
   ]
  },
  {
   "cell_type": "code",
   "execution_count": 61,
   "metadata": {},
   "outputs": [
    {
     "name": "stdout",
     "output_type": "stream",
     "text": [
      "['This', 'is', 'another', 'mess', 'but', 'now', 'we', 'want', 'to', 'find', 'all', 'individual', 'words']\n",
      "Words found: 13\n"
     ]
    }
   ],
   "source": [
    "pattern = \"\\S+\"\n",
    "string = \"\"\"This     is another   mess\n",
    "  but \n",
    "now we     want    to  \n",
    "find\n",
    "\n",
    "all individual    words\n",
    "\"\"\"\n",
    "matches = re.findall(pattern, string)\n",
    "print(matches)\n",
    "print('Words found:', len(matches))"
   ]
  },
  {
   "cell_type": "markdown",
   "metadata": {},
   "source": [
    "### Using `\\b` for matching an \"empty string\" at the start or end of a word (= word boundary)\n",
    "The `\\b` character can be used to match an \"empty string\" (or a position in between two characters) at either the beginning or ending of a word, which is therefore also named a \"word boundary\".\n",
    "\n",
    "Regard the following example (using a \"raw string\" as mentioned earlier) in which we're trying to match all `i` characters in the input string that are located either as the first or last character of a word."
   ]
  },
  {
   "cell_type": "code",
   "execution_count": 72,
   "metadata": {},
   "outputs": [
    {
     "name": "stdout",
     "output_type": "stream",
     "text": [
      "5\n"
     ]
    }
   ],
   "source": [
    "pattern = r\"\\bi\"\n",
    "string = \"This is a test string\"\n",
    "\n",
    "for match in re.finditer(pattern, string):\n",
    "    print(match.start())"
   ]
  },
  {
   "cell_type": "markdown",
   "metadata": {},
   "source": [
    "And as a result, only the `i` in the word `is` was returned, at index `5`.\n",
    "\n",
    "Another code example for using `\\b` is the following snippet, with which we're saying \"match all non-whitespaces between the boundaries of a word\" (ergo: the words themselves) and have them returned as a list:"
   ]
  },
  {
   "cell_type": "code",
   "execution_count": 75,
   "metadata": {},
   "outputs": [
    {
     "name": "stdout",
     "output_type": "stream",
     "text": [
      "['This', 'is', 'a', 'test', 'string']\n"
     ]
    }
   ],
   "source": [
    "pattern = r\"\\b\\S+\\b\"\n",
    "string = \"This is a test string\"\n",
    "\n",
    "matches = re.findall(pattern, string)\n",
    "print(matches)"
   ]
  },
  {
   "cell_type": "markdown",
   "metadata": {},
   "source": [
    "### Using `\\B` for empty strings NOT at the start or end of a word.\n",
    "After having explained the usage of `\\b`, the opposite `\\B` is pretty self-explanatory."
   ]
  },
  {
   "cell_type": "code",
   "execution_count": 76,
   "metadata": {},
   "outputs": [
    {
     "name": "stdout",
     "output_type": "stream",
     "text": [
      "2\n",
      "18\n"
     ]
    }
   ],
   "source": [
    "pattern = r\"\\Bi\"\n",
    "string = \"This is a test string\"\n",
    "\n",
    "for match in re.finditer(pattern, string):\n",
    "    print(match.start())"
   ]
  },
  {
   "cell_type": "markdown",
   "metadata": {},
   "source": [
    "The above regex now matches all `i` characters NOT at the beginning or ending of a word, ergo the `i` in `is` is not matched this time, but the `i` in `This` and `string` are matched."
   ]
  },
  {
   "cell_type": "markdown",
   "metadata": {},
   "source": [
    "# Grouping regexes with `( )`\n",
    "\n",
    "### Using `()`\n",
    "If you enclose parts of a pattern within parentheses `()`, you can isolate parts of the match(es), and have those matching parts returned separately. Using one or more groups doesn't actually change what your regular expression is matching though.\n",
    "\n",
    "In the following example (I thought it might be okay now to use a \"slightly more complicated-looking regex\") I've constructed a regular expression including two groups both enclosed in `()`.\n",
    "\n",
    "The first group is: `([a-zA-Z0-9_.+-]+)`\n",
    "And the second one: `([a-zA-Z0-9_.+-]+)` ... don't try to spot the differences, they're the same! ;-)\n",
    "\n",
    "Of course this means: \"Let's look for a character set (`[]`) containing lower case letters (`[a-z]`), and/or upper case letters (`[A-Z]`) and or digits (`[0-9]`), or `[.+-]`, occurring at least once, and do that both before and after one `@` character\".\n",
    "\n",
    "The first group contains the user name, the second the domain name."
   ]
  },
  {
   "cell_type": "code",
   "execution_count": 91,
   "metadata": {},
   "outputs": [
    {
     "name": "stdout",
     "output_type": "stream",
     "text": [
      "<_sre.SRE_Match object; span=(31, 49), match='somebody@yahoo.com'>\n"
     ]
    }
   ],
   "source": [
    "pattern = r\"([a-zA-Z0-9_.+-]+)@([a-zA-Z0-9_.+-]+)\"\n",
    "string = \"Let's see if the email adress 'somebody@yahoo.com' or can be matched!\"\n",
    "\n",
    "match = re.search(pattern, string)\n",
    "print(match)"
   ]
  },
  {
   "cell_type": "markdown",
   "metadata": {},
   "source": [
    "**PS:** despite the fact the above expression af first sight looks \"complex\", it's far from reliable for fool-proof email address detection. For example the substring `a@b`, which is not a valid email address, still gets matched."
   ]
  },
  {
   "cell_type": "markdown",
   "metadata": {},
   "source": [
    "### Using the `group()` function\n",
    "A `Match` object also has a `group()` function which returns the entire match (ergo: all groups) as a string.\n",
    "You can however also pass in a group number to `group()` as its argument (first group is `1`, not `0`).\n",
    "\n",
    "For example:"
   ]
  },
  {
   "cell_type": "code",
   "execution_count": 93,
   "metadata": {},
   "outputs": [
    {
     "name": "stdout",
     "output_type": "stream",
     "text": [
      "somebody@yahoo.com\n",
      "somebody\n",
      "yahoo.com\n"
     ]
    }
   ],
   "source": [
    "email_address = match.group()\n",
    "email_user = match.group(1)\n",
    "email_domain = match.group(2)\n",
    "\n",
    "print(email_address)\n",
    "print(email_user)\n",
    "print(email_domain)"
   ]
  },
  {
   "cell_type": "markdown",
   "metadata": {},
   "source": [
    "# What did we learn, hopefully?\n",
    "\n",
    "This `Part 3` episode of my regex subseries discussed how to use even more Control Characters, \"Special\" characters via Escape Codes, about raw strings for readability with respect to escape codes, and we talked about Grouping mechanisms.\n",
    "\n",
    "**Nota bene:** As you might have noticed, slowly but surely I'm beginning to combine multiple regex components into forming more complex-looking expressions, that are far more powerful and interesting to use as well. In case you feel some of the expressions already became too complex to understand, or if I might have not explained them well enough, please feel free to ask me questions in the comment section! Never hesitate to do so: asking questions is smart!\n",
    "\n",
    "See you in the next episode!\n",
    "\n",
    "### Thank you for your time!"
   ]
  },
  {
   "cell_type": "code",
   "execution_count": null,
   "metadata": {},
   "outputs": [],
   "source": []
  }
 ],
 "metadata": {
  "kernelspec": {
   "display_name": "Python 3",
   "language": "python",
   "name": "python3"
  },
  "language_info": {
   "codemirror_mode": {
    "name": "ipython",
    "version": 3
   },
   "file_extension": ".py",
   "mimetype": "text/x-python",
   "name": "python",
   "nbconvert_exporter": "python",
   "pygments_lexer": "ipython3",
   "version": "3.6.4"
  }
 },
 "nbformat": 4,
 "nbformat_minor": 2
}
