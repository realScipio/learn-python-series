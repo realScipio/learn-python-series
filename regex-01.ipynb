{
 "cells": [
  {
   "cell_type": "markdown",
   "metadata": {},
   "source": [
    "# Learn Python Series (#23) - Handling Regular Expressions Part 1\n",
    "This subseries of the `Learn Python Series` focuses on working with **regular expressions**, also oftentimes abbreviated to the term **regex**. Regular expressions are **text matching patterns**, and are very powerful to use but its syntax is quite formal and for beginners quite difficult to comprehend.\n",
    "\n",
    "You can look at regular expressoins as a specialized programming languaged squeezed inside Python. It empowers you to define \"rules\" you want to match for within a larger string of data. For example \"Is there a phone number on a certain web page?\", or \"Is this a valid email address?\".\n",
    "\n",
    "When a lot of text processing is involved, regular expressions are your friend (as long as you know how to use regexes, that is!). When you're developing an application containing lots of code, using regular expressions to find and / or edit parts of the code itself is pretty helpful and common as well. Sys admins dealing with log files, find regular expressions useful as well. When developing a textual search engine, you're obviously also dealing with big volumes of textual data, and again using regular expressions then is useful and common.\n",
    "\n",
    "**Nota bene 1:** a word of advise to those new to handling regular expressions in general, not just in Python: regexes can be pretty overwhelming at first sight, but don't feel intimidated by them! I will try to explain everything in the right order, as I always do, and feel free to ask me questions in the comment sections if something is unclear. I'm happy to help!\n",
    "\n",
    "**Nota bene 2:** in order to keep things easy-to-follow for beginner programmers, I decided to present the information in this regex subseries in a very specific order. That means: instead of beginning with the \"regex language\" itself, explaining meta characters, pattern syntax, escaping, grouping, sets, etc. right of the bat (which would mean risking beginning programmers felling dazzled and completely overwhelmed with the info presented), I'm first explaining the basic mechanisms (functions, methods, attributes used oftentimes) of the `re` module.\n",
    "Therefore, in this `Handling Regular Expressions Part 1` episode, I will only be using simple, fixed, literal, character matching. Starting from `Part 2` I'll be going over the \"nitty gritty\" of the regex language itself.\n",
    "\n",
    "Having said that: let's begin!"
   ]
  },
  {
   "cell_type": "markdown",
   "metadata": {},
   "source": [
    "# Basic (fixed) substring matching (non-regex) via `in`\n",
    "In the [Learn Python Series (#3) - Handling Strings Part 2](https://utopian.io/utopian-io/@scipio/learn-python-series-3-handling-strings-part-2) episode I first introduced using the `in` operation. The `in` operation is not a part of the `re` module in Python (for using regular expressions) but `in` can be used for exact substring matching nonetheless.\n",
    "\n",
    "For example:"
   ]
  },
  {
   "cell_type": "code",
   "execution_count": 16,
   "metadata": {},
   "outputs": [
    {
     "name": "stdout",
     "output_type": "stream",
     "text": [
      "The word 'simply' is in there all right!\n"
     ]
    }
   ],
   "source": [
    "substring = \"simply\"\n",
    "string = \"This is simply an example string\"\n",
    "\n",
    "if substring in string:\n",
    "    print(\"The word 'simply' is in there all right!\")\n",
    "else:\n",
    "    print(\"Nope! No 'simply' found!\")    "
   ]
  },
  {
   "cell_type": "markdown",
   "metadata": {},
   "source": [
    "The `in` operation just checks if an exact substring (in this case `\"simply\"`) is contained in a larger string."
   ]
  },
  {
   "cell_type": "markdown",
   "metadata": {},
   "source": [
    "# Finding patterns in text via regular expressions\n",
    "A regular expression is - in essence - a **search pattern** described by a sequence of characters with a formal syntax. The patterns are not just (like finding an exact substring in a larger string, as mentioned above) matched \"AS-IS\", but rather **interpreted as instructions**. The pattern is then compared to an input string and in case of a match, the matching subset is returned. Regular expressions can (of course) include literal text matching, but also repetition and composition, as well as other rules."
   ]
  },
  {
   "cell_type": "markdown",
   "metadata": {},
   "source": [
    "### Importing the `re` module\n",
    "In Python, the functionality for regular expressions is opened with importing the `re` module."
   ]
  },
  {
   "cell_type": "code",
   "execution_count": 5,
   "metadata": {},
   "outputs": [],
   "source": [
    "import re"
   ]
  },
  {
   "cell_type": "markdown",
   "metadata": {},
   "source": [
    "### The `match()` and the `search()` functions, returning a `Match` object\n",
    "I think the most frequent usecase for regular expressions, is finding / searching for patterns in text (the input string). The `re` module comes with two built-in primitive functions for matching patterns found in strings: the`match()` function and the `search()` function.\n",
    "\n",
    "`match()` only checks for a match at the beginning of the input string, where `search()` tries to match the pattern anywhere inside the string (including if it's found at the beginning).\n",
    "\n",
    "You can pass in a pattern string and an input string as its arguments, and when the pattern was matched both functions  will return a `Match` object **for the first instance** in case the pattern was found, or `None` when it was not."
   ]
  },
  {
   "cell_type": "code",
   "execution_count": 26,
   "metadata": {},
   "outputs": [
    {
     "name": "stdout",
     "output_type": "stream",
     "text": [
      "<_sre.SRE_Match object; span=(0, 1), match='I'>\n"
     ]
    }
   ],
   "source": [
    "# Using the `match()` function\n",
    "\n",
    "pattern = \"I\"\n",
    "string = \"I still remember how it all changed\"\n",
    "\n",
    "match = re.match(pattern, string)\n",
    "print(match)"
   ]
  },
  {
   "cell_type": "code",
   "execution_count": 18,
   "metadata": {},
   "outputs": [
    {
     "name": "stdout",
     "output_type": "stream",
     "text": [
      "<_sre.SRE_Match object; span=(31, 34), match='for'>\n"
     ]
    }
   ],
   "source": [
    "# Using the `search()` function\n",
    "\n",
    "pattern = \"for\"\n",
    "string = \"Hello! Is it me you're looking for?\"\n",
    "\n",
    "match = re.search(pattern, string)\n",
    "print(match)"
   ]
  },
  {
   "cell_type": "code",
   "execution_count": 29,
   "metadata": {},
   "outputs": [
    {
     "name": "stdout",
     "output_type": "stream",
     "text": [
      "None\n",
      "<_sre.SRE_Match object; span=(3, 6), match='all'>\n"
     ]
    }
   ],
   "source": [
    "# The `match()` function only looks at the beginning of the string,\n",
    "# and returns `None`\n",
    "# The `search()` function looks at the entire string,\n",
    "# and returns a Match object.\n",
    "\n",
    "pattern = \"all\"\n",
    "string = \"We all stand together!\"\n",
    "\n",
    "match_match = re.match(pattern, string)\n",
    "match_search = re.search(pattern, string)\n",
    "print(match_match)\n",
    "print(match_search)"
   ]
  },
  {
   "cell_type": "markdown",
   "metadata": {},
   "source": [
    "In order to get more info from the returned `Match` object, we can use two methods `start()` and `end()`, which return the start & end indexes of the input string where the pattern was found. And we could also return the input string attribute from the `Match` object, as well as the pattern that was used."
   ]
  },
  {
   "cell_type": "code",
   "execution_count": 30,
   "metadata": {},
   "outputs": [
    {
     "name": "stdout",
     "output_type": "stream",
     "text": [
      "3\n",
      "6\n",
      "We all stand together!\n",
      "all\n"
     ]
    }
   ],
   "source": [
    "print(match_search.start())\n",
    "print(match_search.end())\n",
    "print(match_search.string)\n",
    "print(match_search.re.pattern)"
   ]
  },
  {
   "cell_type": "markdown",
   "metadata": {},
   "source": [
    "**Nota bene:** please remember that the `end index` is non-inclusively used for slicing!\n",
    "I.e.:"
   ]
  },
  {
   "cell_type": "code",
   "execution_count": 33,
   "metadata": {},
   "outputs": [
    {
     "name": "stdout",
     "output_type": "stream",
     "text": [
      "all\n"
     ]
    }
   ],
   "source": [
    "print(match_search.string[match_search.start():match_search.end()])"
   ]
  },
  {
   "cell_type": "markdown",
   "metadata": {},
   "source": [
    "### The `finditer()` function, for returning multiple `Match` objects\n",
    "It could well be that more than one substring matches a regex pattern within an input string. The `finditer()` function returns an iterator of `Match` objects. Please observe the following example:"
   ]
  },
  {
   "cell_type": "code",
   "execution_count": 21,
   "metadata": {},
   "outputs": [
    {
     "name": "stdout",
     "output_type": "stream",
     "text": [
      "Start: 3, End: 5\n",
      "Start: 14, End: 16\n",
      "Start: 18, End: 20\n"
     ]
    }
   ],
   "source": [
    "pattern = \"is\"\n",
    "string = \"It is what it is, isn't it?\"\n",
    "\n",
    "for match in re.finditer(pattern, string):\n",
    "    start_index = match.start()\n",
    "    end_index = match.end()\n",
    "    print(\"Start: {}, End: {}\".format(start_index, end_index))"
   ]
  },
  {
   "cell_type": "markdown",
   "metadata": {},
   "source": [
    "### The `findall()` function, for returning matches as a list\n",
    "In case you're not particularly interested in returning `Match` objects from your regular expression, but rather have a list of matches returned instead, then use the `findall()` function:"
   ]
  },
  {
   "cell_type": "code",
   "execution_count": 37,
   "metadata": {},
   "outputs": [
    {
     "name": "stdout",
     "output_type": "stream",
     "text": [
      "<class 'list'> 3 returned: ['la', 'la', 'la']\n"
     ]
    }
   ],
   "source": [
    "pattern = \"la\"\n",
    "string = \"Ooh la la la, it's the way that we rock when we're doing our thing\"\n",
    "\n",
    "matches = re.findall(pattern, string)\n",
    "print(type(matches), len(matches), \"returned:\", matches)"
   ]
  },
  {
   "cell_type": "markdown",
   "metadata": {},
   "source": [
    "# Modifying strings via regular expressions\n",
    "\n",
    "### The `sub()` function, for search and replace\n",
    "After finding one or more matches on a pattern, you might want to replace them with something else. This can be done using the `sub()` function (short for **substitute**). As its default arguments `sub()` accepts a pattern to match for, a replacement string, and of course the input string to search & replace on.\n",
    "\n",
    "Please observe the following, simple, example:"
   ]
  },
  {
   "cell_type": "code",
   "execution_count": 23,
   "metadata": {},
   "outputs": [
    {
     "name": "stdout",
     "output_type": "stream",
     "text": [
      "It's raining cats and cows\n"
     ]
    }
   ],
   "source": [
    "pattern = \"dogs\"\n",
    "replacement = \"cows\"\n",
    "string = \"It's raining cats and dogs\"\n",
    "\n",
    "new_string = re.sub(pattern, replacement, string)\n",
    "print(new_string)"
   ]
  },
  {
   "cell_type": "markdown",
   "metadata": {},
   "source": [
    "### The `split()` function\n",
    "Again in [Learn Python Series (#3) - Handling Strings Part 2](https://utopian.io/utopian-io/@scipio/learn-python-series-3-handling-strings-part-2) we first talked about the `split()` method (on strings). The `re` module also has a `split()` function, which looks for a pattern match and in case it finds one (or more) splits the input string at that point into multiple list elements. A list is returned from calling `split()`."
   ]
  },
  {
   "cell_type": "code",
   "execution_count": 24,
   "metadata": {},
   "outputs": [
    {
     "name": "stdout",
     "output_type": "stream",
     "text": [
      "<class 'list'> ['This', 'is', 'an', 'example', 'sentence']\n"
     ]
    }
   ],
   "source": [
    "pattern = \" \"\n",
    "string = \"This is an example sentence\"\n",
    "\n",
    "result = re.split(pattern, string)\n",
    "print(type(result), result)"
   ]
  },
  {
   "cell_type": "markdown",
   "metadata": {},
   "source": [
    "# Compiling regular expressions\n",
    "\n",
    "### The `compile()` function\n",
    "The `re` module allows for working with regular expressions in the form of strings, just like we did until now. Yet it's also possible, for faster processing, to first **compile** the regular expression string and convert it intro a `RegexObject`. This can be done using the `compile()` function."
   ]
  },
  {
   "cell_type": "code",
   "execution_count": 38,
   "metadata": {},
   "outputs": [
    {
     "name": "stdout",
     "output_type": "stream",
     "text": [
      "<class '_sre.SRE_Pattern'> re.compile('comes')\n"
     ]
    }
   ],
   "source": [
    "pattern = \"comes\"\n",
    "string = \"Here it comes again, that feeling!\"\n",
    "\n",
    "regex = re.compile(pattern)\n",
    "print(type(regex), regex)"
   ]
  },
  {
   "cell_type": "markdown",
   "metadata": {},
   "source": [
    "Since we've now compiled the (very simple) regular expression, we can then use - for example - the `search()` method of the (now) `RegexObject` object, which now only requires **one** argument: the input string:"
   ]
  },
  {
   "cell_type": "code",
   "execution_count": 40,
   "metadata": {},
   "outputs": [
    {
     "name": "stdout",
     "output_type": "stream",
     "text": [
      "<_sre.SRE_Match object; span=(8, 13), match='comes'>\n",
      "<_sre.SRE_Match object; span=(8, 13), match='comes'>\n"
     ]
    }
   ],
   "source": [
    "match = regex.search(string)\n",
    "print(match)"
   ]
  },
  {
   "cell_type": "markdown",
   "metadata": {},
   "source": [
    "**Nota bene:** precompiling regular expressions works faster, because the compile task is done when the application (your Python script containing the compile task) is started, in stead of - for example - when the application needs to react to, for example, user input."
   ]
  },
  {
   "cell_type": "markdown",
   "metadata": {},
   "source": [
    "# What did we learn, hopefully?\n",
    "\n",
    "This `Part 1` episode was intended as an introduction to the `re` module which is built-in to (almost) every Python distribution, and enables you to write and execute (very) (advanced) pattern matching via **regular expressions**. But since regular expressions can be regarded as a \"mini programming language\", and understanding its syntax and mechanisms is of utmost importance in order to read, let alone write, complex regular expressions, in this episode we \"only\" talked about how to use `re` functions such as `match()`, `search()`, `findall()`, `finditer()`, `split()`, `sub()` and `compile()`.\n",
    "\n",
    "Hopefully the way I \"introduced\" regular expressions didn't scare you into trying to learn more about them! I deliberately labeled this `Part 1` episode as `Difficulty: Basic`, `Part 2` will be `Difficulty: Intermediate` and from there on it's... `Difficulty: Fun!`!\n",
    "\n",
    "Come and find out! See you there!\n",
    "\n",
    "### Thank you for your time!"
   ]
  }
 ],
 "metadata": {
  "kernelspec": {
   "display_name": "Python 3",
   "language": "python",
   "name": "python3"
  },
  "language_info": {
   "codemirror_mode": {
    "name": "ipython",
    "version": 3
   },
   "file_extension": ".py",
   "mimetype": "text/x-python",
   "name": "python",
   "nbconvert_exporter": "python",
   "pygments_lexer": "ipython3",
   "version": "3.6.4"
  }
 },
 "nbformat": 4,
 "nbformat_minor": 2
}
