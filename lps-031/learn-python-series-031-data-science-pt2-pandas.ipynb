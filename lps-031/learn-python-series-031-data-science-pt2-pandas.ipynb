{
 "cells": [
  {
   "cell_type": "markdown",
   "metadata": {},
   "source": [
    "# Learn Python Series (#31) - Data Science Part 2 - Pandas"
   ]
  },
  {
   "cell_type": "markdown",
   "metadata": {},
   "source": [
    "### Repository\n",
    "- https://github.com/pandas-dev/pandas\n",
    "- https://github.com/python/cpython\n",
    "\n",
    "### What will I learn?\n",
    "- You will learn how to convert date/datetime strings into `pandas` Timestamps, and set those Timestamp values as index values instead of default integer numbers which don't provide useful context;\n",
    "- how to slice subsets of TimeSeries data using date strings;\n",
    "- how to slice time-based subsets of TimeSeries data using `.between_time()`;\n",
    "- how to return and use some basic statistics based on common `pandas` statistical methods.\n",
    "\n",
    "### Requirements\n",
    "- A working modern computer running macOS, Windows or Ubuntu;\n",
    "- An installed Python 3(.7) distribution, such as (for example) the Anaconda Distribution;\n",
    "- The ambition to learn Python programming.\n",
    "\n",
    "### Difficulty\n",
    "- Beginner"
   ]
  },
  {
   "cell_type": "markdown",
   "metadata": {},
   "source": [
    "### Curriculum (of the `Learn Python Series`):\n",
    "\n",
    "- [Learn Python Series - Intro](https://steemit.com/utopian-io/@scipio/learn-python-series-intro)\n",
    "- [Learn Python Series (#2) - Handling Strings Part 1](https://steemit.com/utopian-io/@scipio/learn-python-series-2-handling-strings-part-1)\n",
    "- [Learn Python Series (#3) - Handling Strings Part 2](https://steemit.com/utopian-io/@scipio/learn-python-series-3-handling-strings-part-2)\n",
    "- [Learn Python Series (#4) - Round-Up #1](https://steemit.com/utopian-io/@scipio/learn-python-series-4-round-up-1)\n",
    "- [Learn Python Series (#5) - Handling Lists Part 1](https://steemit.com/utopian-io/@scipio/learn-python-series-5-handling-lists-part-1)\n",
    "- [Learn Python Series (#6) - Handling Lists Part 2](https://steemit.com/utopian-io/@scipio/learn-python-series-6-handling-lists-part-2)\n",
    "- [Learn Python Series (#7) - Handling Dictionaries](https://steemit.com/utopian-io/@scipio/learn-python-series-7-handling-dictionaries)\n",
    "- [Learn Python Series (#8) - Handling Tuples](https://steemit.com/utopian-io/@scipio/learn-python-series-8-handling-tuples)\n",
    "- [Learn Python Series (#9) - Using Import](https://steemit.com/utopian-io/@scipio/learn-python-series-9-using-import)\n",
    "- [Learn Python Series (#10) - Matplotlib Part 1](https://steemit.com/utopian-io/@scipio/learn-python-series-10-matplotlib-part-1)\n",
    "- [Learn Python Series (#11) - NumPy Part 1](https://steemit.com/utopian-io/@scipio/learn-python-series-11-numpy-part-1)\n",
    "- [Learn Python Series (#12) - Handling Files](https://steemit.com/utopian-io/@scipio/learn-python-series-12-handling-files)\n",
    "- [Learn Python Series (#13) - Mini Project - Developing a Web Crawler Part 1](https://steemit.com/utopian-io/@scipio/learn-python-series-13-mini-project-developing-a-web-crawler-part-1)\n",
    "- [Learn Python Series (#14) - Mini Project - Developing a Web Crawler Part 2](https://steemit.com/utopian-io/@scipio/learn-python-series-14-mini-project-developing-a-web-crawler-part-2)\n",
    "- [Learn Python Series (#15) - Handling JSON](https://steemit.com/utopian-io/@scipio/learn-python-series-15-handling-json)\n",
    "- [Learn Python Series (#16) - Mini Project - Developing a Web Crawler Part 3](https://steemit.com/utopian-io/@scipio/learn-python-series-16-mini-project-developing-a-web-crawler-part-3)\n",
    "- [Learn Python Series (#17) - Roundup #2 - Combining and analyzing any-to-any multi-currency historical data](https://steemit.com/utopian-io/@scipio/learn-python-series-17-roundup-2-combining-and-analyzing-any-to-any-multi-currency-historical-data)\n",
    "- [Learn Python Series (#18) - PyMongo Part 1](https://steemit.com/utopian-io/@scipio/learn-python-series-18-pymongo-part-1)\n",
    "- [Learn Python Series (#19) - PyMongo Part 2](https://steemit.com/utopian-io/@scipio/learn-python-series-19-pymongo-part-2)\n",
    "- [Learn Python Series (#20) - PyMongo Part 3](https://steemit.com/utopian-io/@scipio/learn-python-series-20-pymongo-part-3)\n",
    "- [Learn Python Series (#21) - Handling Dates and Time Part 1](https://steemit.com/utopian-io/@scipio/learn-python-series-21-handling-dates-and-time-part-1)\n",
    "- [Learn Python Series (#22) - Handling Dates and Time Part 2](https://steemit.com/utopian-io/@scipio/learn-python-series-22-handling-dates-and-time-part-2)\n",
    "- [Learn Python Series (#23) - Handling Regular Expressions Part 1](https://steemit.com/utopian-io/@scipio/learn-python-series-23-handling-regular-expressions-part-1)\n",
    "- [Learn Python Series (#24) - Handling Regular Expressions Part 2](https://steemit.com/utopian-io/@scipio/learn-python-series-24-handling-regular-expressions-part-2)\n",
    "- [Learn Python Series (#25) - Handling Regular Expressions Part 3](https://steemit.com/utopian-io/@scipio/learn-python-series-25-handling-regular-expressions-part-3)\n",
    "- [Learn Python Series (#26) - pipenv & Visual Studio Code](https://steemit.com/utopian-io/@scipio/learn-python-series-26-pipenv-and-visual-studio-code)\n",
    "- [Learn Python Series (#27) - Handling Strings Part 3 (F-Strings)](https://steemit.com/utopian-io/@scipio/learn-python-series-27-handling-strings-part-3-f-strings)\n",
    "- [Learn Python Series (#28) - Using Pickle and Shelve](https://steemit.com/utopian-io/@scipio/learn-python-series-28-using-pickle-and-shelve)\n",
    "- [Learn Python Series (#29) - Handling CSV](https://steemit.com/utopian-io/@scipio/learn-python-series-29-handling-csv)\n",
    "- [Learn Python Series (#30) - Data Science Part 1 - Pandas](https://steemit.com/utopian-io/@scipio/learn-python-series-30-data-science-part-1-pandas)"
   ]
  },
  {
   "cell_type": "markdown",
   "metadata": {},
   "source": [
    "### Additional sample code files\n",
    "The full - and working! - iPython tutorial sample code file is included for you to download and run for yourself right here:\n",
    "\n",
    "\n",
    "I've also uploaded to GitHub a CSV file containing **all actual BTCUSDT 1-minute ticks** on Binance on dates June 2, 2019, June 3, 2019 and June 4, 2019 (4320 rows of actual price data, `datetime`, `open`, `high`, `low`, `close` and `volume`), which file and data set we'll be using:\n",
    "https://github.com/realScipio/learn-python-series/blob/master/lps-031/btcusdt_20190602_20190604_1min_hloc.csv\n",
    "\n",
    "### GitHub Account\n",
    "https://github.com/realScipio"
   ]
  },
  {
   "cell_type": "markdown",
   "metadata": {},
   "source": [
    "# Learn Python Series (#31) - Data Science Part 2 - Pandas\n",
    "Welcome to episode #31 of the `Learn Python Series`! In the previous episode ([Learn Python Series (#30) - Data Science Part 1 - Pandas](https://steemit.com/utopian-io/@scipio/learn-python-series-30-data-science-part-1-pandas)) I've introduced you to the `pandas` toolkit, and we've already explained some of the basic mechanisms. In this episode (which is no.2 of the Data Science sub-series, also about `pandas`) we'll expand our knowledge using more techniques. Let's dive right in!\n",
    "\n",
    "# Time series indexing & slicing techniques using `pandas`"
   ]
  },
  {
   "cell_type": "markdown",
   "metadata": {},
   "source": [
    "### Analysing actual BTCUSDT financial data using `pandas`\n",
    "First, let's download the file `btcusdt_20190602_20190604_1min_hloc.csv` [found here](https://github.com/realScipio/learn-python-series/blob/master/lps-031/btcusdt_20190602_20190604_1min_hloc.csv) on my GitHub account, and save the file to your current working directory.\n",
    "\n",
    "Next, let's open the file like so:"
   ]
  },
  {
   "cell_type": "code",
   "execution_count": 41,
   "metadata": {},
   "outputs": [
    {
     "data": {
      "text/html": [
       "<div>\n",
       "<style scoped>\n",
       "    .dataframe tbody tr th:only-of-type {\n",
       "        vertical-align: middle;\n",
       "    }\n",
       "\n",
       "    .dataframe tbody tr th {\n",
       "        vertical-align: top;\n",
       "    }\n",
       "\n",
       "    .dataframe thead th {\n",
       "        text-align: right;\n",
       "    }\n",
       "</style>\n",
       "<table border=\"1\" class=\"dataframe\">\n",
       "  <thead>\n",
       "    <tr style=\"text-align: right;\">\n",
       "      <th></th>\n",
       "      <th>open</th>\n",
       "      <th>high</th>\n",
       "      <th>low</th>\n",
       "      <th>close</th>\n",
       "      <th>volume</th>\n",
       "      <th>datetime</th>\n",
       "    </tr>\n",
       "  </thead>\n",
       "  <tbody>\n",
       "    <tr>\n",
       "      <th>0</th>\n",
       "      <td>8545.10</td>\n",
       "      <td>8548.55</td>\n",
       "      <td>8535.98</td>\n",
       "      <td>8537.67</td>\n",
       "      <td>17.349543</td>\n",
       "      <td>2019-06-02 00:00:00+00:00</td>\n",
       "    </tr>\n",
       "    <tr>\n",
       "      <th>1</th>\n",
       "      <td>8537.53</td>\n",
       "      <td>8543.49</td>\n",
       "      <td>8524.00</td>\n",
       "      <td>8534.66</td>\n",
       "      <td>31.599922</td>\n",
       "      <td>2019-06-02 00:01:00+00:00</td>\n",
       "    </tr>\n",
       "    <tr>\n",
       "      <th>2</th>\n",
       "      <td>8533.64</td>\n",
       "      <td>8540.13</td>\n",
       "      <td>8529.98</td>\n",
       "      <td>8534.97</td>\n",
       "      <td>7.011458</td>\n",
       "      <td>2019-06-02 00:02:00+00:00</td>\n",
       "    </tr>\n",
       "    <tr>\n",
       "      <th>3</th>\n",
       "      <td>8534.97</td>\n",
       "      <td>8551.76</td>\n",
       "      <td>8534.00</td>\n",
       "      <td>8551.76</td>\n",
       "      <td>5.992965</td>\n",
       "      <td>2019-06-02 00:03:00+00:00</td>\n",
       "    </tr>\n",
       "    <tr>\n",
       "      <th>4</th>\n",
       "      <td>8551.76</td>\n",
       "      <td>8554.76</td>\n",
       "      <td>8544.62</td>\n",
       "      <td>8549.30</td>\n",
       "      <td>15.771411</td>\n",
       "      <td>2019-06-02 00:04:00+00:00</td>\n",
       "    </tr>\n",
       "  </tbody>\n",
       "</table>\n",
       "</div>"
      ],
      "text/plain": [
       "      open     high      low    close     volume                   datetime\n",
       "0  8545.10  8548.55  8535.98  8537.67  17.349543  2019-06-02 00:00:00+00:00\n",
       "1  8537.53  8543.49  8524.00  8534.66  31.599922  2019-06-02 00:01:00+00:00\n",
       "2  8533.64  8540.13  8529.98  8534.97   7.011458  2019-06-02 00:02:00+00:00\n",
       "3  8534.97  8551.76  8534.00  8551.76   5.992965  2019-06-02 00:03:00+00:00\n",
       "4  8551.76  8554.76  8544.62  8549.30  15.771411  2019-06-02 00:04:00+00:00"
      ]
     },
     "execution_count": 41,
     "metadata": {},
     "output_type": "execute_result"
    }
   ],
   "source": [
    "import pandas as pd\n",
    "df = pd.read_csv('btcusdt_20190602_20190604_1min_hloc.csv')\n",
    "df.head()"
   ]
  },
  {
   "cell_type": "code",
   "execution_count": 42,
   "metadata": {},
   "outputs": [
    {
     "data": {
      "text/plain": [
       "(4320, 6)"
      ]
     },
     "execution_count": 42,
     "metadata": {},
     "output_type": "execute_result"
    }
   ],
   "source": [
    "df.shape"
   ]
  },
  {
   "cell_type": "markdown",
   "metadata": {},
   "source": [
    "A quick visual inspection of this CSV file (using `.head()`, and `.shape`) shows that we're dealing with a data set consisting of 4320 data rows, and 6 data columns, being `datetime`,\t`open`, `high`, `low`, `close`, and `volume`. \n",
    "\n",
    "**Nota bene:** This data set contains **actual trading data** of the BTC_USDT trading pair,  downloaded from the Binance API, sliced to only contain all 1 minute k-lines / candles on (the example) dates 2019-06-02, 2019-06-03, and 2019-06-04, which I then pre-processed especially for this tutorial episode. The original data returned by the Binance API contains timestamp values in the form of \"epoch millis\" (milliseconds passed since Jan 1st 1970), and I've converted them into valid ISO-8601 timestamps, which can be easily parsed by the `pandas` package, as we'll learn in this tutorial."
   ]
  },
  {
   "cell_type": "markdown",
   "metadata": {},
   "source": [
    "Using the Jupyter Notebook / iPython `%matplotlib inline` Magic operation, let's take a look how the spot price of Bitcoin has developed minute by minute on these dates, by plotting the df['open'] price values:"
   ]
  },
  {
   "cell_type": "code",
   "execution_count": 43,
   "metadata": {},
   "outputs": [
    {
     "data": {
      "text/plain": [
       "<matplotlib.axes._subplots.AxesSubplot at 0x1211f5f28>"
      ]
     },
     "execution_count": 43,
     "metadata": {},
     "output_type": "execute_result"
    },
    {
     "data": {
      "image/png": "[encoded data removed]",
      "text/plain": [
       "<Figure size 432x288 with 1 Axes>"
      ]
     },
     "metadata": {
      "needs_background": "light"
     },
     "output_type": "display_data"
    }
   ],
   "source": [
    "%matplotlib inline\n",
    "df['open'].plot()"
   ]
  },
  {
   "cell_type": "markdown",
   "metadata": {},
   "source": [
    "### Datetime conversion & indexing (using `.to_datetime()` and `.set_index()` methods)\n",
    "The `pandas` library, while converting the CSV data to a DataFrame object, by default added numerical indexes.\n",
    "\n",
    "The visual plot example showing the open prices per minute just now, contains X-asis values coming from the numerical indexes that `pandas` set for now. Although it is clear we're in fact plotting 4320 opening price values, those numbers don't provide any usable context on **_when_** the price of Bitcoin was developing over time.\n",
    "\n",
    "Because we're working with time series now, it would be convenient to be able to set and use the timestamps in the `\"datetime\"` column as index values, and to be able to plot those timestamps for visual reference as well.\n",
    "But if we inspect the data type of the first timestamp (`2019-06-02 00:00:00+00:00`), by selecting the \"datetime\" column and the first row (index value 0), like so, we discover that value is now of the string data type:"
   ]
  },
  {
   "cell_type": "code",
   "execution_count": 44,
   "metadata": {},
   "outputs": [
    {
     "data": {
      "text/plain": [
       "str"
      ]
     },
     "execution_count": 44,
     "metadata": {},
     "output_type": "execute_result"
    }
   ],
   "source": [
    "type(df['datetime'][0])"
   ]
  },
  {
   "cell_type": "markdown",
   "metadata": {},
   "source": [
    "We can convert all \"datetime\" column values (in one go, with a vectorised column operation) from string objects to `pandas` Timestamp objects, using the `pandas` method `.to_datetime()`:"
   ]
  },
  {
   "cell_type": "code",
   "execution_count": 45,
   "metadata": {},
   "outputs": [
    {
     "data": {
      "text/plain": [
       "pandas._libs.tslibs.timestamps.Timestamp"
      ]
     },
     "execution_count": 45,
     "metadata": {},
     "output_type": "execute_result"
    }
   ],
   "source": [
    "df['datetime'] = pd.to_datetime(df['datetime'])\n",
    "type(df['datetime'][0])"
   ]
  },
  {
   "cell_type": "markdown",
   "metadata": {},
   "source": [
    "Next, we can re-index the entire DataFrame to not use the default numerical index values, but the converted Timstamp values instead. The `.set_index()` method is used for this, and calling it will not only use the Timestamps as index values, therewith unlocking a plethora of functionalities, but `.set_index()` will also remove the 'datetime' column from the data set:"
   ]
  },
  {
   "cell_type": "code",
   "execution_count": 46,
   "metadata": {},
   "outputs": [
    {
     "data": {
      "text/html": [
       "<div>\n",
       "<style scoped>\n",
       "    .dataframe tbody tr th:only-of-type {\n",
       "        vertical-align: middle;\n",
       "    }\n",
       "\n",
       "    .dataframe tbody tr th {\n",
       "        vertical-align: top;\n",
       "    }\n",
       "\n",
       "    .dataframe thead th {\n",
       "        text-align: right;\n",
       "    }\n",
       "</style>\n",
       "<table border=\"1\" class=\"dataframe\">\n",
       "  <thead>\n",
       "    <tr style=\"text-align: right;\">\n",
       "      <th></th>\n",
       "      <th>open</th>\n",
       "      <th>high</th>\n",
       "      <th>low</th>\n",
       "      <th>close</th>\n",
       "      <th>volume</th>\n",
       "    </tr>\n",
       "    <tr>\n",
       "      <th>datetime</th>\n",
       "      <th></th>\n",
       "      <th></th>\n",
       "      <th></th>\n",
       "      <th></th>\n",
       "      <th></th>\n",
       "    </tr>\n",
       "  </thead>\n",
       "  <tbody>\n",
       "    <tr>\n",
       "      <th>2019-06-02 00:00:00+00:00</th>\n",
       "      <td>8545.10</td>\n",
       "      <td>8548.55</td>\n",
       "      <td>8535.98</td>\n",
       "      <td>8537.67</td>\n",
       "      <td>17.349543</td>\n",
       "    </tr>\n",
       "    <tr>\n",
       "      <th>2019-06-02 00:01:00+00:00</th>\n",
       "      <td>8537.53</td>\n",
       "      <td>8543.49</td>\n",
       "      <td>8524.00</td>\n",
       "      <td>8534.66</td>\n",
       "      <td>31.599922</td>\n",
       "    </tr>\n",
       "    <tr>\n",
       "      <th>2019-06-02 00:02:00+00:00</th>\n",
       "      <td>8533.64</td>\n",
       "      <td>8540.13</td>\n",
       "      <td>8529.98</td>\n",
       "      <td>8534.97</td>\n",
       "      <td>7.011458</td>\n",
       "    </tr>\n",
       "    <tr>\n",
       "      <th>2019-06-02 00:03:00+00:00</th>\n",
       "      <td>8534.97</td>\n",
       "      <td>8551.76</td>\n",
       "      <td>8534.00</td>\n",
       "      <td>8551.76</td>\n",
       "      <td>5.992965</td>\n",
       "    </tr>\n",
       "    <tr>\n",
       "      <th>2019-06-02 00:04:00+00:00</th>\n",
       "      <td>8551.76</td>\n",
       "      <td>8554.76</td>\n",
       "      <td>8544.62</td>\n",
       "      <td>8549.30</td>\n",
       "      <td>15.771411</td>\n",
       "    </tr>\n",
       "  </tbody>\n",
       "</table>\n",
       "</div>"
      ],
      "text/plain": [
       "                              open     high      low    close     volume\n",
       "datetime                                                                \n",
       "2019-06-02 00:00:00+00:00  8545.10  8548.55  8535.98  8537.67  17.349543\n",
       "2019-06-02 00:01:00+00:00  8537.53  8543.49  8524.00  8534.66  31.599922\n",
       "2019-06-02 00:02:00+00:00  8533.64  8540.13  8529.98  8534.97   7.011458\n",
       "2019-06-02 00:03:00+00:00  8534.97  8551.76  8534.00  8551.76   5.992965\n",
       "2019-06-02 00:04:00+00:00  8551.76  8554.76  8544.62  8549.30  15.771411"
      ]
     },
     "execution_count": 46,
     "metadata": {},
     "output_type": "execute_result"
    }
   ],
   "source": [
    "df = df.set_index('datetime')\n",
    "df.head()"
   ]
  },
  {
   "cell_type": "markdown",
   "metadata": {},
   "source": [
    "### Datetime conversion & indexing (using `.read_csv()` arguments `parse_dates=` and `index_col=`)\n",
    "While reading in the original CSV values from disk, we could have also immediately passed two additional arguments to the `.read_csv()` method (being: `parse_dates=` and `index_col=`), which would have led to the same DataFrame result as we have now:"
   ]
  },
  {
   "cell_type": "code",
   "execution_count": 47,
   "metadata": {},
   "outputs": [
    {
     "data": {
      "text/html": [
       "<div>\n",
       "<style scoped>\n",
       "    .dataframe tbody tr th:only-of-type {\n",
       "        vertical-align: middle;\n",
       "    }\n",
       "\n",
       "    .dataframe tbody tr th {\n",
       "        vertical-align: top;\n",
       "    }\n",
       "\n",
       "    .dataframe thead th {\n",
       "        text-align: right;\n",
       "    }\n",
       "</style>\n",
       "<table border=\"1\" class=\"dataframe\">\n",
       "  <thead>\n",
       "    <tr style=\"text-align: right;\">\n",
       "      <th></th>\n",
       "      <th>open</th>\n",
       "      <th>high</th>\n",
       "      <th>low</th>\n",
       "      <th>close</th>\n",
       "      <th>volume</th>\n",
       "    </tr>\n",
       "    <tr>\n",
       "      <th>datetime</th>\n",
       "      <th></th>\n",
       "      <th></th>\n",
       "      <th></th>\n",
       "      <th></th>\n",
       "      <th></th>\n",
       "    </tr>\n",
       "  </thead>\n",
       "  <tbody>\n",
       "    <tr>\n",
       "      <th>2019-06-02 00:00:00+00:00</th>\n",
       "      <td>8545.10</td>\n",
       "      <td>8548.55</td>\n",
       "      <td>8535.98</td>\n",
       "      <td>8537.67</td>\n",
       "      <td>17.349543</td>\n",
       "    </tr>\n",
       "    <tr>\n",
       "      <th>2019-06-02 00:01:00+00:00</th>\n",
       "      <td>8537.53</td>\n",
       "      <td>8543.49</td>\n",
       "      <td>8524.00</td>\n",
       "      <td>8534.66</td>\n",
       "      <td>31.599922</td>\n",
       "    </tr>\n",
       "    <tr>\n",
       "      <th>2019-06-02 00:02:00+00:00</th>\n",
       "      <td>8533.64</td>\n",
       "      <td>8540.13</td>\n",
       "      <td>8529.98</td>\n",
       "      <td>8534.97</td>\n",
       "      <td>7.011458</td>\n",
       "    </tr>\n",
       "    <tr>\n",
       "      <th>2019-06-02 00:03:00+00:00</th>\n",
       "      <td>8534.97</td>\n",
       "      <td>8551.76</td>\n",
       "      <td>8534.00</td>\n",
       "      <td>8551.76</td>\n",
       "      <td>5.992965</td>\n",
       "    </tr>\n",
       "    <tr>\n",
       "      <th>2019-06-02 00:04:00+00:00</th>\n",
       "      <td>8551.76</td>\n",
       "      <td>8554.76</td>\n",
       "      <td>8544.62</td>\n",
       "      <td>8549.30</td>\n",
       "      <td>15.771411</td>\n",
       "    </tr>\n",
       "  </tbody>\n",
       "</table>\n",
       "</div>"
      ],
      "text/plain": [
       "                              open     high      low    close     volume\n",
       "datetime                                                                \n",
       "2019-06-02 00:00:00+00:00  8545.10  8548.55  8535.98  8537.67  17.349543\n",
       "2019-06-02 00:01:00+00:00  8537.53  8543.49  8524.00  8534.66  31.599922\n",
       "2019-06-02 00:02:00+00:00  8533.64  8540.13  8529.98  8534.97   7.011458\n",
       "2019-06-02 00:03:00+00:00  8534.97  8551.76  8534.00  8551.76   5.992965\n",
       "2019-06-02 00:04:00+00:00  8551.76  8554.76  8544.62  8549.30  15.771411"
      ]
     },
     "execution_count": 47,
     "metadata": {},
     "output_type": "execute_result"
    }
   ],
   "source": [
    "import pandas as pd\n",
    "df = pd.read_csv('btcusdt_20190602_20190604_1min_hloc.csv', \n",
    "                 parse_dates=['datetime'], index_col='datetime')\n",
    "df.head()"
   ]
  },
  {
   "cell_type": "markdown",
   "metadata": {},
   "source": [
    "If we again plot these values, now using the DatetimeIndex, our datetime context is plotted on the X-axis as well: nice!"
   ]
  },
  {
   "cell_type": "code",
   "execution_count": 48,
   "metadata": {},
   "outputs": [
    {
     "name": "stderr",
     "output_type": "stream",
     "text": [
      "/anaconda3/lib/python3.7/site-packages/pandas/core/arrays/datetimes.py:1172: UserWarning: Converting to PeriodArray/Index representation will drop timezone information.\n",
      "  \"will drop timezone information.\", UserWarning)\n"
     ]
    },
    {
     "data": {
      "text/plain": [
       "<matplotlib.axes._subplots.AxesSubplot at 0x1211da748>"
      ]
     },
     "execution_count": 48,
     "metadata": {},
     "output_type": "execute_result"
    },
    {
     "data": {
      "image/png": "[encoded data removed]",
      "text/plain": [
       "<Figure size 432x288 with 1 Axes>"
      ]
     },
     "metadata": {
      "needs_background": "light"
     },
     "output_type": "display_data"
    }
   ],
   "source": [
    "%matplotlib inline\n",
    "df['open'].plot()"
   ]
  },
  {
   "cell_type": "markdown",
   "metadata": {},
   "source": [
    "### Date slicing\n",
    "Now that we've successfully set the 'datetime' column as the DataFrame index, we can also slice that index using date strings! If we want to only use a data subset containing 1 day of trading data (= 1440 K-line ticks in this data set), for example on 2019-06-02, then we simply pass the date string as an argument, like so:"
   ]
  },
  {
   "cell_type": "code",
   "execution_count": 49,
   "metadata": {},
   "outputs": [
    {
     "data": {
      "text/html": [
       "<div>\n",
       "<style scoped>\n",
       "    .dataframe tbody tr th:only-of-type {\n",
       "        vertical-align: middle;\n",
       "    }\n",
       "\n",
       "    .dataframe tbody tr th {\n",
       "        vertical-align: top;\n",
       "    }\n",
       "\n",
       "    .dataframe thead th {\n",
       "        text-align: right;\n",
       "    }\n",
       "</style>\n",
       "<table border=\"1\" class=\"dataframe\">\n",
       "  <thead>\n",
       "    <tr style=\"text-align: right;\">\n",
       "      <th></th>\n",
       "      <th>open</th>\n",
       "      <th>high</th>\n",
       "      <th>low</th>\n",
       "      <th>close</th>\n",
       "      <th>volume</th>\n",
       "    </tr>\n",
       "    <tr>\n",
       "      <th>datetime</th>\n",
       "      <th></th>\n",
       "      <th></th>\n",
       "      <th></th>\n",
       "      <th></th>\n",
       "      <th></th>\n",
       "    </tr>\n",
       "  </thead>\n",
       "  <tbody>\n",
       "    <tr>\n",
       "      <th>2019-06-02 23:55:00+00:00</th>\n",
       "      <td>8725.31</td>\n",
       "      <td>8728.61</td>\n",
       "      <td>8721.67</td>\n",
       "      <td>8725.43</td>\n",
       "      <td>10.443800</td>\n",
       "    </tr>\n",
       "    <tr>\n",
       "      <th>2019-06-02 23:56:00+00:00</th>\n",
       "      <td>8725.45</td>\n",
       "      <td>8729.62</td>\n",
       "      <td>8720.73</td>\n",
       "      <td>8728.66</td>\n",
       "      <td>10.184273</td>\n",
       "    </tr>\n",
       "    <tr>\n",
       "      <th>2019-06-02 23:57:00+00:00</th>\n",
       "      <td>8728.49</td>\n",
       "      <td>8729.86</td>\n",
       "      <td>8724.37</td>\n",
       "      <td>8729.10</td>\n",
       "      <td>10.440185</td>\n",
       "    </tr>\n",
       "    <tr>\n",
       "      <th>2019-06-02 23:58:00+00:00</th>\n",
       "      <td>8729.05</td>\n",
       "      <td>8731.14</td>\n",
       "      <td>8723.86</td>\n",
       "      <td>8723.86</td>\n",
       "      <td>9.132625</td>\n",
       "    </tr>\n",
       "    <tr>\n",
       "      <th>2019-06-02 23:59:00+00:00</th>\n",
       "      <td>8723.86</td>\n",
       "      <td>8726.00</td>\n",
       "      <td>8718.00</td>\n",
       "      <td>8725.98</td>\n",
       "      <td>9.637084</td>\n",
       "    </tr>\n",
       "  </tbody>\n",
       "</table>\n",
       "</div>"
      ],
      "text/plain": [
       "                              open     high      low    close     volume\n",
       "datetime                                                                \n",
       "2019-06-02 23:55:00+00:00  8725.31  8728.61  8721.67  8725.43  10.443800\n",
       "2019-06-02 23:56:00+00:00  8725.45  8729.62  8720.73  8728.66  10.184273\n",
       "2019-06-02 23:57:00+00:00  8728.49  8729.86  8724.37  8729.10  10.440185\n",
       "2019-06-02 23:58:00+00:00  8729.05  8731.14  8723.86  8723.86   9.132625\n",
       "2019-06-02 23:59:00+00:00  8723.86  8726.00  8718.00  8725.98   9.637084"
      ]
     },
     "execution_count": 49,
     "metadata": {},
     "output_type": "execute_result"
    }
   ],
   "source": [
    "df_20190602 = df['2019-06-02']\n",
    "df_20190602.tail()"
   ]
  },
  {
   "cell_type": "markdown",
   "metadata": {},
   "source": [
    "As you can see on the `.tail()`output, the last DataFrame row of the newly created `df_20190602` DataFrame is `2019-06-02 23:59:00`, and the `df_20190602` DataFrame only contains 1440 rows of data in total:"
   ]
  },
  {
   "cell_type": "code",
   "execution_count": 51,
   "metadata": {},
   "outputs": [
    {
     "data": {
      "text/plain": [
       "(1440, 5)"
      ]
     },
     "execution_count": 51,
     "metadata": {},
     "output_type": "execute_result"
    }
   ],
   "source": [
    "df_20190602.shape"
   ]
  },
  {
   "cell_type": "markdown",
   "metadata": {},
   "source": [
    "In case we want to create a DataFrame containing a multiple day window subset, we also add a stop date to the date string slice, like so:"
   ]
  },
  {
   "cell_type": "code",
   "execution_count": 53,
   "metadata": {},
   "outputs": [
    {
     "data": {
      "text/html": [
       "<div>\n",
       "<style scoped>\n",
       "    .dataframe tbody tr th:only-of-type {\n",
       "        vertical-align: middle;\n",
       "    }\n",
       "\n",
       "    .dataframe tbody tr th {\n",
       "        vertical-align: top;\n",
       "    }\n",
       "\n",
       "    .dataframe thead th {\n",
       "        text-align: right;\n",
       "    }\n",
       "</style>\n",
       "<table border=\"1\" class=\"dataframe\">\n",
       "  <thead>\n",
       "    <tr style=\"text-align: right;\">\n",
       "      <th></th>\n",
       "      <th>open</th>\n",
       "      <th>high</th>\n",
       "      <th>low</th>\n",
       "      <th>close</th>\n",
       "      <th>volume</th>\n",
       "    </tr>\n",
       "    <tr>\n",
       "      <th>datetime</th>\n",
       "      <th></th>\n",
       "      <th></th>\n",
       "      <th></th>\n",
       "      <th></th>\n",
       "      <th></th>\n",
       "    </tr>\n",
       "  </thead>\n",
       "  <tbody>\n",
       "    <tr>\n",
       "      <th>2019-06-03 23:55:00+00:00</th>\n",
       "      <td>8170.31</td>\n",
       "      <td>8178.48</td>\n",
       "      <td>8162.61</td>\n",
       "      <td>8169.20</td>\n",
       "      <td>46.913377</td>\n",
       "    </tr>\n",
       "    <tr>\n",
       "      <th>2019-06-03 23:56:00+00:00</th>\n",
       "      <td>8169.24</td>\n",
       "      <td>8175.39</td>\n",
       "      <td>8159.00</td>\n",
       "      <td>8161.52</td>\n",
       "      <td>44.748378</td>\n",
       "    </tr>\n",
       "    <tr>\n",
       "      <th>2019-06-03 23:57:00+00:00</th>\n",
       "      <td>8161.16</td>\n",
       "      <td>8161.17</td>\n",
       "      <td>8135.94</td>\n",
       "      <td>8146.69</td>\n",
       "      <td>65.794209</td>\n",
       "    </tr>\n",
       "    <tr>\n",
       "      <th>2019-06-03 23:58:00+00:00</th>\n",
       "      <td>8146.58</td>\n",
       "      <td>8153.00</td>\n",
       "      <td>8137.38</td>\n",
       "      <td>8140.00</td>\n",
       "      <td>43.648000</td>\n",
       "    </tr>\n",
       "    <tr>\n",
       "      <th>2019-06-03 23:59:00+00:00</th>\n",
       "      <td>8140.00</td>\n",
       "      <td>8142.80</td>\n",
       "      <td>8100.50</td>\n",
       "      <td>8115.82</td>\n",
       "      <td>185.607380</td>\n",
       "    </tr>\n",
       "  </tbody>\n",
       "</table>\n",
       "</div>"
      ],
      "text/plain": [
       "                              open     high      low    close      volume\n",
       "datetime                                                                 \n",
       "2019-06-03 23:55:00+00:00  8170.31  8178.48  8162.61  8169.20   46.913377\n",
       "2019-06-03 23:56:00+00:00  8169.24  8175.39  8159.00  8161.52   44.748378\n",
       "2019-06-03 23:57:00+00:00  8161.16  8161.17  8135.94  8146.69   65.794209\n",
       "2019-06-03 23:58:00+00:00  8146.58  8153.00  8137.38  8140.00   43.648000\n",
       "2019-06-03 23:59:00+00:00  8140.00  8142.80  8100.50  8115.82  185.607380"
      ]
     },
     "execution_count": 53,
     "metadata": {},
     "output_type": "execute_result"
    }
   ],
   "source": [
    "df_20190602_20190603 = df['2019-06-02':'2019-06-03']\n",
    "df_20190602_20190603.tail()"
   ]
  },
  {
   "cell_type": "code",
   "execution_count": 54,
   "metadata": {},
   "outputs": [
    {
     "data": {
      "text/plain": [
       "(2880, 5)"
      ]
     },
     "execution_count": 54,
     "metadata": {},
     "output_type": "execute_result"
    }
   ],
   "source": [
    "df_20190602_20190603.shape"
   ]
  },
  {
   "cell_type": "markdown",
   "metadata": {},
   "source": [
    "**Nota bene:** It's important to note that - unlike on \"regular\" (index) slicing, - when using date string slicing in `pandas` both lower and upper boundaries are **inclusive**; the data being sliced includes all 1440 data rows from June 3, 2019."
   ]
  },
  {
   "cell_type": "markdown",
   "metadata": {},
   "source": [
    "### Time slicing using `.between_time()`\n",
    "What if we want to slice all 1-minute candles which happened one a specific day (e.g. on 2019-06-02) between a specific time interval, for example between 14:00 UTC and 15:00 UTC? This we can accomplish using the `.between_time()` method.\n",
    "\n",
    "As arguments, we pass the arguments `start_time`, `end_time`, and we specify `include_end=False` so that the end_time is non-inclusive (if we wouldn't, our new sub-set would include 61 instead of 60 1-minute ticks)."
   ]
  },
  {
   "cell_type": "code",
   "execution_count": 63,
   "metadata": {},
   "outputs": [
    {
     "data": {
      "text/html": [
       "<div>\n",
       "<style scoped>\n",
       "    .dataframe tbody tr th:only-of-type {\n",
       "        vertical-align: middle;\n",
       "    }\n",
       "\n",
       "    .dataframe tbody tr th {\n",
       "        vertical-align: top;\n",
       "    }\n",
       "\n",
       "    .dataframe thead th {\n",
       "        text-align: right;\n",
       "    }\n",
       "</style>\n",
       "<table border=\"1\" class=\"dataframe\">\n",
       "  <thead>\n",
       "    <tr style=\"text-align: right;\">\n",
       "      <th></th>\n",
       "      <th>open</th>\n",
       "      <th>high</th>\n",
       "      <th>low</th>\n",
       "      <th>close</th>\n",
       "      <th>volume</th>\n",
       "    </tr>\n",
       "    <tr>\n",
       "      <th>datetime</th>\n",
       "      <th></th>\n",
       "      <th></th>\n",
       "      <th></th>\n",
       "      <th></th>\n",
       "      <th></th>\n",
       "    </tr>\n",
       "  </thead>\n",
       "  <tbody>\n",
       "    <tr>\n",
       "      <th>2019-06-02 14:55:00+00:00</th>\n",
       "      <td>8665.71</td>\n",
       "      <td>8669.50</td>\n",
       "      <td>8663.66</td>\n",
       "      <td>8667.24</td>\n",
       "      <td>11.401655</td>\n",
       "    </tr>\n",
       "    <tr>\n",
       "      <th>2019-06-02 14:56:00+00:00</th>\n",
       "      <td>8668.06</td>\n",
       "      <td>8670.90</td>\n",
       "      <td>8664.87</td>\n",
       "      <td>8667.07</td>\n",
       "      <td>11.358376</td>\n",
       "    </tr>\n",
       "    <tr>\n",
       "      <th>2019-06-02 14:57:00+00:00</th>\n",
       "      <td>8667.07</td>\n",
       "      <td>8670.90</td>\n",
       "      <td>8664.96</td>\n",
       "      <td>8669.96</td>\n",
       "      <td>15.915794</td>\n",
       "    </tr>\n",
       "    <tr>\n",
       "      <th>2019-06-02 14:58:00+00:00</th>\n",
       "      <td>8670.00</td>\n",
       "      <td>8673.37</td>\n",
       "      <td>8669.46</td>\n",
       "      <td>8672.73</td>\n",
       "      <td>11.153078</td>\n",
       "    </tr>\n",
       "    <tr>\n",
       "      <th>2019-06-02 14:59:00+00:00</th>\n",
       "      <td>8672.72</td>\n",
       "      <td>8672.72</td>\n",
       "      <td>8663.57</td>\n",
       "      <td>8663.59</td>\n",
       "      <td>9.850304</td>\n",
       "    </tr>\n",
       "  </tbody>\n",
       "</table>\n",
       "</div>"
      ],
      "text/plain": [
       "                              open     high      low    close     volume\n",
       "datetime                                                                \n",
       "2019-06-02 14:55:00+00:00  8665.71  8669.50  8663.66  8667.24  11.401655\n",
       "2019-06-02 14:56:00+00:00  8668.06  8670.90  8664.87  8667.07  11.358376\n",
       "2019-06-02 14:57:00+00:00  8667.07  8670.90  8664.96  8669.96  15.915794\n",
       "2019-06-02 14:58:00+00:00  8670.00  8673.37  8669.46  8672.73  11.153078\n",
       "2019-06-02 14:59:00+00:00  8672.72  8672.72  8663.57  8663.59   9.850304"
      ]
     },
     "execution_count": 63,
     "metadata": {},
     "output_type": "execute_result"
    }
   ],
   "source": [
    "df_20190602_1h = df_20190602.between_time('14:00', '15:00', include_end=False)\n",
    "df_20190602_1h.tail()"
   ]
  },
  {
   "cell_type": "code",
   "execution_count": 64,
   "metadata": {},
   "outputs": [
    {
     "data": {
      "text/plain": [
       "(60, 5)"
      ]
     },
     "execution_count": 64,
     "metadata": {},
     "output_type": "execute_result"
    }
   ],
   "source": [
    "df_20190602_1h.shape"
   ]
  },
  {
   "cell_type": "markdown",
   "metadata": {},
   "source": [
    "# Some basic `pandas` statistic operations (including gaining some real-life Binance BTCUSDT statistical insights while we're at it)\n",
    "\n",
    "### `.max()`\n",
    "To retrieve and return the maximum value of a selected DataFrame column, `pandas` provides the `.max()` method. First we select the column we want to inspect, and run the `.max()` method on that, like so (on the original `df` DataFrame we began with):"
   ]
  },
  {
   "cell_type": "code",
   "execution_count": 65,
   "metadata": {},
   "outputs": [
    {
     "data": {
      "text/plain": [
       "8808.82"
      ]
     },
     "execution_count": 65,
     "metadata": {},
     "output_type": "execute_result"
    }
   ],
   "source": [
    "df['open'].max()"
   ]
  },
  {
   "cell_type": "markdown",
   "metadata": {},
   "source": [
    "### `.idxmax()`\n",
    "And in order to return the DatetimeIndex on which the maximum value (within the selected range, or in this case the total dataset) occurred, use `.idxmax()`:"
   ]
  },
  {
   "cell_type": "code",
   "execution_count": 68,
   "metadata": {},
   "outputs": [
    {
     "data": {
      "text/plain": [
       "Timestamp('2019-06-02 12:48:00+0000', tz='UTC')"
      ]
     },
     "execution_count": 68,
     "metadata": {},
     "output_type": "execute_result"
    }
   ],
   "source": [
    "df['open'].idxmax()"
   ]
  },
  {
   "cell_type": "markdown",
   "metadata": {},
   "source": [
    "Interestingly, if we check `.idxmax()` on the \"volume\" data, '2019-06-03 23:22' is returned. If we look back at the price plot, we can visually spot a \"flash crash\" of BTC price happening over the course of a few minutes, in which Bitcoin price dropped from about 8500 to around 7800!\n",
    "\n",
    "The trading volume of Bitcoin (mostly sells) on Binance happening in just one minute ('2019-06-03 23:22' UTC) was almost 950 Bitcoin!"
   ]
  },
  {
   "cell_type": "code",
   "execution_count": 76,
   "metadata": {},
   "outputs": [
    {
     "data": {
      "text/plain": [
       "Timestamp('2019-06-03 23:22:00+0000', tz='UTC')"
      ]
     },
     "execution_count": 76,
     "metadata": {},
     "output_type": "execute_result"
    }
   ],
   "source": [
    "df['volume'].idxmax()"
   ]
  },
  {
   "cell_type": "code",
   "execution_count": 77,
   "metadata": {},
   "outputs": [
    {
     "data": {
      "text/plain": [
       "949.563225"
      ]
     },
     "execution_count": 77,
     "metadata": {},
     "output_type": "execute_result"
    }
   ],
   "source": [
    "df['volume'].max()"
   ]
  },
  {
   "cell_type": "markdown",
   "metadata": {},
   "source": [
    "### `.min()`\n",
    "As you have probably guessed, in order to return the minimum value we use the `.min()` method:"
   ]
  },
  {
   "cell_type": "code",
   "execution_count": 78,
   "metadata": {},
   "outputs": [
    {
     "data": {
      "text/plain": [
       "7490.2"
      ]
     },
     "execution_count": 78,
     "metadata": {},
     "output_type": "execute_result"
    }
   ],
   "source": [
    "df['open'].min()"
   ]
  },
  {
   "cell_type": "markdown",
   "metadata": {},
   "source": [
    "### `.idxmin()`\n",
    "Similarly, in order to return the DatetimeIndex on which the minimum value occurred, run `.idxmin()`:"
   ]
  },
  {
   "cell_type": "code",
   "execution_count": 79,
   "metadata": {},
   "outputs": [
    {
     "data": {
      "text/plain": [
       "Timestamp('2019-06-04 22:00:00+0000', tz='UTC')"
      ]
     },
     "execution_count": 79,
     "metadata": {},
     "output_type": "execute_result"
    }
   ],
   "source": [
    "df['open'].idxmin()"
   ]
  },
  {
   "cell_type": "markdown",
   "metadata": {},
   "source": [
    "### `.mean()`\n",
    "The mean value of a specific series is found by using the `.mean()` method. Using our entire 3-day dataset, we find that the mean price of Bitcoin between June 2, 2019 and Jun 4, 2019 was 8354.03:"
   ]
  },
  {
   "cell_type": "code",
   "execution_count": 80,
   "metadata": {},
   "outputs": [
    {
     "data": {
      "text/plain": [
       "8354.033474537022"
      ]
     },
     "execution_count": 80,
     "metadata": {},
     "output_type": "execute_result"
    }
   ],
   "source": [
    "df['open'].mean()"
   ]
  },
  {
   "cell_type": "markdown",
   "metadata": {},
   "source": [
    "Having found already that the maximum amount of Bitcoin traded (within our 3 day range) in just minute was about 950 Bitcoin, let's check the average minute trading volume as well:"
   ]
  },
  {
   "cell_type": "code",
   "execution_count": 81,
   "metadata": {},
   "outputs": [
    {
     "data": {
      "text/plain": [
       "34.18334428472222"
      ]
     },
     "execution_count": 81,
     "metadata": {},
     "output_type": "execute_result"
    }
   ],
   "source": [
    "df['volume'].mean()"
   ]
  },
  {
   "cell_type": "markdown",
   "metadata": {},
   "source": [
    "### `.sum()`\n",
    "Suppose we want to compute the total trading volume which happened on our entire 3-day DataFrame, then we can do so easily using the `.sum()` method on the df['volume'] column, like so:"
   ]
  },
  {
   "cell_type": "code",
   "execution_count": 84,
   "metadata": {},
   "outputs": [
    {
     "data": {
      "text/plain": [
       "147672.04731"
      ]
     },
     "execution_count": 84,
     "metadata": {},
     "output_type": "execute_result"
    }
   ],
   "source": [
    "df['volume'].sum()"
   ]
  },
  {
   "cell_type": "markdown",
   "metadata": {},
   "source": [
    "This number is indeed correct, which we can check by multiplying the amount of 1-minute ticks (4320) in our dataset by the mean 1-minute volume we just returned:"
   ]
  },
  {
   "cell_type": "code",
   "execution_count": 83,
   "metadata": {},
   "outputs": [
    {
     "data": {
      "text/plain": [
       "147672.04730999997"
      ]
     },
     "execution_count": 83,
     "metadata": {},
     "output_type": "execute_result"
    }
   ],
   "source": [
    "4320 * 34.18334428472222"
   ]
  },
  {
   "cell_type": "markdown",
   "metadata": {},
   "source": [
    "### `.describe()`\n",
    "The basic statistical values we've been using thus far (which of course can be used on more complex DataFrame operations, which we'll discuss in the forthcoming tutorial episodes), we can also output on (a selection of) the entire DataFrame using the `.describe()` method:"
   ]
  },
  {
   "cell_type": "code",
   "execution_count": 85,
   "metadata": {},
   "outputs": [
    {
     "data": {
      "text/html": [
       "<div>\n",
       "<style scoped>\n",
       "    .dataframe tbody tr th:only-of-type {\n",
       "        vertical-align: middle;\n",
       "    }\n",
       "\n",
       "    .dataframe tbody tr th {\n",
       "        vertical-align: top;\n",
       "    }\n",
       "\n",
       "    .dataframe thead th {\n",
       "        text-align: right;\n",
       "    }\n",
       "</style>\n",
       "<table border=\"1\" class=\"dataframe\">\n",
       "  <thead>\n",
       "    <tr style=\"text-align: right;\">\n",
       "      <th></th>\n",
       "      <th>open</th>\n",
       "      <th>high</th>\n",
       "      <th>low</th>\n",
       "      <th>close</th>\n",
       "      <th>volume</th>\n",
       "    </tr>\n",
       "  </thead>\n",
       "  <tbody>\n",
       "    <tr>\n",
       "      <th>count</th>\n",
       "      <td>4320.000000</td>\n",
       "      <td>4320.000000</td>\n",
       "      <td>4320.000000</td>\n",
       "      <td>4320.000000</td>\n",
       "      <td>4320.000000</td>\n",
       "    </tr>\n",
       "    <tr>\n",
       "      <th>mean</th>\n",
       "      <td>8354.033475</td>\n",
       "      <td>8359.921905</td>\n",
       "      <td>8347.543243</td>\n",
       "      <td>8353.818926</td>\n",
       "      <td>34.183344</td>\n",
       "    </tr>\n",
       "    <tr>\n",
       "      <th>std</th>\n",
       "      <td>358.395024</td>\n",
       "      <td>357.338897</td>\n",
       "      <td>359.911089</td>\n",
       "      <td>358.538551</td>\n",
       "      <td>54.520356</td>\n",
       "    </tr>\n",
       "    <tr>\n",
       "      <th>min</th>\n",
       "      <td>7490.200000</td>\n",
       "      <td>7533.430000</td>\n",
       "      <td>7481.020000</td>\n",
       "      <td>7494.110000</td>\n",
       "      <td>1.351415</td>\n",
       "    </tr>\n",
       "    <tr>\n",
       "      <th>25%</th>\n",
       "      <td>7985.045000</td>\n",
       "      <td>7990.270000</td>\n",
       "      <td>7979.205000</td>\n",
       "      <td>7984.997500</td>\n",
       "      <td>11.114809</td>\n",
       "    </tr>\n",
       "    <tr>\n",
       "      <th>50%</th>\n",
       "      <td>8519.605000</td>\n",
       "      <td>8524.985000</td>\n",
       "      <td>8513.490000</td>\n",
       "      <td>8518.845000</td>\n",
       "      <td>19.566122</td>\n",
       "    </tr>\n",
       "    <tr>\n",
       "      <th>75%</th>\n",
       "      <td>8661.080000</td>\n",
       "      <td>8666.992500</td>\n",
       "      <td>8656.007500</td>\n",
       "      <td>8661.200000</td>\n",
       "      <td>35.273851</td>\n",
       "    </tr>\n",
       "    <tr>\n",
       "      <th>max</th>\n",
       "      <td>8808.820000</td>\n",
       "      <td>8814.780000</td>\n",
       "      <td>8805.850000</td>\n",
       "      <td>8809.910000</td>\n",
       "      <td>949.563225</td>\n",
       "    </tr>\n",
       "  </tbody>\n",
       "</table>\n",
       "</div>"
      ],
      "text/plain": [
       "              open         high          low        close       volume\n",
       "count  4320.000000  4320.000000  4320.000000  4320.000000  4320.000000\n",
       "mean   8354.033475  8359.921905  8347.543243  8353.818926    34.183344\n",
       "std     358.395024   357.338897   359.911089   358.538551    54.520356\n",
       "min    7490.200000  7533.430000  7481.020000  7494.110000     1.351415\n",
       "25%    7985.045000  7990.270000  7979.205000  7984.997500    11.114809\n",
       "50%    8519.605000  8524.985000  8513.490000  8518.845000    19.566122\n",
       "75%    8661.080000  8666.992500  8656.007500  8661.200000    35.273851\n",
       "max    8808.820000  8814.780000  8805.850000  8809.910000   949.563225"
      ]
     },
     "execution_count": 85,
     "metadata": {},
     "output_type": "execute_result"
    }
   ],
   "source": [
    "df.describe()"
   ]
  },
  {
   "cell_type": "markdown",
   "metadata": {},
   "source": [
    "# What did we learn, hopefully?\n",
    "Hopefully you've learned the difference between regular integer index values and DateTimeIndexes, and why and how those are useful on Time Series analysis using `pandas`.\n",
    "\n",
    "### Thank you for your time!"
   ]
  }
 ],
 "metadata": {
  "kernelspec": {
   "display_name": "Python 3",
   "language": "python",
   "name": "python3"
  },
  "language_info": {
   "codemirror_mode": {
    "name": "ipython",
    "version": 3
   },
   "file_extension": ".py",
   "mimetype": "text/x-python",
   "name": "python",
   "nbconvert_exporter": "python",
   "pygments_lexer": "ipython3",
   "version": "3.7.3"
  }
 },
 "nbformat": 4,
 "nbformat_minor": 2
}
