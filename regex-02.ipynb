{
 "cells": [
  {
   "cell_type": "markdown",
   "metadata": {},
   "source": [
    "# Learn Python Series (#24) - Handling Regular Expressions Part 2\n",
    "In [Learn Python Series (#23) - Handling Regular Expressions Part 1](https://steemit.com/utopian-io/@scipio/learn-python-series-23-handling-regular-expressions-part-1), which was kind of like an Intro to the world of regular expresions, you learned (via fixed string patterns to begin with) how to use common functions and methods provided by the `re` module.\n",
    "\n",
    "We talked about using `match()`, `search()`, `findall()`, `finditer()`, `split()`, `sub()` and `compile()`; all utilizing regular expressions for pattern matching. However, in `Part 1`, we haven't talked about how the regular expression \"language\" itself works.\n",
    "\n",
    "So let's do that right now!"
   ]
  },
  {
   "cell_type": "code",
   "execution_count": 1,
   "metadata": {},
   "outputs": [],
   "source": [
    "import re"
   ]
  },
  {
   "cell_type": "markdown",
   "metadata": {},
   "source": [
    "# Using Character Sets  (or: Character Classes) via `[ ]`\n",
    "Within regular expressions an easy-to-use yet powerful mechanism is the `Character Set`. Place squared brackets `[ ]` around individually listed characters the all should match.\n",
    "\n",
    "E.g. the regex `sc[aio]pio`, in which `[aio]` is the Character Set, should match `scapio`, `scipio` and `scopio`. In this example `[aio]` counts as 1 character, which could either be an `a`, `i` or `o`, after `sc` was found and right before `pio`.\n",
    "\n",
    "Please also regard the following example, in which the regex `pyth[ae]n` matches both `pythan` and `pythen` (and next we properly substitute the typos.)"
   ]
  },
  {
   "cell_type": "code",
   "execution_count": 6,
   "metadata": {},
   "outputs": [
    {
     "name": "stdout",
     "output_type": "stream",
     "text": [
      "Wow what a great post Dear about Python!\n",
      "Your post gives us a new lesson! I like it Dear! Beautiful!\n",
      "We can learn a lot of things about Python!\n"
     ]
    }
   ],
   "source": [
    "pattern = \"pyth[ae]n\"\n",
    "replace = \"Python\"\n",
    "string = \"\"\"Wow what a great post Dear about pythen!\n",
    "Your post gives us a new lesson! I like it Dear! Beautiful!\n",
    "We can learn a lot of things about pythan!\"\"\"\n",
    "\n",
    "result = re.sub(pattern, replace, string)\n",
    "print(result)"
   ]
  },
  {
   "cell_type": "markdown",
   "metadata": {},
   "source": [
    "You're not limited to using only one Character Set inside a regex; you can use multiple, as you please!\n",
    "\n",
    "For example:"
   ]
  },
  {
   "cell_type": "code",
   "execution_count": 5,
   "metadata": {},
   "outputs": [
    {
     "name": "stdout",
     "output_type": "stream",
     "text": [
      "['Python', 'pithen', 'Pythan', 'pythun']\n"
     ]
    }
   ],
   "source": [
    "pattern = \"[Pp][iy]th[aeiou]n\"\n",
    "string = \"Learning Python is just like learning pithen, Pythan or pythun!\"\n",
    "\n",
    "match = re.findall(pattern, string)\n",
    "print(match)"
   ]
  },
  {
   "cell_type": "markdown",
   "metadata": {},
   "source": [
    "# Using Ranges within Character Sets via `-`\n",
    "\n",
    "### Single ranges\n",
    "You can define a range of characters within a Character Set by putting `-` in between characters. For example `[a-z]` will match any **one** lower case letter in (`abcdefghjklmnopqrstuvwxyz`); just using `[a-e]` will match **one** lower case letter in `abcde`. To match any **one** number in `0123456789` use `[0-9]`, and if you like to match all triple-digit numbers from `000` to `299` then use `[0-2][0-9][0-9]`."
   ]
  },
  {
   "cell_type": "code",
   "execution_count": 8,
   "metadata": {},
   "outputs": [
    {
     "name": "stdout",
     "output_type": "stream",
     "text": [
      "['123', '678']\n"
     ]
    }
   ],
   "source": [
    "pattern = \"[0-9][0-9][0-9]\"\n",
    "string = \"Let's add the numbers 123 and 45 also add 678 to see if we can match the the triple digits!\"\n",
    "\n",
    "match = re.findall(pattern, string)\n",
    "print(match)"
   ]
  },
  {
   "cell_type": "markdown",
   "metadata": {},
   "source": [
    "**Nota bene:** as you can see from the visual output in the last code example, since we were looking for 3-digit numbers only, the number `45` in the input string was not listed in the returned list of matches."
   ]
  },
  {
   "cell_type": "markdown",
   "metadata": {},
   "source": [
    "### Multiple ranges within one Character Set\n",
    "It is also possible to use multiple ranges within one character set. For example, if you want to match the single-digit numbers `1`, `2`, `3` and `7`, `8`, `9` (but not `0`, or `4`, or `5` or `6`), you can use `[1-37-9]` (which looks a bit strange, because of the `3` and `7` placed next to eachother)."
   ]
  },
  {
   "cell_type": "code",
   "execution_count": 9,
   "metadata": {},
   "outputs": [
    {
     "name": "stdout",
     "output_type": "stream",
     "text": [
      "['1', '2', '3', '7', '8', '9']\n"
     ]
    }
   ],
   "source": [
    "pattern = \"[1-37-9]\"\n",
    "string = \"Let's look which numbers will match within: 0, 1, 2, 3, 4, 5, 6, 7, 8, 9\"\n",
    "\n",
    "match = re.findall(pattern, string)\n",
    "print(match)"
   ]
  },
  {
   "cell_type": "markdown",
   "metadata": {},
   "source": [
    "### Using `|` (OR, alternative) to split multiple ranges for readability\n",
    "For readability, it's allowed to put a `|` in between two ranges within a character set. The following code example produces the same result as the last one:"
   ]
  },
  {
   "cell_type": "code",
   "execution_count": 10,
   "metadata": {},
   "outputs": [
    {
     "name": "stdout",
     "output_type": "stream",
     "text": [
      "['1', '2', '3', '7', '8', '9']\n"
     ]
    }
   ],
   "source": [
    "pattern = \"[1-3|7-9]\"\n",
    "string = \"Let's look which numbers will match within: 0, 1, 2, 3, 4, 5, 6, 7, 8, 9\"\n",
    "\n",
    "match = re.findall(pattern, string)\n",
    "print(match)"
   ]
  },
  {
   "cell_type": "markdown",
   "metadata": {},
   "source": [
    "# Using `^` inside a Character Set for character exclusion\n",
    "The `^` (\"carat\") character matches characters **not** in the set after `^`."
   ]
  },
  {
   "cell_type": "code",
   "execution_count": 52,
   "metadata": {},
   "outputs": [
    {
     "name": "stdout",
     "output_type": "stream",
     "text": [
      "['S', 'c', 'p']\n"
     ]
    }
   ],
   "source": [
    "pattern = \"[^aeiou]\"\n",
    "string = \"Scipio\"\n",
    "\n",
    "match = re.findall(pattern, string)\n",
    "print(match)"
   ]
  },
  {
   "cell_type": "markdown",
   "metadata": {},
   "source": [
    "# Regex Control Characters (or: Meta Characters) & Escaping via `\\`\n",
    "What we've just learned regarding Character Sets via `[ ]` is an example of using **Control Characters** in regular expressions. In regexes, all characters match themselves, **except for Control Characters**, which have a different meaning.\n",
    "\n",
    "These Control Characters are: `+` `?` `.` `*` `^` `$` `(` `)` `[` `]` `{` `}` `|` `\\`\n",
    "\n",
    "If you however want to match a Control Character itself, as being something you're literally looking for within an input string, then **escape** them by adding a backslash `\\` directly in front of them.\n",
    "\n",
    "For example, if you want to find the position index number of the dollar sign `$` in the following input string, then do as follows:"
   ]
  },
  {
   "cell_type": "code",
   "execution_count": 13,
   "metadata": {},
   "outputs": [
    {
     "name": "stdout",
     "output_type": "stream",
     "text": [
      "<_sre.SRE_Match object; span=(4, 5), match='$'> 4\n"
     ]
    }
   ],
   "source": [
    "pattern = \"\\$\"\n",
    "string = \"The $ sign is used to represent a Dollar\"\n",
    "\n",
    "match = re.search(pattern, string)\n",
    "print(match, match.start())"
   ]
  },
  {
   "cell_type": "markdown",
   "metadata": {},
   "source": [
    "We will continue now with explaining some of the mentioned Control Characters, including examples of course."
   ]
  },
  {
   "cell_type": "markdown",
   "metadata": {},
   "source": [
    "# Pattern Repetition\n",
    "In regular expressions you can express **repetition** in a pattern in various ways, all done by placing Meta Characters **directly after** the (sub-)pattern:"
   ]
  },
  {
   "cell_type": "markdown",
   "metadata": {},
   "source": [
    "### The `?` Control Character: 0 or 1 times\n",
    "The `?` character is placed in case the pattern is matched 0 or 1 time. You could also say that pattern is then \"optional\": it may be there, or not."
   ]
  },
  {
   "cell_type": "code",
   "execution_count": 21,
   "metadata": {},
   "outputs": [
    {
     "name": "stdout",
     "output_type": "stream",
     "text": [
      "['ab', 'a', 'ab', 'a']\n"
     ]
    }
   ],
   "source": [
    "pattern = \"ab?\"\n",
    "string = \"abacabbba\"\n",
    "\n",
    "match = re.findall(pattern, string)\n",
    "print(match)"
   ]
  },
  {
   "cell_type": "markdown",
   "metadata": {},
   "source": [
    "**Explanation:** the `findall()` function returned 4 matches (evaluating the pattern / input string left to right of course).\n",
    "\n",
    "1) the first match `ab` means of course the first 2 characters: the first `a` was already a match, but since there's also a `b` after it, the substring `ab` was returned.\n",
    "\n",
    "2) the second match is an `a` because it's followed by a `c` (not the optional `b`).\n",
    "\n",
    "3) then once again an `ab` was returned, regardless the amount of `b`'s (3 in this case) were found after the `a`.\n",
    "\n",
    "4) and finally at the end is another `a` found as the last character."
   ]
  },
  {
   "cell_type": "markdown",
   "metadata": {},
   "source": [
    "### The `*` Control Character: 0 or more times\n",
    "Use the `*` character when you want to match the pattern 0 or more times. \"Zero or more\" does **not mean** \"I don't care how many times\" but \"if it's not there match it anyway, but if it is, then keep matching in case you find more\"."
   ]
  },
  {
   "cell_type": "code",
   "execution_count": 22,
   "metadata": {},
   "outputs": [
    {
     "name": "stdout",
     "output_type": "stream",
     "text": [
      "['ab', 'a', 'abbb', 'a']\n"
     ]
    }
   ],
   "source": [
    "pattern = \"ab*\"\n",
    "string = \"abacabbba\"\n",
    "\n",
    "match = re.findall(pattern, string)\n",
    "print(match)"
   ]
  },
  {
   "cell_type": "markdown",
   "metadata": {},
   "source": [
    "**Explanation:** the `findall()` function again returned 4 matches, but not the same ones!\n",
    "\n",
    "1) the first match is the same: an `a` was found immediately followed by one `b`, so: `ab`.\n",
    "\n",
    "2) then another `a` was found, followed by a `c` (which is not in the pattern), hence the `a` is returned.\n",
    "\n",
    "3) then once again an `a` was found, but this time all three `b`'s after it get matched as well, not just the first one!\n",
    "\n",
    "4) finally the last `a` is returned"
   ]
  },
  {
   "cell_type": "markdown",
   "metadata": {},
   "source": [
    "### The `+` Control Character: 1 or more times\n",
    "The `+` characters enforces the existence of the pattern in order to match it, at least once, or more, but not zero."
   ]
  },
  {
   "cell_type": "code",
   "execution_count": 23,
   "metadata": {},
   "outputs": [
    {
     "name": "stdout",
     "output_type": "stream",
     "text": [
      "['ab', 'abbb']\n"
     ]
    }
   ],
   "source": [
    "pattern = \"ab+\"\n",
    "string = \"abacabbba\"\n",
    "\n",
    "match = re.findall(pattern, string)\n",
    "print(match)"
   ]
  },
  {
   "cell_type": "markdown",
   "metadata": {},
   "source": [
    "**Explanation:** the `findall()` function now only returned 2 matches:\n",
    "\n",
    "1) the first match, at the beginning, is the same: `ab`.\n",
    "\n",
    "2) but the following substring `ac` doesn't have the `b` so it's unmatched. Only then (at index 4) an `a` is found that's followed by a `b`, three in this case. And the last character `a` is also not matched, because it's not followed by a `b`."
   ]
  },
  {
   "cell_type": "markdown",
   "metadata": {},
   "source": [
    "### Using `{ }` curly braces for `{n}`, `{n,m}` or `{n,}` repetition\n",
    "If you want to specify how many times the pattern repetition should occur do so via `{ }`.\n",
    "\n",
    "- Use `{n}` if you want the repetition to occur `n` times, e.g.  3"
   ]
  },
  {
   "cell_type": "code",
   "execution_count": 24,
   "metadata": {},
   "outputs": [
    {
     "name": "stdout",
     "output_type": "stream",
     "text": [
      "['abbb']\n"
     ]
    }
   ],
   "source": [
    "pattern = \"ab{3}\"\n",
    "string = \"abacabbba\"\n",
    "\n",
    "match = re.findall(pattern, string)\n",
    "print(match)"
   ]
  },
  {
   "cell_type": "markdown",
   "metadata": {},
   "source": [
    "**Explanation:** only 1 match was returned, an `a` followed by exactly 3 times a `b`."
   ]
  },
  {
   "cell_type": "markdown",
   "metadata": {},
   "source": [
    "- Use `{n,m}` if\n",
    "you want the repetition to occur between `n` and `m` times, e.g.  `{1,3}` means a repetition of 1, 2 or 3 times."
   ]
  },
  {
   "cell_type": "code",
   "execution_count": 25,
   "metadata": {},
   "outputs": [
    {
     "name": "stdout",
     "output_type": "stream",
     "text": [
      "['ab', 'abbb']\n"
     ]
    }
   ],
   "source": [
    "pattern = \"ab{1,3}\"\n",
    "string = \"abacabbba\"\n",
    "\n",
    "match = re.findall(pattern, string)\n",
    "print(match)"
   ]
  },
  {
   "cell_type": "markdown",
   "metadata": {},
   "source": [
    "**Explanation:** the occurence of the `a` in `ac`was disregarded now, and so is the final `a` character."
   ]
  },
  {
   "cell_type": "markdown",
   "metadata": {},
   "source": [
    "- Use `{n,}` if you want the repetition to occur between `n` or more times, e.g.  `{2,}` means 2 or more times."
   ]
  },
  {
   "cell_type": "code",
   "execution_count": 26,
   "metadata": {},
   "outputs": [
    {
     "name": "stdout",
     "output_type": "stream",
     "text": [
      "['abbb']\n"
     ]
    }
   ],
   "source": [
    "pattern = \"ab{2,}\"\n",
    "string = \"abacabbba\"\n",
    "\n",
    "match = re.findall(pattern, string)\n",
    "print(match)"
   ]
  },
  {
   "cell_type": "markdown",
   "metadata": {},
   "source": [
    "**Explanation:** only `abbb` was returned, as being the only instance that has an `a` followed by **at least** 2 `b`'s."
   ]
  },
  {
   "cell_type": "markdown",
   "metadata": {},
   "source": [
    "# What did we learn, hopefully?\n",
    "\n",
    "This `Part 2` episode of my regex subseries expanded on what was explained in `Part 1` (handling `re` module functions such `match()`, `search()`, `findall()`, `finditer()`, `split()`, `sub()` and `compile()`), where only fixed, literal strings were used, to forming more \"flexible\" patterns to match input strings with.\n",
    "\n",
    "The regex language can be pretty complex, which is why I'm deliberately \"taking it slow\". We talked about Character Sets surrounded by`[ ]`, with which you can match patterns containing multiple characters. And we talked about Ranges, single ranges, multiple ranges, and alternative ranges. Also we learned how to exclude characters from a Character Set.\n",
    "\n",
    "We then learned about Regex Control Characters (also called \"Meta Characters\"), how to escape them via `\\`. And finally, we talked about various forms of Pattern Repetition.\n",
    "\n",
    "See you in the next episode!\n",
    "\n",
    "### Thank you for your time!"
   ]
  },
  {
   "cell_type": "code",
   "execution_count": null,
   "metadata": {},
   "outputs": [],
   "source": []
  }
 ],
 "metadata": {
  "kernelspec": {
   "display_name": "Python 3",
   "language": "python",
   "name": "python3"
  },
  "language_info": {
   "codemirror_mode": {
    "name": "ipython",
    "version": 3
   },
   "file_extension": ".py",
   "mimetype": "text/x-python",
   "name": "python",
   "nbconvert_exporter": "python",
   "pygments_lexer": "ipython3",
   "version": "3.6.4"
  }
 },
 "nbformat": 4,
 "nbformat_minor": 2
}
