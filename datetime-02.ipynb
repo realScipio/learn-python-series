{
 "cells": [
  {
   "cell_type": "markdown",
   "metadata": {},
   "source": [
    "# Learn Python Series (#22) - Handling Dates and Time Part 2\n",
    "\n",
    "In the previous tutorial of the `Learn Python Series` regarding the handling of dates and time (part 1) we already learned that both the `time` module as well as the `datetime` module provide functionality for handling dates and times. The `time` module has some more focus on support for UNIX timestamps, and in this episode (part 2) we're going to discuss in which specific areas the `datetime` modules shines.\n",
    "\n",
    "Let's begin!"
   ]
  },
  {
   "cell_type": "markdown",
   "metadata": {},
   "source": [
    "# The `datetime` module\n",
    "As compared to the `time` module, the `datetime` module - instead of mostly working with 9-tuples / time_structs and timestamps / epoch integers (ticks) - has a more modular / object-oriented type of interfacing. I will talk about the following classes, which are included in the `datetime` module:\n",
    "\n",
    "- `datetime.time`: representing time, independent of its date;\n",
    "- `datetime.date`: representing dates only, independent of time;\n",
    "- `datetime.datetime`: for a combination of date & time on some date;\n",
    "- `datetime.timedelta`: for dealing with differences of 2 date objects or 2 time objects."
   ]
  },
  {
   "cell_type": "markdown",
   "metadata": {},
   "source": [
    "# The `datetime.time` class"
   ]
  },
  {
   "cell_type": "code",
   "execution_count": 10,
   "metadata": {},
   "outputs": [
    {
     "name": "stdout",
     "output_type": "stream",
     "text": [
      "20:01:59.123456\n"
     ]
    }
   ],
   "source": [
    "import datetime\n",
    "\n",
    "t1 = datetime.time(20, 1, 59, 123456)\n",
    "print(t1)"
   ]
  },
  {
   "cell_type": "markdown",
   "metadata": {},
   "source": [
    "The variable `t1` is now a `datetime.time` instance, which has **attributes**. These are:"
   ]
  },
  {
   "cell_type": "code",
   "execution_count": 9,
   "metadata": {},
   "outputs": [
    {
     "name": "stdout",
     "output_type": "stream",
     "text": [
      "Hour:  20\n",
      "Minute:  1\n",
      "Second:  59\n",
      "Microsecond:  123456\n",
      "Timezone info:  None\n"
     ]
    }
   ],
   "source": [
    "hour = t1.hour\n",
    "minute = t1.minute\n",
    "second = t1.second\n",
    "microsecond = t1.microsecond\n",
    "timezone_info = t1.tzinfo\n",
    "\n",
    "print('Hour: ', hour)\n",
    "print('Minute: ', minute)\n",
    "print('Second: ', second)\n",
    "print('Microsecond: ', microsecond)\n",
    "print('Timezone info: ', timezone_info)"
   ]
  },
  {
   "cell_type": "markdown",
   "metadata": {},
   "source": [
    "# The `datetime.date` class\n",
    "In order to create a `date` instance, just pass in 3 values (year, month, day) as the arguments for `datetime.date()`."
   ]
  },
  {
   "cell_type": "code",
   "execution_count": 11,
   "metadata": {},
   "outputs": [
    {
     "name": "stdout",
     "output_type": "stream",
     "text": [
      "2012-12-31\n"
     ]
    }
   ],
   "source": [
    "d1 = datetime.date(2012, 12, 31)\n",
    "print(d1)"
   ]
  },
  {
   "cell_type": "markdown",
   "metadata": {},
   "source": [
    "Variable `d1` is now a `datetime.date` instance, which has (defaault) attributes as well, being:"
   ]
  },
  {
   "cell_type": "code",
   "execution_count": 14,
   "metadata": {},
   "outputs": [
    {
     "name": "stdout",
     "output_type": "stream",
     "text": [
      "Year:  2012\n",
      "Month:  12\n",
      "Day:  31\n"
     ]
    }
   ],
   "source": [
    "year = d1.year\n",
    "month = d1.month\n",
    "day = d1.day\n",
    "\n",
    "print('Year: ', year)\n",
    "print('Month: ', month)\n",
    "print('Day: ', day)"
   ]
  },
  {
   "cell_type": "markdown",
   "metadata": {},
   "source": [
    "### `datetime.date.today()` method\n",
    "If you want to create a current day `date` instance, use the `datetime.date.today()` class method:"
   ]
  },
  {
   "cell_type": "code",
   "execution_count": 12,
   "metadata": {},
   "outputs": [
    {
     "name": "stdout",
     "output_type": "stream",
     "text": [
      "2018-05-02\n"
     ]
    }
   ],
   "source": [
    "today = datetime.date.today()\n",
    "print(today)"
   ]
  },
  {
   "cell_type": "markdown",
   "metadata": {},
   "source": [
    "### `datetime.date.timetuple()` method\n",
    "You can still use 9-tuples / timestructs on `datetime.date` instances by calling the `datetime.date.timetuple()` method. The exact same 9-tuple / time_struct attributes, as I've explained in `Handling Dates and Time Part 1` regarding the `time` module are available for the `datetime` module as well via the `datetime.date.timetuple()` method, like so:"
   ]
  },
  {
   "cell_type": "code",
   "execution_count": 16,
   "metadata": {},
   "outputs": [
    {
     "name": "stdout",
     "output_type": "stream",
     "text": [
      "Year:  2018\n",
      "Month:  5\n",
      "Day of Month:  2\n",
      "Hour:  0\n",
      "Minute:  0\n",
      "Second:  0\n",
      "Day of Week:  2\n",
      "Day of Year:  122\n",
      "Daylight savings:  -1\n"
     ]
    }
   ],
   "source": [
    "today_tt = today.timetuple()\n",
    "\n",
    "year = today_tt.tm_year\n",
    "month = today_tt.tm_mon\n",
    "month_day = today_tt.tm_mday\n",
    "hour = today_tt.tm_hour\n",
    "minute = today_tt.tm_min\n",
    "second = today_tt.tm_sec\n",
    "week_day = today_tt.tm_wday\n",
    "year_day = today_tt.tm_yday\n",
    "daylight_savings = today_tt.tm_isdst\n",
    "\n",
    "print('Year: ', year)\n",
    "print('Month: ', month)\n",
    "print('Day of Month: ', month_day)\n",
    "print('Hour: ', hour)\n",
    "print('Minute: ', minute)\n",
    "print('Second: ', second)\n",
    "print('Day of Week: ', week_day)\n",
    "print('Day of Year: ', year_day)\n",
    "print('Daylight savings: ', daylight_savings)"
   ]
  },
  {
   "cell_type": "markdown",
   "metadata": {},
   "source": [
    "### `datetime.date.ctime()` method\n",
    "There's also a `ctime()` method, like in the `time` module, returning a date/time string representation. But because the `datetime.date` class doesn't deal with time, the time components returned are that of midnight:"
   ]
  },
  {
   "cell_type": "code",
   "execution_count": 17,
   "metadata": {},
   "outputs": [
    {
     "name": "stdout",
     "output_type": "stream",
     "text": [
      "Wed May  2 00:00:00 2018\n"
     ]
    }
   ],
   "source": [
    "today_ctime = today.ctime()\n",
    "print(today_ctime)"
   ]
  },
  {
   "cell_type": "markdown",
   "metadata": {},
   "source": [
    "### `datetime.date.replace()` method\n",
    "A convenient way to create new `date` instances by using an existing `date` instance as a starting point, is the `replace()` method:"
   ]
  },
  {
   "cell_type": "code",
   "execution_count": 19,
   "metadata": {},
   "outputs": [
    {
     "name": "stdout",
     "output_type": "stream",
     "text": [
      "Today:  Wed May  2 00:00:00 2018\n",
      "A month from today:  Sat Jun  2 00:00:00 2018\n",
      "A year from today:  Thu May  2 00:00:00 2019\n"
     ]
    }
   ],
   "source": [
    "today = datetime.date.today()\n",
    "print('Today: ', today.ctime())\n",
    "\n",
    "a_month_from_today = today.replace(month=6)\n",
    "print('A month from today: ', a_month_from_today.ctime())\n",
    "\n",
    "a_year_from_today = today.replace(year=2019)\n",
    "print('A year from today: ', a_year_from_today.ctime())"
   ]
  },
  {
   "cell_type": "markdown",
   "metadata": {},
   "source": [
    "# The `datetime.datetime` class\n",
    "You probably guessed it: the `datetime.datetime` class is best used when you're dealing with date/time values in which relevant values for both date and time are present."
   ]
  },
  {
   "cell_type": "markdown",
   "metadata": {},
   "source": [
    "### `datetime.datetime.now()` / `datetime.datetime.today()`\n",
    "Works the same as the `datetime.date.today()` method, but now includes a time component as well:"
   ]
  },
  {
   "cell_type": "code",
   "execution_count": 20,
   "metadata": {},
   "outputs": [
    {
     "name": "stdout",
     "output_type": "stream",
     "text": [
      "2018-05-02 21:40:46.430434\n"
     ]
    }
   ],
   "source": [
    "now = datetime.datetime.today()\n",
    "print(now)"
   ]
  },
  {
   "cell_type": "markdown",
   "metadata": {},
   "source": [
    "### `datetime.datetime.combine()`\n",
    "Another pretty handy method is `combine()`: it creates a `datetime` instance by combining one `date` instance plus 1 `time` instance, like so:"
   ]
  },
  {
   "cell_type": "code",
   "execution_count": 26,
   "metadata": {},
   "outputs": [
    {
     "name": "stdout",
     "output_type": "stream",
     "text": [
      "some_date:  2015-09-14\n",
      "some_time:  14:53:00\n",
      "combined_datetime:  2015-09-14 14:53:00\n"
     ]
    }
   ],
   "source": [
    "some_date = datetime.date(2015, 9, 14)\n",
    "some_time = datetime.time(14, 53, 0)\n",
    "combined_datetime = datetime.datetime.combine(some_date, some_time)\n",
    "\n",
    "print('some_date: ', some_date)\n",
    "print('some_time: ', some_time)\n",
    "print('combined_datetime: ', combined_datetime)"
   ]
  },
  {
   "cell_type": "markdown",
   "metadata": {},
   "source": [
    "# The `datetime.timedelta` class\n",
    "A really nice class - at least I think it's cool! - is the `datetime.timedelta` class. It's possible to execute basic arithmetic on date / datetime instances, for example calculate how many dats are in between two dates, by subtracting them:"
   ]
  },
  {
   "cell_type": "code",
   "execution_count": 30,
   "metadata": {},
   "outputs": [
    {
     "name": "stdout",
     "output_type": "stream",
     "text": [
      "2030 days, 0:00:00\n"
     ]
    }
   ],
   "source": [
    "today = datetime.date.today()\n",
    "some_day  = datetime.date(2012, 10, 10)\n",
    "\n",
    "diff_days = today - some_day\n",
    "print(diff_days)"
   ]
  },
  {
   "cell_type": "markdown",
   "metadata": {},
   "source": [
    "By subtracting two dates, you (implicitly) create a `timedelta` instance."
   ]
  },
  {
   "cell_type": "code",
   "execution_count": 31,
   "metadata": {},
   "outputs": [
    {
     "name": "stdout",
     "output_type": "stream",
     "text": [
      "<class 'datetime.timedelta'>\n"
     ]
    }
   ],
   "source": [
    "print(type(diff_days))"
   ]
  },
  {
   "cell_type": "markdown",
   "metadata": {},
   "source": [
    "And you can use a `timedelta` to do arithmetic to produce another date!\n",
    "\n",
    "You can create timedeltas, in multiple time units, yourself, like so:"
   ]
  },
  {
   "cell_type": "code",
   "execution_count": 32,
   "metadata": {},
   "outputs": [
    {
     "name": "stdout",
     "output_type": "stream",
     "text": [
      "one_week:  7 days, 0:00:00\n",
      "one_day:  1 day, 0:00:00\n",
      "one_hour:  1:00:00\n",
      "one_minute:  0:01:00\n",
      "one_second:  0:00:01\n",
      "one_millisecond:  0:00:00.001000\n",
      "one_microsecond:  0:00:00.000001\n"
     ]
    }
   ],
   "source": [
    "one_week = datetime.timedelta(weeks=1)\n",
    "one_day = datetime.timedelta(days=1)\n",
    "one_hour = datetime.timedelta(hours=1)\n",
    "one_minute = datetime.timedelta(minutes=1)\n",
    "one_second = datetime.timedelta(seconds=1)\n",
    "one_millisecond = datetime.timedelta(milliseconds=1)\n",
    "one_microsecond = datetime.timedelta(microseconds=1)\n",
    "\n",
    "print('one_week: ', one_week)\n",
    "print('one_day: ', one_day)\n",
    "print('one_hour: ', one_hour)\n",
    "print('one_minute: ', one_minute)\n",
    "print('one_second: ', one_second)\n",
    "print('one_millisecond: ', one_millisecond)\n",
    "print('one_microsecond: ', one_microsecond)"
   ]
  },
  {
   "cell_type": "markdown",
   "metadata": {},
   "source": [
    "### Performing date arithmetic using timedeltas\n",
    "Now the fun part begins, by combining date / time / datetime instances with timedeltas and regular math operators!"
   ]
  },
  {
   "cell_type": "code",
   "execution_count": 38,
   "metadata": {},
   "outputs": [
    {
     "name": "stdout",
     "output_type": "stream",
     "text": [
      "Today:  2018-05-02\n",
      "Last week:  2018-04-25\n",
      "Next week:  2018-05-09\n",
      "Days in between next and last week:  14 days, 0:00:00\n"
     ]
    }
   ],
   "source": [
    "today = datetime.date.today()\n",
    "print('Today: ', today)\n",
    "\n",
    "one_week = datetime.timedelta(weeks=1)\n",
    "\n",
    "last_week = today - one_week\n",
    "print('Last week: ', last_week)\n",
    "\n",
    "next_week = today + one_week\n",
    "print('Next week: ', next_week)\n",
    "\n",
    "print('Days in between next and last week: ', next_week - last_week)"
   ]
  },
  {
   "cell_type": "markdown",
   "metadata": {},
   "source": [
    "Because `timedelta` objects can work with floats, integers, and other `timedelta` objects, you can create interesting combinations.\n",
    "\n",
    "How about this for getting creative with `timedelta` arithmetic?"
   ]
  },
  {
   "cell_type": "code",
   "execution_count": 39,
   "metadata": {},
   "outputs": [
    {
     "name": "stdout",
     "output_type": "stream",
     "text": [
      "vp_recharge_period:  2:24:00\n",
      "powerdown_period:  91 days, 0:00:00\n",
      "num_votes_during_powerdown:  910.0\n"
     ]
    }
   ],
   "source": [
    "vp_recharge_period = datetime.timedelta(days=1) * 0.1\n",
    "powerdown_period = datetime.timedelta(weeks=13)\n",
    "num_votes_during_powerdown = powerdown_period / vp_recharge_period\n",
    "\n",
    "print('vp_recharge_period: ', vp_recharge_period)\n",
    "print('powerdown_period: ', powerdown_period)\n",
    "print('num_votes_during_powerdown: ', num_votes_during_powerdown)"
   ]
  },
  {
   "cell_type": "markdown",
   "metadata": {},
   "source": [
    "# `datetime` object string formatting & parsing\n",
    "In the previous tutorial, regarding the `time` module, we've in-depth covered the usage of `time.strftime()` (for string formatting) and `time.strptime()` (for date/time string parsing). The same type of methods are also available on the `datetime` class.\n",
    "\n",
    "For those that haven't read the previous tutorial regarding `time.strftime()` and `time.strptime()`, I'll briefly demonstrate how to use the same methods in a `date.strftime()` and `date.strptime()` context.\n",
    "\n",
    "We define a date/time format string, create a datetime object (`now`) and convert between the two, proving the same `now` is used for variables `s` (string) and `p` (parsed)."
   ]
  },
  {
   "cell_type": "code",
   "execution_count": 43,
   "metadata": {},
   "outputs": [
    {
     "name": "stdout",
     "output_type": "stream",
     "text": [
      "strftime: Wednesday, 02 May 2018 (23:32:58)\n",
      "strptime: 2018-05-02 23:32:58\n"
     ]
    }
   ],
   "source": [
    "format_string = \"%A, %d %b %Y (%H:%M:%S)\"\n",
    "now = datetime.datetime.today()\n",
    "s = now.strftime(format_string)\n",
    "p = datetime.datetime.strptime(s, format_string)\n",
    "print('strftime:', s)\n",
    "print('strptime:', p)"
   ]
  },
  {
   "cell_type": "markdown",
   "metadata": {},
   "source": [
    "**Nota bene:** Since we've also covered the `datetime.date.timetuple()` method, I'm sure you'll be able to conveniently make use of the most handy methods available on both the `time` and `datetime` classes, while at the same time being able to convert between the two."
   ]
  },
  {
   "cell_type": "markdown",
   "metadata": {},
   "source": [
    "# PS: A word or two about the `datetime.tzinfo` class\n",
    "The `datetime` module is able to work with time zones as well, but as subclasses of the `datetime.tzinfo` class, which is abstract, and therefore you need to provide your own implementations to make the methods work. It can be ... \"tricky\", to say the least. You could also say that working with timezones via the `datetime` module is oftentimes considered \"a nightmare\" by many Pythonistas.\n",
    "\n",
    "But no worries! The next `Learn Python Series` episode is about the external date/time package `Maya`, which makes your life a whole lot easier, including handling timezones."
   ]
  },
  {
   "cell_type": "markdown",
   "metadata": {},
   "source": [
    "# What did we learn, hopefully?\n",
    "\n",
    "In this episode, we went over the \"ins-and-outs\" of the `datetime` module and its classes and methods. Some of the methods are pretty straightforward (such as `combine()` and `replace()`) yet powerful to use. The most \"fun\" part - at least I think so - about the `datetime` module, is the `datetime.timedelta` class. Because it allows you to do date/time arithmetic using floats, integers and other timedeltas, you can get pretty creative with it in just a few lines of code!\n",
    "\n",
    "**Nota bene:** One of the **core take-aways** I wanted to address here, by first going over in-depth regarding the `time` module, and then doing the same for the `datetime` module, is that although they overlap to a certain extent - which became clear, hopefully, by me discussing al those methods - is that both modules have their specific strengths. And, because of the `timetuple()` method and the `strftime()` & `strptime()` methods, forming a \"conversion bridge\" between the `time` module and the `datetime` module, you can freely choose to combine whatever you want!\n",
    "\n",
    "In the next tutorial episode (Handling Dates and Time Part 3) I'll explain how to use the external date/time library `Maya`, and in the 4th episode, I'm planning to show you how to code a few flexible / complex date/time conversion functions, combining all the methods and mechanisms we learned about in parts 1-3!\n",
    "\n",
    "### Thank you for your time!"
   ]
  },
  {
   "cell_type": "code",
   "execution_count": null,
   "metadata": {},
   "outputs": [],
   "source": []
  }
 ],
 "metadata": {
  "kernelspec": {
   "display_name": "Python 3",
   "language": "python",
   "name": "python3"
  },
  "language_info": {
   "codemirror_mode": {
    "name": "ipython",
    "version": 3
   },
   "file_extension": ".py",
   "mimetype": "text/x-python",
   "name": "python",
   "nbconvert_exporter": "python",
   "pygments_lexer": "ipython3",
   "version": "3.6.4"
  }
 },
 "nbformat": 4,
 "nbformat_minor": 2
}
