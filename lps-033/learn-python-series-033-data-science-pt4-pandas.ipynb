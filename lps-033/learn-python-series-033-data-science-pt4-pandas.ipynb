{
 "cells": [
  {
   "cell_type": "markdown",
   "metadata": {},
   "source": [
    "# Learn Python Series (#33) - Data Science Part 4 - Pandas"
   ]
  },
  {
   "cell_type": "markdown",
   "metadata": {},
   "source": [
    "### Repository\n",
    "- https://github.com/pandas-dev/pandas\n",
    "- https://github.com/python/cpython\n",
    "\n",
    "### What will I learn?\n",
    "- You will learn that `pandas` provides you with powerful tools you can use to filter data with;\n",
    "- individual and multiple conditions can be combined;\n",
    "- inline conditions can be used;\n",
    "- Boolean variables can be defined, useful for readability and re-use;\n",
    "- \"auto-magical\" conditional expression strings can be passed as arguments to the `.query()` method, but beware for potential security vulnerabilities in case you're accepting external (user / bot) input!\n",
    "\n",
    "### Requirements\n",
    "- A working modern computer running macOS, Windows or Ubuntu;\n",
    "- An installed Python 3(.7) distribution, such as (for example) the Anaconda Distribution;\n",
    "- The ambition to learn Python programming.\n",
    "\n",
    "### Difficulty\n",
    "- Beginner, intermediate"
   ]
  },
  {
   "cell_type": "markdown",
   "metadata": {},
   "source": [
    "### Additional sample code files\n",
    "The full - and working! - iPython tutorial sample code file is included for you to download and run for yourself right here:\n",
    "\n",
    "\n",
    "The example CSV file that was used in the episodes #31 and #32 is copied to the lps-033 folder as well:\n",
    "\n",
    "https://github.com/realScipio/learn-python-series/blob/master/lps-033/btcusdt_20190602_20190604_1min_hloc.csv\n",
    "\n",
    "### GitHub Account\n",
    "https://github.com/realScipio"
   ]
  },
  {
   "cell_type": "markdown",
   "metadata": {},
   "source": [
    "# Learn Python Series (#33) - Data Science Part 4 - Pandas"
   ]
  },
  {
   "cell_type": "markdown",
   "metadata": {},
   "source": [
    "### Re-loading the actual BTCUSDT financial data using `pandas`\n",
    "First, let's again read and open the file `btcusdt_20190602_20190604_1min_hloc.csv` [found here](https://github.com/realScipio/learn-python-series/blob/master/lps-033/btcusdt_20190602_20190604_1min_hloc.csv) on my GitHub account, (after having saved the file to your current working directory, from which you're also opening it using `.read_csv()`):"
   ]
  },
  {
   "cell_type": "code",
   "execution_count": 2,
   "metadata": {},
   "outputs": [
    {
     "data": {
      "text/html": [
       "<div>\n",
       "<style scoped>\n",
       "    .dataframe tbody tr th:only-of-type {\n",
       "        vertical-align: middle;\n",
       "    }\n",
       "\n",
       "    .dataframe tbody tr th {\n",
       "        vertical-align: top;\n",
       "    }\n",
       "\n",
       "    .dataframe thead th {\n",
       "        text-align: right;\n",
       "    }\n",
       "</style>\n",
       "<table border=\"1\" class=\"dataframe\">\n",
       "  <thead>\n",
       "    <tr style=\"text-align: right;\">\n",
       "      <th></th>\n",
       "      <th>open</th>\n",
       "      <th>high</th>\n",
       "      <th>low</th>\n",
       "      <th>close</th>\n",
       "      <th>volume</th>\n",
       "    </tr>\n",
       "    <tr>\n",
       "      <th>datetime</th>\n",
       "      <th></th>\n",
       "      <th></th>\n",
       "      <th></th>\n",
       "      <th></th>\n",
       "      <th></th>\n",
       "    </tr>\n",
       "  </thead>\n",
       "  <tbody>\n",
       "    <tr>\n",
       "      <th>2019-06-02 00:00:00+00:00</th>\n",
       "      <td>8545.10</td>\n",
       "      <td>8548.55</td>\n",
       "      <td>8535.98</td>\n",
       "      <td>8537.67</td>\n",
       "      <td>17.349543</td>\n",
       "    </tr>\n",
       "    <tr>\n",
       "      <th>2019-06-02 00:01:00+00:00</th>\n",
       "      <td>8537.53</td>\n",
       "      <td>8543.49</td>\n",
       "      <td>8524.00</td>\n",
       "      <td>8534.66</td>\n",
       "      <td>31.599922</td>\n",
       "    </tr>\n",
       "    <tr>\n",
       "      <th>2019-06-02 00:02:00+00:00</th>\n",
       "      <td>8533.64</td>\n",
       "      <td>8540.13</td>\n",
       "      <td>8529.98</td>\n",
       "      <td>8534.97</td>\n",
       "      <td>7.011458</td>\n",
       "    </tr>\n",
       "    <tr>\n",
       "      <th>2019-06-02 00:03:00+00:00</th>\n",
       "      <td>8534.97</td>\n",
       "      <td>8551.76</td>\n",
       "      <td>8534.00</td>\n",
       "      <td>8551.76</td>\n",
       "      <td>5.992965</td>\n",
       "    </tr>\n",
       "    <tr>\n",
       "      <th>2019-06-02 00:04:00+00:00</th>\n",
       "      <td>8551.76</td>\n",
       "      <td>8554.76</td>\n",
       "      <td>8544.62</td>\n",
       "      <td>8549.30</td>\n",
       "      <td>15.771411</td>\n",
       "    </tr>\n",
       "  </tbody>\n",
       "</table>\n",
       "</div>"
      ],
      "text/plain": [
       "                              open     high      low    close     volume\n",
       "datetime                                                                \n",
       "2019-06-02 00:00:00+00:00  8545.10  8548.55  8535.98  8537.67  17.349543\n",
       "2019-06-02 00:01:00+00:00  8537.53  8543.49  8524.00  8534.66  31.599922\n",
       "2019-06-02 00:02:00+00:00  8533.64  8540.13  8529.98  8534.97   7.011458\n",
       "2019-06-02 00:03:00+00:00  8534.97  8551.76  8534.00  8551.76   5.992965\n",
       "2019-06-02 00:04:00+00:00  8551.76  8554.76  8544.62  8549.30  15.771411"
      ]
     },
     "execution_count": 2,
     "metadata": {},
     "output_type": "execute_result"
    }
   ],
   "source": [
    "import pandas as pd\n",
    "df = pd.read_csv('btcusdt_20190602_20190604_1min_hloc.csv', \n",
    "                 parse_dates=['datetime'], index_col='datetime')\n",
    "df.head()"
   ]
  },
  {
   "cell_type": "markdown",
   "metadata": {},
   "source": [
    "# Executing `pandas` conditional filters\n",
    "If you've been following along about `pandas` in this Data Science sub-series, hopefully by now you've realised that `pandas` provides you with quite some powerful built-in methods to analyse, enrich, clean-up, and (re-)model data sets with. Like Excel / OpenOffice spreadsheets and like database management systems, `pandas` is able to \"filter\" data.\n",
    "\n",
    "There exist multiple techniques to execute conditional filters."
   ]
  },
  {
   "cell_type": "markdown",
   "metadata": {},
   "source": [
    "### Inline conditionals\n",
    "Using the same CSV file, containing 4320 1-minute ticks, fetched from Binance, on their BTCUSDT trading pair, on dates June 2, 2019 to June 4, 2019, you've already analysed (via the `df.describe()` statistical overview method) that the price of Bitcoin in the given interval was trading between 7481.02 and 8814.78."
   ]
  },
  {
   "cell_type": "code",
   "execution_count": 25,
   "metadata": {},
   "outputs": [
    {
     "data": {
      "text/html": [
       "<div>\n",
       "<style scoped>\n",
       "    .dataframe tbody tr th:only-of-type {\n",
       "        vertical-align: middle;\n",
       "    }\n",
       "\n",
       "    .dataframe tbody tr th {\n",
       "        vertical-align: top;\n",
       "    }\n",
       "\n",
       "    .dataframe thead th {\n",
       "        text-align: right;\n",
       "    }\n",
       "</style>\n",
       "<table border=\"1\" class=\"dataframe\">\n",
       "  <thead>\n",
       "    <tr style=\"text-align: right;\">\n",
       "      <th></th>\n",
       "      <th>open</th>\n",
       "      <th>high</th>\n",
       "      <th>low</th>\n",
       "      <th>close</th>\n",
       "      <th>volume</th>\n",
       "    </tr>\n",
       "  </thead>\n",
       "  <tbody>\n",
       "    <tr>\n",
       "      <th>count</th>\n",
       "      <td>4320.000000</td>\n",
       "      <td>4320.000000</td>\n",
       "      <td>4320.000000</td>\n",
       "      <td>4320.000000</td>\n",
       "      <td>4320.000000</td>\n",
       "    </tr>\n",
       "    <tr>\n",
       "      <th>mean</th>\n",
       "      <td>8354.033475</td>\n",
       "      <td>8359.921905</td>\n",
       "      <td>8347.543243</td>\n",
       "      <td>8353.818926</td>\n",
       "      <td>34.183344</td>\n",
       "    </tr>\n",
       "    <tr>\n",
       "      <th>std</th>\n",
       "      <td>358.395024</td>\n",
       "      <td>357.338897</td>\n",
       "      <td>359.911089</td>\n",
       "      <td>358.538551</td>\n",
       "      <td>54.520356</td>\n",
       "    </tr>\n",
       "    <tr>\n",
       "      <th>min</th>\n",
       "      <td>7490.200000</td>\n",
       "      <td>7533.430000</td>\n",
       "      <td>7481.020000</td>\n",
       "      <td>7494.110000</td>\n",
       "      <td>1.351415</td>\n",
       "    </tr>\n",
       "    <tr>\n",
       "      <th>25%</th>\n",
       "      <td>7985.045000</td>\n",
       "      <td>7990.270000</td>\n",
       "      <td>7979.205000</td>\n",
       "      <td>7984.997500</td>\n",
       "      <td>11.114809</td>\n",
       "    </tr>\n",
       "    <tr>\n",
       "      <th>50%</th>\n",
       "      <td>8519.605000</td>\n",
       "      <td>8524.985000</td>\n",
       "      <td>8513.490000</td>\n",
       "      <td>8518.845000</td>\n",
       "      <td>19.566122</td>\n",
       "    </tr>\n",
       "    <tr>\n",
       "      <th>75%</th>\n",
       "      <td>8661.080000</td>\n",
       "      <td>8666.992500</td>\n",
       "      <td>8656.007500</td>\n",
       "      <td>8661.200000</td>\n",
       "      <td>35.273851</td>\n",
       "    </tr>\n",
       "    <tr>\n",
       "      <th>max</th>\n",
       "      <td>8808.820000</td>\n",
       "      <td>8814.780000</td>\n",
       "      <td>8805.850000</td>\n",
       "      <td>8809.910000</td>\n",
       "      <td>949.563225</td>\n",
       "    </tr>\n",
       "  </tbody>\n",
       "</table>\n",
       "</div>"
      ],
      "text/plain": [
       "              open         high          low        close       volume\n",
       "count  4320.000000  4320.000000  4320.000000  4320.000000  4320.000000\n",
       "mean   8354.033475  8359.921905  8347.543243  8353.818926    34.183344\n",
       "std     358.395024   357.338897   359.911089   358.538551    54.520356\n",
       "min    7490.200000  7533.430000  7481.020000  7494.110000     1.351415\n",
       "25%    7985.045000  7990.270000  7979.205000  7984.997500    11.114809\n",
       "50%    8519.605000  8524.985000  8513.490000  8518.845000    19.566122\n",
       "75%    8661.080000  8666.992500  8656.007500  8661.200000    35.273851\n",
       "max    8808.820000  8814.780000  8805.850000  8809.910000   949.563225"
      ]
     },
     "execution_count": 25,
     "metadata": {},
     "output_type": "execute_result"
    }
   ],
   "source": [
    "df.describe()"
   ]
  },
  {
   "cell_type": "markdown",
   "metadata": {},
   "source": [
    "In order to derive how many 1-minute candles the data set contains in which the opening price (the price data in the \"open\" column) was higher than 8800, the condition itself is - of course:\n",
    "\n",
    "`df['open'] > 8800`\n",
    "\n",
    "To use this condition **inline**, pass that exact condition as a squared bracket \"slicing argument\" to the DataFrame `df`, like so:"
   ]
  },
  {
   "cell_type": "code",
   "execution_count": 26,
   "metadata": {},
   "outputs": [
    {
     "data": {
      "text/html": [
       "<div>\n",
       "<style scoped>\n",
       "    .dataframe tbody tr th:only-of-type {\n",
       "        vertical-align: middle;\n",
       "    }\n",
       "\n",
       "    .dataframe tbody tr th {\n",
       "        vertical-align: top;\n",
       "    }\n",
       "\n",
       "    .dataframe thead th {\n",
       "        text-align: right;\n",
       "    }\n",
       "</style>\n",
       "<table border=\"1\" class=\"dataframe\">\n",
       "  <thead>\n",
       "    <tr style=\"text-align: right;\">\n",
       "      <th></th>\n",
       "      <th>open</th>\n",
       "      <th>high</th>\n",
       "      <th>low</th>\n",
       "      <th>close</th>\n",
       "      <th>volume</th>\n",
       "    </tr>\n",
       "    <tr>\n",
       "      <th>datetime</th>\n",
       "      <th></th>\n",
       "      <th></th>\n",
       "      <th></th>\n",
       "      <th></th>\n",
       "      <th></th>\n",
       "    </tr>\n",
       "  </thead>\n",
       "  <tbody>\n",
       "    <tr>\n",
       "      <th>2019-06-02 12:04:00+00:00</th>\n",
       "      <td>8801.84</td>\n",
       "      <td>8804.14</td>\n",
       "      <td>8774.17</td>\n",
       "      <td>8784.35</td>\n",
       "      <td>98.534386</td>\n",
       "    </tr>\n",
       "    <tr>\n",
       "      <th>2019-06-02 12:45:00+00:00</th>\n",
       "      <td>8804.44</td>\n",
       "      <td>8805.51</td>\n",
       "      <td>8799.00</td>\n",
       "      <td>8799.00</td>\n",
       "      <td>45.084453</td>\n",
       "    </tr>\n",
       "    <tr>\n",
       "      <th>2019-06-02 12:47:00+00:00</th>\n",
       "      <td>8807.61</td>\n",
       "      <td>8814.78</td>\n",
       "      <td>8805.85</td>\n",
       "      <td>8808.72</td>\n",
       "      <td>33.917674</td>\n",
       "    </tr>\n",
       "    <tr>\n",
       "      <th>2019-06-02 12:48:00+00:00</th>\n",
       "      <td>8808.82</td>\n",
       "      <td>8811.78</td>\n",
       "      <td>8797.34</td>\n",
       "      <td>8797.35</td>\n",
       "      <td>68.527716</td>\n",
       "    </tr>\n",
       "  </tbody>\n",
       "</table>\n",
       "</div>"
      ],
      "text/plain": [
       "                              open     high      low    close     volume\n",
       "datetime                                                                \n",
       "2019-06-02 12:04:00+00:00  8801.84  8804.14  8774.17  8784.35  98.534386\n",
       "2019-06-02 12:45:00+00:00  8804.44  8805.51  8799.00  8799.00  45.084453\n",
       "2019-06-02 12:47:00+00:00  8807.61  8814.78  8805.85  8808.72  33.917674\n",
       "2019-06-02 12:48:00+00:00  8808.82  8811.78  8797.34  8797.35  68.527716"
      ]
     },
     "execution_count": 26,
     "metadata": {},
     "output_type": "execute_result"
    }
   ],
   "source": [
    "df_over_8000 = df[df['open'] > 8800]\n",
    "df_over_8000"
   ]
  },
  {
   "cell_type": "markdown",
   "metadata": {},
   "source": [
    "I hadn't explicitly explained using the `.count()` method before, for example in the \"basic `pandas` statistic operations\"-section in the 2nd Data Science sub-series episode ([found here](https://steemit.com/utopian-io/@scipio/learn-python-series-31-data-science-part-2-pandas)), but using the `.describe()` stats overview method, which was explained before, it was mentioned and used already. \n",
    "\n",
    "Regardless, if you want to count (to use for further processing or simply to return its value) the number of instances on which the condition is `True`, simply chain the `.count()` method, like so:"
   ]
  },
  {
   "cell_type": "code",
   "execution_count": 10,
   "metadata": {},
   "outputs": [
    {
     "data": {
      "text/plain": [
       "4"
      ]
     },
     "execution_count": 10,
     "metadata": {},
     "output_type": "execute_result"
    }
   ],
   "source": [
    "df[df['open'] > 8800]['open'].count()"
   ]
  },
  {
   "cell_type": "markdown",
   "metadata": {},
   "source": [
    "And indeed, the `df_over_8000` result table printed 4 (in total) 1-minute data ticks correctly, containing opening prices higher than 8800."
   ]
  },
  {
   "cell_type": "markdown",
   "metadata": {},
   "source": [
    "### Filtering using multiple inline conditions\n",
    "In order to filter (= keep) using two or more conditions, use multiple conditions as \"filtering slice\" via the `&` (and) and `|` (or) bitwise operators.\n",
    "\n",
    "Say, for example, you want to filter all 1-minute ticks where opening price was above 8800 **and** trading volume was above 50 Bitcoins, execute:"
   ]
  },
  {
   "cell_type": "code",
   "execution_count": 14,
   "metadata": {},
   "outputs": [
    {
     "data": {
      "text/html": [
       "<div>\n",
       "<style scoped>\n",
       "    .dataframe tbody tr th:only-of-type {\n",
       "        vertical-align: middle;\n",
       "    }\n",
       "\n",
       "    .dataframe tbody tr th {\n",
       "        vertical-align: top;\n",
       "    }\n",
       "\n",
       "    .dataframe thead th {\n",
       "        text-align: right;\n",
       "    }\n",
       "</style>\n",
       "<table border=\"1\" class=\"dataframe\">\n",
       "  <thead>\n",
       "    <tr style=\"text-align: right;\">\n",
       "      <th></th>\n",
       "      <th>open</th>\n",
       "      <th>high</th>\n",
       "      <th>low</th>\n",
       "      <th>close</th>\n",
       "      <th>volume</th>\n",
       "    </tr>\n",
       "    <tr>\n",
       "      <th>datetime</th>\n",
       "      <th></th>\n",
       "      <th></th>\n",
       "      <th></th>\n",
       "      <th></th>\n",
       "      <th></th>\n",
       "    </tr>\n",
       "  </thead>\n",
       "  <tbody>\n",
       "    <tr>\n",
       "      <th>2019-06-02 12:04:00+00:00</th>\n",
       "      <td>8801.84</td>\n",
       "      <td>8804.14</td>\n",
       "      <td>8774.17</td>\n",
       "      <td>8784.35</td>\n",
       "      <td>98.534386</td>\n",
       "    </tr>\n",
       "    <tr>\n",
       "      <th>2019-06-02 12:48:00+00:00</th>\n",
       "      <td>8808.82</td>\n",
       "      <td>8811.78</td>\n",
       "      <td>8797.34</td>\n",
       "      <td>8797.35</td>\n",
       "      <td>68.527716</td>\n",
       "    </tr>\n",
       "  </tbody>\n",
       "</table>\n",
       "</div>"
      ],
      "text/plain": [
       "                              open     high      low    close     volume\n",
       "datetime                                                                \n",
       "2019-06-02 12:04:00+00:00  8801.84  8804.14  8774.17  8784.35  98.534386\n",
       "2019-06-02 12:48:00+00:00  8808.82  8811.78  8797.34  8797.35  68.527716"
      ]
     },
     "execution_count": 14,
     "metadata": {},
     "output_type": "execute_result"
    }
   ],
   "source": [
    "df_over_8000_high_volume = df[ (df['open'] > 8800) & (df['volume'] > 50) ]\n",
    "df_over_8000_high_volume"
   ]
  },
  {
   "cell_type": "markdown",
   "metadata": {},
   "source": [
    "By \"eye-balling\" the first (single-condition) example output, you can see the results are correct.\n",
    "\n",
    "If we would replace `&` for `|`, we're filtering something completely different, being:\n",
    "\n",
    "- let's keep all rows in which either opening price is above 8800,\n",
    "or\n",
    "- volume is above 50:"
   ]
  },
  {
   "cell_type": "code",
   "execution_count": 16,
   "metadata": {},
   "outputs": [
    {
     "data": {
      "text/html": [
       "<div>\n",
       "<style scoped>\n",
       "    .dataframe tbody tr th:only-of-type {\n",
       "        vertical-align: middle;\n",
       "    }\n",
       "\n",
       "    .dataframe tbody tr th {\n",
       "        vertical-align: top;\n",
       "    }\n",
       "\n",
       "    .dataframe thead th {\n",
       "        text-align: right;\n",
       "    }\n",
       "</style>\n",
       "<table border=\"1\" class=\"dataframe\">\n",
       "  <thead>\n",
       "    <tr style=\"text-align: right;\">\n",
       "      <th></th>\n",
       "      <th>open</th>\n",
       "      <th>high</th>\n",
       "      <th>low</th>\n",
       "      <th>close</th>\n",
       "      <th>volume</th>\n",
       "    </tr>\n",
       "    <tr>\n",
       "      <th>datetime</th>\n",
       "      <th></th>\n",
       "      <th></th>\n",
       "      <th></th>\n",
       "      <th></th>\n",
       "      <th></th>\n",
       "    </tr>\n",
       "  </thead>\n",
       "  <tbody>\n",
       "    <tr>\n",
       "      <th>2019-06-02 01:22:00+00:00</th>\n",
       "      <td>8586.33</td>\n",
       "      <td>8595.12</td>\n",
       "      <td>8583.23</td>\n",
       "      <td>8594.99</td>\n",
       "      <td>51.051786</td>\n",
       "    </tr>\n",
       "    <tr>\n",
       "      <th>2019-06-02 03:02:00+00:00</th>\n",
       "      <td>8535.29</td>\n",
       "      <td>8550.20</td>\n",
       "      <td>8529.55</td>\n",
       "      <td>8545.56</td>\n",
       "      <td>56.543773</td>\n",
       "    </tr>\n",
       "    <tr>\n",
       "      <th>2019-06-02 07:33:00+00:00</th>\n",
       "      <td>8588.05</td>\n",
       "      <td>8599.85</td>\n",
       "      <td>8586.00</td>\n",
       "      <td>8599.36</td>\n",
       "      <td>61.909827</td>\n",
       "    </tr>\n",
       "    <tr>\n",
       "      <th>2019-06-02 07:34:00+00:00</th>\n",
       "      <td>8599.56</td>\n",
       "      <td>8615.00</td>\n",
       "      <td>8598.09</td>\n",
       "      <td>8614.65</td>\n",
       "      <td>197.822432</td>\n",
       "    </tr>\n",
       "    <tr>\n",
       "      <th>2019-06-02 07:35:00+00:00</th>\n",
       "      <td>8611.87</td>\n",
       "      <td>8652.75</td>\n",
       "      <td>8611.05</td>\n",
       "      <td>8648.88</td>\n",
       "      <td>292.018398</td>\n",
       "    </tr>\n",
       "    <tr>\n",
       "      <th>2019-06-02 07:36:00+00:00</th>\n",
       "      <td>8648.90</td>\n",
       "      <td>8680.00</td>\n",
       "      <td>8648.87</td>\n",
       "      <td>8670.11</td>\n",
       "      <td>239.552508</td>\n",
       "    </tr>\n",
       "    <tr>\n",
       "      <th>2019-06-02 07:37:00+00:00</th>\n",
       "      <td>8673.25</td>\n",
       "      <td>8673.25</td>\n",
       "      <td>8653.92</td>\n",
       "      <td>8661.19</td>\n",
       "      <td>96.012789</td>\n",
       "    </tr>\n",
       "    <tr>\n",
       "      <th>2019-06-02 07:38:00+00:00</th>\n",
       "      <td>8661.68</td>\n",
       "      <td>8676.26</td>\n",
       "      <td>8661.68</td>\n",
       "      <td>8674.99</td>\n",
       "      <td>54.226364</td>\n",
       "    </tr>\n",
       "    <tr>\n",
       "      <th>2019-06-02 07:39:00+00:00</th>\n",
       "      <td>8674.99</td>\n",
       "      <td>8720.00</td>\n",
       "      <td>8671.88</td>\n",
       "      <td>8715.01</td>\n",
       "      <td>188.849318</td>\n",
       "    </tr>\n",
       "    <tr>\n",
       "      <th>2019-06-02 07:40:00+00:00</th>\n",
       "      <td>8710.01</td>\n",
       "      <td>8714.87</td>\n",
       "      <td>8685.24</td>\n",
       "      <td>8703.31</td>\n",
       "      <td>118.652782</td>\n",
       "    </tr>\n",
       "  </tbody>\n",
       "</table>\n",
       "</div>"
      ],
      "text/plain": [
       "                              open     high      low    close      volume\n",
       "datetime                                                                 \n",
       "2019-06-02 01:22:00+00:00  8586.33  8595.12  8583.23  8594.99   51.051786\n",
       "2019-06-02 03:02:00+00:00  8535.29  8550.20  8529.55  8545.56   56.543773\n",
       "2019-06-02 07:33:00+00:00  8588.05  8599.85  8586.00  8599.36   61.909827\n",
       "2019-06-02 07:34:00+00:00  8599.56  8615.00  8598.09  8614.65  197.822432\n",
       "2019-06-02 07:35:00+00:00  8611.87  8652.75  8611.05  8648.88  292.018398\n",
       "2019-06-02 07:36:00+00:00  8648.90  8680.00  8648.87  8670.11  239.552508\n",
       "2019-06-02 07:37:00+00:00  8673.25  8673.25  8653.92  8661.19   96.012789\n",
       "2019-06-02 07:38:00+00:00  8661.68  8676.26  8661.68  8674.99   54.226364\n",
       "2019-06-02 07:39:00+00:00  8674.99  8720.00  8671.88  8715.01  188.849318\n",
       "2019-06-02 07:40:00+00:00  8710.01  8714.87  8685.24  8703.31  118.652782"
      ]
     },
     "execution_count": 16,
     "metadata": {},
     "output_type": "execute_result"
    }
   ],
   "source": [
    "df_over_8000_OR_high_volume = df[ (df['open'] > 8800) | (df['volume'] > 50) ]\n",
    "df_over_8000_OR_high_volume.head(10)"
   ]
  },
  {
   "cell_type": "code",
   "execution_count": 17,
   "metadata": {},
   "outputs": [
    {
     "data": {
      "text/plain": [
       "671"
      ]
     },
     "execution_count": 17,
     "metadata": {},
     "output_type": "execute_result"
    }
   ],
   "source": [
    "df_over_8000_OR_high_volume['open'].count()"
   ]
  },
  {
   "cell_type": "markdown",
   "metadata": {},
   "source": [
    "Remembering that `df_over_8000_high_volume` returned only 2 rows in which both conditions were met, if we substract those 2 from the individual conditionals combined, indeed we get 671 as a result:"
   ]
  },
  {
   "cell_type": "code",
   "execution_count": 30,
   "metadata": {},
   "outputs": [
    {
     "name": "stdout",
     "output_type": "stream",
     "text": [
      "price_over_8800: 4\n",
      "volume_over_50: 669\n",
      "num_df_over_8000_high_volume: 2\n"
     ]
    }
   ],
   "source": [
    "price_over_8800 = df[(df['open'] > 8800)]['open'].count()\n",
    "volume_over_50 = df[df['volume'] > 50]['open'].count()\n",
    "num_df_over_8000_high_volume = df_over_8000_high_volume['open'].count()\n",
    "\n",
    "print(f\"price_over_8800: {price_over_8800}\")\n",
    "print(f\"volume_over_50: {volume_over_50}\")\n",
    "print(f\"num_df_over_8000_high_volume: {num_df_over_8000_high_volume}\")"
   ]
  },
  {
   "cell_type": "markdown",
   "metadata": {},
   "source": [
    "- In 4 instances, price was over 8800; \n",
    "- In 669 instances, volume was over 50;\n",
    "- In 2 instances, price was over 8800 and volume over 50\n",
    "\n",
    "Ergo: (669 + 4) - 2 = 671"
   ]
  },
  {
   "cell_type": "markdown",
   "metadata": {},
   "source": [
    "### Filtering passing Boolean variables\n",
    "As you may have noticed, filtering by multipal inline conditions very quickly leads to long lines of code. For readability matters, it's also possible to assign Boolean variables, and pass those instead. The following syntax (same example) also works:"
   ]
  },
  {
   "cell_type": "code",
   "execution_count": 22,
   "metadata": {},
   "outputs": [
    {
     "data": {
      "text/html": [
       "<div>\n",
       "<style scoped>\n",
       "    .dataframe tbody tr th:only-of-type {\n",
       "        vertical-align: middle;\n",
       "    }\n",
       "\n",
       "    .dataframe tbody tr th {\n",
       "        vertical-align: top;\n",
       "    }\n",
       "\n",
       "    .dataframe thead th {\n",
       "        text-align: right;\n",
       "    }\n",
       "</style>\n",
       "<table border=\"1\" class=\"dataframe\">\n",
       "  <thead>\n",
       "    <tr style=\"text-align: right;\">\n",
       "      <th></th>\n",
       "      <th>open</th>\n",
       "      <th>high</th>\n",
       "      <th>low</th>\n",
       "      <th>close</th>\n",
       "      <th>volume</th>\n",
       "    </tr>\n",
       "    <tr>\n",
       "      <th>datetime</th>\n",
       "      <th></th>\n",
       "      <th></th>\n",
       "      <th></th>\n",
       "      <th></th>\n",
       "      <th></th>\n",
       "    </tr>\n",
       "  </thead>\n",
       "  <tbody>\n",
       "    <tr>\n",
       "      <th>2019-06-02 12:04:00+00:00</th>\n",
       "      <td>8801.84</td>\n",
       "      <td>8804.14</td>\n",
       "      <td>8774.17</td>\n",
       "      <td>8784.35</td>\n",
       "      <td>98.534386</td>\n",
       "    </tr>\n",
       "    <tr>\n",
       "      <th>2019-06-02 12:48:00+00:00</th>\n",
       "      <td>8808.82</td>\n",
       "      <td>8811.78</td>\n",
       "      <td>8797.34</td>\n",
       "      <td>8797.35</td>\n",
       "      <td>68.527716</td>\n",
       "    </tr>\n",
       "  </tbody>\n",
       "</table>\n",
       "</div>"
      ],
      "text/plain": [
       "                              open     high      low    close     volume\n",
       "datetime                                                                \n",
       "2019-06-02 12:04:00+00:00  8801.84  8804.14  8774.17  8784.35  98.534386\n",
       "2019-06-02 12:48:00+00:00  8808.82  8811.78  8797.34  8797.35  68.527716"
      ]
     },
     "execution_count": 22,
     "metadata": {},
     "output_type": "execute_result"
    }
   ],
   "source": [
    "price_over_8800 = df['open'] > 8800\n",
    "volume_over_50 = df['volume'] > 50\n",
    "df_over_8000_high_volume = df[price_over_8800 & volume_over_50]\n",
    "df_over_8000_high_volume"
   ]
  },
  {
   "cell_type": "markdown",
   "metadata": {},
   "source": [
    "--- this looks much better!"
   ]
  },
  {
   "cell_type": "markdown",
   "metadata": {},
   "source": [
    "### Filtering using the `.query()` method\n",
    "A third way to filter DataFrame data, is by using the `.query()` method. `.query()` expects to receive a string as its `expr=` argument, using **Boolean** (instead of bitwise) operators, ergo: `and` / `or`.\n",
    "\n",
    "Also, the column names are referenced inside the conditional expression string. Like so (again: same example):"
   ]
  },
  {
   "cell_type": "code",
   "execution_count": 33,
   "metadata": {},
   "outputs": [
    {
     "data": {
      "text/html": [
       "<div>\n",
       "<style scoped>\n",
       "    .dataframe tbody tr th:only-of-type {\n",
       "        vertical-align: middle;\n",
       "    }\n",
       "\n",
       "    .dataframe tbody tr th {\n",
       "        vertical-align: top;\n",
       "    }\n",
       "\n",
       "    .dataframe thead th {\n",
       "        text-align: right;\n",
       "    }\n",
       "</style>\n",
       "<table border=\"1\" class=\"dataframe\">\n",
       "  <thead>\n",
       "    <tr style=\"text-align: right;\">\n",
       "      <th></th>\n",
       "      <th>open</th>\n",
       "      <th>high</th>\n",
       "      <th>low</th>\n",
       "      <th>close</th>\n",
       "      <th>volume</th>\n",
       "    </tr>\n",
       "    <tr>\n",
       "      <th>datetime</th>\n",
       "      <th></th>\n",
       "      <th></th>\n",
       "      <th></th>\n",
       "      <th></th>\n",
       "      <th></th>\n",
       "    </tr>\n",
       "  </thead>\n",
       "  <tbody>\n",
       "    <tr>\n",
       "      <th>2019-06-02 12:04:00+00:00</th>\n",
       "      <td>8801.84</td>\n",
       "      <td>8804.14</td>\n",
       "      <td>8774.17</td>\n",
       "      <td>8784.35</td>\n",
       "      <td>98.534386</td>\n",
       "    </tr>\n",
       "    <tr>\n",
       "      <th>2019-06-02 12:48:00+00:00</th>\n",
       "      <td>8808.82</td>\n",
       "      <td>8811.78</td>\n",
       "      <td>8797.34</td>\n",
       "      <td>8797.35</td>\n",
       "      <td>68.527716</td>\n",
       "    </tr>\n",
       "  </tbody>\n",
       "</table>\n",
       "</div>"
      ],
      "text/plain": [
       "                              open     high      low    close     volume\n",
       "datetime                                                                \n",
       "2019-06-02 12:04:00+00:00  8801.84  8804.14  8774.17  8784.35  98.534386\n",
       "2019-06-02 12:48:00+00:00  8808.82  8811.78  8797.34  8797.35  68.527716"
      ]
     },
     "execution_count": 33,
     "metadata": {},
     "output_type": "execute_result"
    }
   ],
   "source": [
    "query_expression = 'open > 8800 and volume > 50'\n",
    "df.query(query_expression)"
   ]
  },
  {
   "cell_type": "markdown",
   "metadata": {},
   "source": [
    "**Nota bene:** Please stand still for a second and realise that, in order to make the last mentioned `.query()` method work, only a \"humanized\" looking string needed to be passed-in as an argument. It seems to \"just work auto-magically\"...\n",
    "\n",
    "Under the hood, `.query()` utilises the (not yet explained) `.eval()` method of `pandas`, which is - in general - able to evaluate strings to derive column-wise vectorised operations from. How magical and convenient that may be (it is very cool actually!) it also allows `.eval()` to execute arbitrary code. So be careful when using it on an interface where others (users, bots) are allowed to pass their (potentially dangerous) input strings as `.eval()` arguments!"
   ]
  },
  {
   "cell_type": "markdown",
   "metadata": {},
   "source": [
    "# What did we learn, hopefully?\n",
    "Hopefully you've learned that `pandas` provides you with techniques for filtering data based on one or more conditional filters. When using bitwise operators `&` / `|`, or boolean operators `and` / `or` (using `.query()`), keep in mind you're writing expressions about which rows you want to **keep** (not drop).\n",
    "\n",
    "### Thank you for your time!"
   ]
  },
  {
   "cell_type": "markdown",
   "metadata": {},
   "source": [
    "### Curriculum (of the `Learn Python Series`):\n",
    "\n",
    "- [Learn Python Series - Intro](https://steemit.com/utopian-io/@scipio/learn-python-series-intro)\n",
    "- [Learn Python Series (#2) - Handling Strings Part 1](https://steemit.com/utopian-io/@scipio/learn-python-series-2-handling-strings-part-1)\n",
    "- [Learn Python Series (#3) - Handling Strings Part 2](https://steemit.com/utopian-io/@scipio/learn-python-series-3-handling-strings-part-2)\n",
    "- [Learn Python Series (#4) - Round-Up #1](https://steemit.com/utopian-io/@scipio/learn-python-series-4-round-up-1)\n",
    "- [Learn Python Series (#5) - Handling Lists Part 1](https://steemit.com/utopian-io/@scipio/learn-python-series-5-handling-lists-part-1)\n",
    "- [Learn Python Series (#6) - Handling Lists Part 2](https://steemit.com/utopian-io/@scipio/learn-python-series-6-handling-lists-part-2)\n",
    "- [Learn Python Series (#7) - Handling Dictionaries](https://steemit.com/utopian-io/@scipio/learn-python-series-7-handling-dictionaries)\n",
    "- [Learn Python Series (#8) - Handling Tuples](https://steemit.com/utopian-io/@scipio/learn-python-series-8-handling-tuples)\n",
    "- [Learn Python Series (#9) - Using Import](https://steemit.com/utopian-io/@scipio/learn-python-series-9-using-import)\n",
    "- [Learn Python Series (#10) - Matplotlib Part 1](https://steemit.com/utopian-io/@scipio/learn-python-series-10-matplotlib-part-1)\n",
    "- [Learn Python Series (#11) - NumPy Part 1](https://steemit.com/utopian-io/@scipio/learn-python-series-11-numpy-part-1)\n",
    "- [Learn Python Series (#12) - Handling Files](https://steemit.com/utopian-io/@scipio/learn-python-series-12-handling-files)\n",
    "- [Learn Python Series (#13) - Mini Project - Developing a Web Crawler Part 1](https://steemit.com/utopian-io/@scipio/learn-python-series-13-mini-project-developing-a-web-crawler-part-1)\n",
    "- [Learn Python Series (#14) - Mini Project - Developing a Web Crawler Part 2](https://steemit.com/utopian-io/@scipio/learn-python-series-14-mini-project-developing-a-web-crawler-part-2)\n",
    "- [Learn Python Series (#15) - Handling JSON](https://steemit.com/utopian-io/@scipio/learn-python-series-15-handling-json)\n",
    "- [Learn Python Series (#16) - Mini Project - Developing a Web Crawler Part 3](https://steemit.com/utopian-io/@scipio/learn-python-series-16-mini-project-developing-a-web-crawler-part-3)\n",
    "- [Learn Python Series (#17) - Roundup #2 - Combining and analyzing any-to-any multi-currency historical data](https://steemit.com/utopian-io/@scipio/learn-python-series-17-roundup-2-combining-and-analyzing-any-to-any-multi-currency-historical-data)\n",
    "- [Learn Python Series (#18) - PyMongo Part 1](https://steemit.com/utopian-io/@scipio/learn-python-series-18-pymongo-part-1)\n",
    "- [Learn Python Series (#19) - PyMongo Part 2](https://steemit.com/utopian-io/@scipio/learn-python-series-19-pymongo-part-2)\n",
    "- [Learn Python Series (#20) - PyMongo Part 3](https://steemit.com/utopian-io/@scipio/learn-python-series-20-pymongo-part-3)\n",
    "- [Learn Python Series (#21) - Handling Dates and Time Part 1](https://steemit.com/utopian-io/@scipio/learn-python-series-21-handling-dates-and-time-part-1)\n",
    "- [Learn Python Series (#22) - Handling Dates and Time Part 2](https://steemit.com/utopian-io/@scipio/learn-python-series-22-handling-dates-and-time-part-2)\n",
    "- [Learn Python Series (#23) - Handling Regular Expressions Part 1](https://steemit.com/utopian-io/@scipio/learn-python-series-23-handling-regular-expressions-part-1)\n",
    "- [Learn Python Series (#24) - Handling Regular Expressions Part 2](https://steemit.com/utopian-io/@scipio/learn-python-series-24-handling-regular-expressions-part-2)\n",
    "- [Learn Python Series (#25) - Handling Regular Expressions Part 3](https://steemit.com/utopian-io/@scipio/learn-python-series-25-handling-regular-expressions-part-3)\n",
    "- [Learn Python Series (#26) - pipenv & Visual Studio Code](https://steemit.com/utopian-io/@scipio/learn-python-series-26-pipenv-and-visual-studio-code)\n",
    "- [Learn Python Series (#27) - Handling Strings Part 3 (F-Strings)](https://steemit.com/utopian-io/@scipio/learn-python-series-27-handling-strings-part-3-f-strings)\n",
    "- [Learn Python Series (#28) - Using Pickle and Shelve](https://steemit.com/utopian-io/@scipio/learn-python-series-28-using-pickle-and-shelve)\n",
    "- [Learn Python Series (#29) - Handling CSV](https://steemit.com/utopian-io/@scipio/learn-python-series-29-handling-csv)\n",
    "- [Learn Python Series (#30) - Data Science Part 1 - Pandas](https://steemit.com/utopian-io/@scipio/learn-python-series-30-data-science-part-1-pandas)\n",
    "- [Learn Python Series (#31) - Data Science Part 2 - Pandas](https://steemit.com/utopian-io/@scipio/learn-python-series-31-data-science-part-2-pandas)\n",
    "- [Learn Python Series (#32) - Data Science Part 3 - Pandas](https://steemit.com/utopian-io/@scipio/learn-python-series-32-data-science-part-3-pandas)"
   ]
  }
 ],
 "metadata": {
  "kernelspec": {
   "display_name": "Python 3",
   "language": "python",
   "name": "python3"
  },
  "language_info": {
   "codemirror_mode": {
    "name": "ipython",
    "version": 3
   },
   "file_extension": ".py",
   "mimetype": "text/x-python",
   "name": "python",
   "nbconvert_exporter": "python",
   "pygments_lexer": "ipython3",
   "version": "3.7.3"
  }
 },
 "nbformat": 4,
 "nbformat_minor": 2
}
